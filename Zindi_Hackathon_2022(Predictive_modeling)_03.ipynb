{
 "cells": [
  {
   "cell_type": "code",
   "execution_count": 2,
   "id": "9e187361",
   "metadata": {},
   "outputs": [],
   "source": [
    "import pandas as pd\n",
    "import numpy as np\n",
    "import seaborn as sns\n",
    "import matplotlib.pyplot as plt"
   ]
  },
  {
   "cell_type": "code",
   "execution_count": 3,
   "id": "14298e46",
   "metadata": {},
   "outputs": [
    {
     "data": {
      "text/html": [
       "<div>\n",
       "<style scoped>\n",
       "    .dataframe tbody tr th:only-of-type {\n",
       "        vertical-align: middle;\n",
       "    }\n",
       "\n",
       "    .dataframe tbody tr th {\n",
       "        vertical-align: top;\n",
       "    }\n",
       "\n",
       "    .dataframe thead th {\n",
       "        text-align: right;\n",
       "    }\n",
       "</style>\n",
       "<table border=\"1\" class=\"dataframe\">\n",
       "  <thead>\n",
       "    <tr style=\"text-align: right;\">\n",
       "      <th></th>\n",
       "      <th>VehicleID</th>\n",
       "      <th>Location</th>\n",
       "      <th>Maker</th>\n",
       "      <th>Model</th>\n",
       "      <th>Year</th>\n",
       "      <th>Colour</th>\n",
       "      <th>Amount (Million Naira)</th>\n",
       "      <th>Type</th>\n",
       "      <th>Distance</th>\n",
       "    </tr>\n",
       "  </thead>\n",
       "  <tbody>\n",
       "    <tr>\n",
       "      <th>2200</th>\n",
       "      <td>VHL15679</td>\n",
       "      <td>Ibadan</td>\n",
       "      <td>Honda</td>\n",
       "      <td>Accord 2.4 Type S Automatic</td>\n",
       "      <td>2004</td>\n",
       "      <td>Purple</td>\n",
       "      <td>0.68</td>\n",
       "      <td>Nigerian Used</td>\n",
       "      <td>304483.00</td>\n",
       "    </tr>\n",
       "    <tr>\n",
       "      <th>272</th>\n",
       "      <td>VHL13679</td>\n",
       "      <td>Lagos</td>\n",
       "      <td>Lexus</td>\n",
       "      <td>GX 460 Luxury</td>\n",
       "      <td>2016</td>\n",
       "      <td>White</td>\n",
       "      <td>27.00</td>\n",
       "      <td>Foreign Used</td>\n",
       "      <td>65000.00</td>\n",
       "    </tr>\n",
       "    <tr>\n",
       "      <th>6502</th>\n",
       "      <td>VHL13968</td>\n",
       "      <td>Abuja</td>\n",
       "      <td>Toyota</td>\n",
       "      <td>Corolla</td>\n",
       "      <td>2009</td>\n",
       "      <td>Gray</td>\n",
       "      <td>1.55</td>\n",
       "      <td>Nigerian Used</td>\n",
       "      <td>149082.71</td>\n",
       "    </tr>\n",
       "    <tr>\n",
       "      <th>4315</th>\n",
       "      <td>VHL16270</td>\n",
       "      <td>Abuja</td>\n",
       "      <td>Hyundai</td>\n",
       "      <td>Sonata</td>\n",
       "      <td>2011</td>\n",
       "      <td>Gray</td>\n",
       "      <td>3.20</td>\n",
       "      <td>Foreign Used</td>\n",
       "      <td>100000.00</td>\n",
       "    </tr>\n",
       "    <tr>\n",
       "      <th>4138</th>\n",
       "      <td>VHL11347</td>\n",
       "      <td>Lagos</td>\n",
       "      <td>Toyota</td>\n",
       "      <td>Camry</td>\n",
       "      <td>2009</td>\n",
       "      <td>Gray</td>\n",
       "      <td>3.25</td>\n",
       "      <td>Foreign Used</td>\n",
       "      <td>70000.00</td>\n",
       "    </tr>\n",
       "  </tbody>\n",
       "</table>\n",
       "</div>"
      ],
      "text/plain": [
       "     VehicleID Location    Maker                        Model  Year  Colour  \\\n",
       "2200  VHL15679   Ibadan    Honda  Accord 2.4 Type S Automatic  2004  Purple   \n",
       "272   VHL13679    Lagos    Lexus                GX 460 Luxury  2016   White   \n",
       "6502  VHL13968    Abuja   Toyota                      Corolla  2009    Gray   \n",
       "4315  VHL16270    Abuja  Hyundai                       Sonata  2011    Gray   \n",
       "4138  VHL11347    Lagos   Toyota                        Camry  2009    Gray   \n",
       "\n",
       "      Amount (Million Naira)           Type   Distance  \n",
       "2200                    0.68  Nigerian Used  304483.00  \n",
       "272                    27.00   Foreign Used   65000.00  \n",
       "6502                    1.55  Nigerian Used  149082.71  \n",
       "4315                    3.20   Foreign Used  100000.00  \n",
       "4138                    3.25   Foreign Used   70000.00  "
      ]
     },
     "execution_count": 3,
     "metadata": {},
     "output_type": "execute_result"
    }
   ],
   "source": [
    "train = pd.read_csv('train_cleaned02.csv', index_col=0)\n",
    "train.head()"
   ]
  },
  {
   "cell_type": "code",
   "execution_count": 4,
   "id": "07ce89b6",
   "metadata": {},
   "outputs": [
    {
     "data": {
      "text/plain": [
       "Lagos     3310\n",
       "Abuja     3254\n",
       "Ibadan     624\n",
       "Name: Location, dtype: int64"
      ]
     },
     "execution_count": 4,
     "metadata": {},
     "output_type": "execute_result"
    }
   ],
   "source": [
    "train.Location.value_counts()"
   ]
  },
  {
   "cell_type": "code",
   "execution_count": 5,
   "id": "16557cf7",
   "metadata": {},
   "outputs": [
    {
     "data": {
      "text/plain": [
       "(7188, 9)"
      ]
     },
     "execution_count": 5,
     "metadata": {},
     "output_type": "execute_result"
    }
   ],
   "source": [
    "train.shape"
   ]
  },
  {
   "cell_type": "code",
   "execution_count": 6,
   "id": "b1551cf8",
   "metadata": {},
   "outputs": [
    {
     "name": "stdout",
     "output_type": "stream",
     "text": [
      "<class 'pandas.core.frame.DataFrame'>\n",
      "Int64Index: 7188 entries, 2200 to 479\n",
      "Data columns (total 9 columns):\n",
      " #   Column                  Non-Null Count  Dtype  \n",
      "---  ------                  --------------  -----  \n",
      " 0   VehicleID               7188 non-null   object \n",
      " 1   Location                7188 non-null   object \n",
      " 2   Maker                   7188 non-null   object \n",
      " 3   Model                   7188 non-null   object \n",
      " 4   Year                    7188 non-null   int64  \n",
      " 5   Colour                  7188 non-null   object \n",
      " 6   Amount (Million Naira)  7188 non-null   float64\n",
      " 7   Type                    7188 non-null   object \n",
      " 8   Distance                7188 non-null   float64\n",
      "dtypes: float64(2), int64(1), object(6)\n",
      "memory usage: 561.6+ KB\n"
     ]
    }
   ],
   "source": [
    "train.info()"
   ]
  },
  {
   "cell_type": "code",
   "execution_count": 7,
   "id": "9fc29b2d",
   "metadata": {},
   "outputs": [
    {
     "data": {
      "text/plain": [
       "VehicleID                 0\n",
       "Location                  0\n",
       "Maker                     0\n",
       "Model                     0\n",
       "Year                      0\n",
       "Colour                    0\n",
       "Amount (Million Naira)    0\n",
       "Type                      0\n",
       "Distance                  0\n",
       "dtype: int64"
      ]
     },
     "execution_count": 7,
     "metadata": {},
     "output_type": "execute_result"
    }
   ],
   "source": [
    "train.isnull().sum()"
   ]
  },
  {
   "cell_type": "code",
   "execution_count": 8,
   "id": "7a781448",
   "metadata": {},
   "outputs": [
    {
     "data": {
      "text/plain": [
       "0"
      ]
     },
     "execution_count": 8,
     "metadata": {},
     "output_type": "execute_result"
    }
   ],
   "source": [
    "train.duplicated().sum()"
   ]
  },
  {
   "cell_type": "markdown",
   "id": "376e5bde",
   "metadata": {},
   "source": [
    "There are no null values of duplicates in this data. I will proceed to drop irrelevant features."
   ]
  },
  {
   "cell_type": "code",
   "execution_count": 9,
   "id": "33c7c572",
   "metadata": {},
   "outputs": [
    {
     "data": {
      "text/plain": [
       "1221"
      ]
     },
     "execution_count": 9,
     "metadata": {},
     "output_type": "execute_result"
    }
   ],
   "source": [
    "len(train.Model.unique())"
   ]
  },
  {
   "cell_type": "code",
   "execution_count": 10,
   "id": "bbc86f08",
   "metadata": {},
   "outputs": [
    {
     "data": {
      "text/html": [
       "<div>\n",
       "<style scoped>\n",
       "    .dataframe tbody tr th:only-of-type {\n",
       "        vertical-align: middle;\n",
       "    }\n",
       "\n",
       "    .dataframe tbody tr th {\n",
       "        vertical-align: top;\n",
       "    }\n",
       "\n",
       "    .dataframe thead th {\n",
       "        text-align: right;\n",
       "    }\n",
       "</style>\n",
       "<table border=\"1\" class=\"dataframe\">\n",
       "  <thead>\n",
       "    <tr style=\"text-align: right;\">\n",
       "      <th></th>\n",
       "      <th>VehicleID</th>\n",
       "      <th>Location</th>\n",
       "      <th>Maker</th>\n",
       "      <th>Model</th>\n",
       "      <th>Year</th>\n",
       "      <th>Colour</th>\n",
       "      <th>Type</th>\n",
       "      <th>Distance</th>\n",
       "    </tr>\n",
       "  </thead>\n",
       "  <tbody>\n",
       "    <tr>\n",
       "      <th>44</th>\n",
       "      <td>VHL16720</td>\n",
       "      <td>Lagos</td>\n",
       "      <td>Mercedes-Benz</td>\n",
       "      <td>GLK-Class</td>\n",
       "      <td>2015</td>\n",
       "      <td>White</td>\n",
       "      <td>Foreign Used</td>\n",
       "      <td>90903.72</td>\n",
       "    </tr>\n",
       "    <tr>\n",
       "      <th>1551</th>\n",
       "      <td>VHL10567</td>\n",
       "      <td>Ibadan</td>\n",
       "      <td>Toyota</td>\n",
       "      <td>Matrix</td>\n",
       "      <td>2004</td>\n",
       "      <td>Blue</td>\n",
       "      <td>Foreign Used</td>\n",
       "      <td>153807.00</td>\n",
       "    </tr>\n",
       "    <tr>\n",
       "      <th>566</th>\n",
       "      <td>VHL14168</td>\n",
       "      <td>Abuja</td>\n",
       "      <td>Toyota</td>\n",
       "      <td>Rav4</td>\n",
       "      <td>2007</td>\n",
       "      <td>Black</td>\n",
       "      <td>Brand New</td>\n",
       "      <td>120050.00</td>\n",
       "    </tr>\n",
       "    <tr>\n",
       "      <th>1129</th>\n",
       "      <td>VHL19965</td>\n",
       "      <td>Lagos</td>\n",
       "      <td>Lexus</td>\n",
       "      <td>ES</td>\n",
       "      <td>2007</td>\n",
       "      <td>White</td>\n",
       "      <td>Foreign Used</td>\n",
       "      <td>36580.00</td>\n",
       "    </tr>\n",
       "    <tr>\n",
       "      <th>84</th>\n",
       "      <td>VHL12369</td>\n",
       "      <td>Ibadan</td>\n",
       "      <td>Mercedes-Benz</td>\n",
       "      <td>C-Class C 350 (S204)</td>\n",
       "      <td>2009</td>\n",
       "      <td>Black</td>\n",
       "      <td>Foreign Used</td>\n",
       "      <td>110891.00</td>\n",
       "    </tr>\n",
       "  </tbody>\n",
       "</table>\n",
       "</div>"
      ],
      "text/plain": [
       "     VehicleID Location          Maker                 Model  Year Colour  \\\n",
       "44    VHL16720    Lagos  Mercedes-Benz             GLK-Class  2015  White   \n",
       "1551  VHL10567   Ibadan         Toyota                Matrix  2004   Blue   \n",
       "566   VHL14168    Abuja         Toyota                  Rav4  2007  Black   \n",
       "1129  VHL19965    Lagos          Lexus                    ES  2007  White   \n",
       "84    VHL12369   Ibadan  Mercedes-Benz  C-Class C 350 (S204)  2009  Black   \n",
       "\n",
       "              Type   Distance  \n",
       "44    Foreign Used   90903.72  \n",
       "1551  Foreign Used  153807.00  \n",
       "566      Brand New  120050.00  \n",
       "1129  Foreign Used   36580.00  \n",
       "84    Foreign Used  110891.00  "
      ]
     },
     "execution_count": 10,
     "metadata": {},
     "output_type": "execute_result"
    }
   ],
   "source": [
    "test = pd.read_csv('test_cleaned02.csv',index_col=0)\n",
    "test.head()"
   ]
  },
  {
   "cell_type": "code",
   "execution_count": 11,
   "id": "4e12dc92",
   "metadata": {},
   "outputs": [
    {
     "data": {
      "text/plain": [
       "(2061, 8)"
      ]
     },
     "execution_count": 11,
     "metadata": {},
     "output_type": "execute_result"
    }
   ],
   "source": [
    "test.shape"
   ]
  },
  {
   "cell_type": "code",
   "execution_count": 12,
   "id": "c552a311",
   "metadata": {},
   "outputs": [
    {
     "name": "stdout",
     "output_type": "stream",
     "text": [
      "<class 'pandas.core.frame.DataFrame'>\n",
      "Int64Index: 2061 entries, 44 to 377\n",
      "Data columns (total 8 columns):\n",
      " #   Column     Non-Null Count  Dtype  \n",
      "---  ------     --------------  -----  \n",
      " 0   VehicleID  2061 non-null   object \n",
      " 1   Location   2061 non-null   object \n",
      " 2   Maker      2061 non-null   object \n",
      " 3   Model      2061 non-null   object \n",
      " 4   Year       2061 non-null   int64  \n",
      " 5   Colour     2061 non-null   object \n",
      " 6   Type       2061 non-null   object \n",
      " 7   Distance   2061 non-null   float64\n",
      "dtypes: float64(1), int64(1), object(6)\n",
      "memory usage: 144.9+ KB\n"
     ]
    }
   ],
   "source": [
    "test.info()"
   ]
  },
  {
   "cell_type": "code",
   "execution_count": 13,
   "id": "9b2a4c98",
   "metadata": {},
   "outputs": [
    {
     "data": {
      "text/plain": [
       "VehicleID    0\n",
       "Location     0\n",
       "Maker        0\n",
       "Model        0\n",
       "Year         0\n",
       "Colour       0\n",
       "Type         0\n",
       "Distance     0\n",
       "dtype: int64"
      ]
     },
     "execution_count": 13,
     "metadata": {},
     "output_type": "execute_result"
    }
   ],
   "source": [
    "test.isnull().sum()"
   ]
  },
  {
   "cell_type": "code",
   "execution_count": 14,
   "id": "1f2c3dc5",
   "metadata": {},
   "outputs": [
    {
     "data": {
      "text/plain": [
       "0"
      ]
     },
     "execution_count": 14,
     "metadata": {},
     "output_type": "execute_result"
    }
   ],
   "source": [
    "test.duplicated().sum()"
   ]
  },
  {
   "cell_type": "markdown",
   "id": "8482e3e2",
   "metadata": {},
   "source": [
    "There are no null values of duplicates in this data. I will proceed to drop irrelevant features."
   ]
  },
  {
   "cell_type": "code",
   "execution_count": 15,
   "id": "01b73948",
   "metadata": {},
   "outputs": [
    {
     "data": {
      "text/plain": [
       "587"
      ]
     },
     "execution_count": 15,
     "metadata": {},
     "output_type": "execute_result"
    }
   ],
   "source": [
    "len(test.Model.unique())"
   ]
  },
  {
   "cell_type": "markdown",
   "id": "64b2c5a5",
   "metadata": {},
   "source": [
    "Creating dummy variables for the object column"
   ]
  },
  {
   "cell_type": "code",
   "execution_count": 16,
   "id": "46f1dd80",
   "metadata": {},
   "outputs": [],
   "source": [
    "from sklearn.preprocessing import LabelEncoder\n",
    "le = LabelEncoder()"
   ]
  },
  {
   "cell_type": "code",
   "execution_count": 17,
   "id": "60200334",
   "metadata": {},
   "outputs": [],
   "source": [
    "train['Location'] = le.fit_transform(train['Location'])\n",
    "train['Maker'] = le.fit_transform(train['Maker'])\n",
    "train['Colour'] = le.fit_transform(train['Colour'])\n",
    "train['Type'] = le.fit_transform(train['Type'])"
   ]
  },
  {
   "cell_type": "code",
   "execution_count": 18,
   "id": "18bb1b63",
   "metadata": {},
   "outputs": [],
   "source": [
    "test['Location'] = le.fit_transform(test['Location'])\n",
    "test['Maker'] = le.fit_transform(test['Maker'])\n",
    "test['Colour'] = le.fit_transform(test['Colour'])\n",
    "test['Type'] = le.fit_transform(test['Type'])"
   ]
  },
  {
   "cell_type": "code",
   "execution_count": 19,
   "id": "90eb6bb7",
   "metadata": {},
   "outputs": [
    {
     "data": {
      "text/plain": [
       "1     2118\n",
       "7     1152\n",
       "16    1120\n",
       "19    1018\n",
       "2      553\n",
       "15     478\n",
       "6      356\n",
       "8      179\n",
       "3      114\n",
       "4       26\n",
       "0       25\n",
       "14      16\n",
       "11      11\n",
       "20       7\n",
       "13       7\n",
       "9        3\n",
       "12       1\n",
       "5        1\n",
       "18       1\n",
       "17       1\n",
       "10       1\n",
       "Name: Colour, dtype: int64"
      ]
     },
     "execution_count": 19,
     "metadata": {},
     "output_type": "execute_result"
    }
   ],
   "source": [
    "train.Colour.value_counts()"
   ]
  },
  {
   "cell_type": "code",
   "execution_count": 20,
   "id": "10066c84",
   "metadata": {},
   "outputs": [
    {
     "data": {
      "text/html": [
       "<div>\n",
       "<style scoped>\n",
       "    .dataframe tbody tr th:only-of-type {\n",
       "        vertical-align: middle;\n",
       "    }\n",
       "\n",
       "    .dataframe tbody tr th {\n",
       "        vertical-align: top;\n",
       "    }\n",
       "\n",
       "    .dataframe thead th {\n",
       "        text-align: right;\n",
       "    }\n",
       "</style>\n",
       "<table border=\"1\" class=\"dataframe\">\n",
       "  <thead>\n",
       "    <tr style=\"text-align: right;\">\n",
       "      <th></th>\n",
       "      <th>VehicleID</th>\n",
       "      <th>Location</th>\n",
       "      <th>Maker</th>\n",
       "      <th>Model</th>\n",
       "      <th>Year</th>\n",
       "      <th>Colour</th>\n",
       "      <th>Amount (Million Naira)</th>\n",
       "      <th>Type</th>\n",
       "      <th>Distance</th>\n",
       "    </tr>\n",
       "  </thead>\n",
       "  <tbody>\n",
       "    <tr>\n",
       "      <th>2200</th>\n",
       "      <td>VHL15679</td>\n",
       "      <td>1</td>\n",
       "      <td>17</td>\n",
       "      <td>Accord 2.4 Type S Automatic</td>\n",
       "      <td>2004</td>\n",
       "      <td>14</td>\n",
       "      <td>0.68</td>\n",
       "      <td>2</td>\n",
       "      <td>304483.00</td>\n",
       "    </tr>\n",
       "    <tr>\n",
       "      <th>272</th>\n",
       "      <td>VHL13679</td>\n",
       "      <td>2</td>\n",
       "      <td>29</td>\n",
       "      <td>GX 460 Luxury</td>\n",
       "      <td>2016</td>\n",
       "      <td>19</td>\n",
       "      <td>27.00</td>\n",
       "      <td>1</td>\n",
       "      <td>65000.00</td>\n",
       "    </tr>\n",
       "    <tr>\n",
       "      <th>6502</th>\n",
       "      <td>VHL13968</td>\n",
       "      <td>0</td>\n",
       "      <td>52</td>\n",
       "      <td>Corolla</td>\n",
       "      <td>2009</td>\n",
       "      <td>7</td>\n",
       "      <td>1.55</td>\n",
       "      <td>2</td>\n",
       "      <td>149082.71</td>\n",
       "    </tr>\n",
       "    <tr>\n",
       "      <th>4315</th>\n",
       "      <td>VHL16270</td>\n",
       "      <td>0</td>\n",
       "      <td>19</td>\n",
       "      <td>Sonata</td>\n",
       "      <td>2011</td>\n",
       "      <td>7</td>\n",
       "      <td>3.20</td>\n",
       "      <td>1</td>\n",
       "      <td>100000.00</td>\n",
       "    </tr>\n",
       "    <tr>\n",
       "      <th>4138</th>\n",
       "      <td>VHL11347</td>\n",
       "      <td>2</td>\n",
       "      <td>52</td>\n",
       "      <td>Camry</td>\n",
       "      <td>2009</td>\n",
       "      <td>7</td>\n",
       "      <td>3.25</td>\n",
       "      <td>1</td>\n",
       "      <td>70000.00</td>\n",
       "    </tr>\n",
       "  </tbody>\n",
       "</table>\n",
       "</div>"
      ],
      "text/plain": [
       "     VehicleID  Location  Maker                        Model  Year  Colour  \\\n",
       "2200  VHL15679         1     17  Accord 2.4 Type S Automatic  2004      14   \n",
       "272   VHL13679         2     29                GX 460 Luxury  2016      19   \n",
       "6502  VHL13968         0     52                      Corolla  2009       7   \n",
       "4315  VHL16270         0     19                       Sonata  2011       7   \n",
       "4138  VHL11347         2     52                        Camry  2009       7   \n",
       "\n",
       "      Amount (Million Naira)  Type   Distance  \n",
       "2200                    0.68     2  304483.00  \n",
       "272                    27.00     1   65000.00  \n",
       "6502                    1.55     2  149082.71  \n",
       "4315                    3.20     1  100000.00  \n",
       "4138                    3.25     1   70000.00  "
      ]
     },
     "execution_count": 20,
     "metadata": {},
     "output_type": "execute_result"
    }
   ],
   "source": [
    "train.head()"
   ]
  },
  {
   "cell_type": "code",
   "execution_count": 21,
   "id": "0a3f4c4b",
   "metadata": {},
   "outputs": [
    {
     "data": {
      "text/html": [
       "<div>\n",
       "<style scoped>\n",
       "    .dataframe tbody tr th:only-of-type {\n",
       "        vertical-align: middle;\n",
       "    }\n",
       "\n",
       "    .dataframe tbody tr th {\n",
       "        vertical-align: top;\n",
       "    }\n",
       "\n",
       "    .dataframe thead th {\n",
       "        text-align: right;\n",
       "    }\n",
       "</style>\n",
       "<table border=\"1\" class=\"dataframe\">\n",
       "  <thead>\n",
       "    <tr style=\"text-align: right;\">\n",
       "      <th></th>\n",
       "      <th>VehicleID</th>\n",
       "      <th>Location</th>\n",
       "      <th>Maker</th>\n",
       "      <th>Model</th>\n",
       "      <th>Year</th>\n",
       "      <th>Colour</th>\n",
       "      <th>Type</th>\n",
       "      <th>Distance</th>\n",
       "    </tr>\n",
       "  </thead>\n",
       "  <tbody>\n",
       "    <tr>\n",
       "      <th>44</th>\n",
       "      <td>VHL16720</td>\n",
       "      <td>2</td>\n",
       "      <td>24</td>\n",
       "      <td>GLK-Class</td>\n",
       "      <td>2015</td>\n",
       "      <td>16</td>\n",
       "      <td>1</td>\n",
       "      <td>90903.72</td>\n",
       "    </tr>\n",
       "    <tr>\n",
       "      <th>1551</th>\n",
       "      <td>VHL10567</td>\n",
       "      <td>1</td>\n",
       "      <td>37</td>\n",
       "      <td>Matrix</td>\n",
       "      <td>2004</td>\n",
       "      <td>3</td>\n",
       "      <td>1</td>\n",
       "      <td>153807.00</td>\n",
       "    </tr>\n",
       "    <tr>\n",
       "      <th>566</th>\n",
       "      <td>VHL14168</td>\n",
       "      <td>0</td>\n",
       "      <td>37</td>\n",
       "      <td>Rav4</td>\n",
       "      <td>2007</td>\n",
       "      <td>2</td>\n",
       "      <td>0</td>\n",
       "      <td>120050.00</td>\n",
       "    </tr>\n",
       "    <tr>\n",
       "      <th>1129</th>\n",
       "      <td>VHL19965</td>\n",
       "      <td>2</td>\n",
       "      <td>20</td>\n",
       "      <td>ES</td>\n",
       "      <td>2007</td>\n",
       "      <td>16</td>\n",
       "      <td>1</td>\n",
       "      <td>36580.00</td>\n",
       "    </tr>\n",
       "    <tr>\n",
       "      <th>84</th>\n",
       "      <td>VHL12369</td>\n",
       "      <td>1</td>\n",
       "      <td>24</td>\n",
       "      <td>C-Class C 350 (S204)</td>\n",
       "      <td>2009</td>\n",
       "      <td>2</td>\n",
       "      <td>1</td>\n",
       "      <td>110891.00</td>\n",
       "    </tr>\n",
       "  </tbody>\n",
       "</table>\n",
       "</div>"
      ],
      "text/plain": [
       "     VehicleID  Location  Maker                 Model  Year  Colour  Type  \\\n",
       "44    VHL16720         2     24             GLK-Class  2015      16     1   \n",
       "1551  VHL10567         1     37                Matrix  2004       3     1   \n",
       "566   VHL14168         0     37                  Rav4  2007       2     0   \n",
       "1129  VHL19965         2     20                    ES  2007      16     1   \n",
       "84    VHL12369         1     24  C-Class C 350 (S204)  2009       2     1   \n",
       "\n",
       "       Distance  \n",
       "44     90903.72  \n",
       "1551  153807.00  \n",
       "566   120050.00  \n",
       "1129   36580.00  \n",
       "84    110891.00  "
      ]
     },
     "execution_count": 21,
     "metadata": {},
     "output_type": "execute_result"
    }
   ],
   "source": [
    "test.head()"
   ]
  },
  {
   "cell_type": "code",
   "execution_count": 22,
   "id": "4cb6ab0d",
   "metadata": {},
   "outputs": [],
   "source": [
    "# sns.pairplot(train.iloc[:,:])"
   ]
  },
  {
   "cell_type": "code",
   "execution_count": 23,
   "id": "58cca40a",
   "metadata": {},
   "outputs": [],
   "source": [
    "# drop the Model and vehicleID columns\n",
    "x = train.drop(['VehicleID','Model','Amount (Million Naira)'], axis=1)\n",
    "y = train['Amount (Million Naira)']"
   ]
  },
  {
   "cell_type": "code",
   "execution_count": 24,
   "id": "a2073aaf",
   "metadata": {},
   "outputs": [],
   "source": [
    "# drop the Model and vehicleID columns\n",
    "X_test = test.drop(['VehicleID','Model'], axis=1)"
   ]
  },
  {
   "cell_type": "code",
   "execution_count": 25,
   "id": "cc3fdb6b",
   "metadata": {},
   "outputs": [
    {
     "data": {
      "text/html": [
       "<div>\n",
       "<style scoped>\n",
       "    .dataframe tbody tr th:only-of-type {\n",
       "        vertical-align: middle;\n",
       "    }\n",
       "\n",
       "    .dataframe tbody tr th {\n",
       "        vertical-align: top;\n",
       "    }\n",
       "\n",
       "    .dataframe thead th {\n",
       "        text-align: right;\n",
       "    }\n",
       "</style>\n",
       "<table border=\"1\" class=\"dataframe\">\n",
       "  <thead>\n",
       "    <tr style=\"text-align: right;\">\n",
       "      <th></th>\n",
       "      <th>Location</th>\n",
       "      <th>Maker</th>\n",
       "      <th>Year</th>\n",
       "      <th>Colour</th>\n",
       "      <th>Type</th>\n",
       "      <th>Distance</th>\n",
       "    </tr>\n",
       "  </thead>\n",
       "  <tbody>\n",
       "    <tr>\n",
       "      <th>2200</th>\n",
       "      <td>1</td>\n",
       "      <td>17</td>\n",
       "      <td>2004</td>\n",
       "      <td>14</td>\n",
       "      <td>2</td>\n",
       "      <td>304483.00</td>\n",
       "    </tr>\n",
       "    <tr>\n",
       "      <th>272</th>\n",
       "      <td>2</td>\n",
       "      <td>29</td>\n",
       "      <td>2016</td>\n",
       "      <td>19</td>\n",
       "      <td>1</td>\n",
       "      <td>65000.00</td>\n",
       "    </tr>\n",
       "    <tr>\n",
       "      <th>6502</th>\n",
       "      <td>0</td>\n",
       "      <td>52</td>\n",
       "      <td>2009</td>\n",
       "      <td>7</td>\n",
       "      <td>2</td>\n",
       "      <td>149082.71</td>\n",
       "    </tr>\n",
       "    <tr>\n",
       "      <th>4315</th>\n",
       "      <td>0</td>\n",
       "      <td>19</td>\n",
       "      <td>2011</td>\n",
       "      <td>7</td>\n",
       "      <td>1</td>\n",
       "      <td>100000.00</td>\n",
       "    </tr>\n",
       "    <tr>\n",
       "      <th>4138</th>\n",
       "      <td>2</td>\n",
       "      <td>52</td>\n",
       "      <td>2009</td>\n",
       "      <td>7</td>\n",
       "      <td>1</td>\n",
       "      <td>70000.00</td>\n",
       "    </tr>\n",
       "  </tbody>\n",
       "</table>\n",
       "</div>"
      ],
      "text/plain": [
       "      Location  Maker  Year  Colour  Type   Distance\n",
       "2200         1     17  2004      14     2  304483.00\n",
       "272          2     29  2016      19     1   65000.00\n",
       "6502         0     52  2009       7     2  149082.71\n",
       "4315         0     19  2011       7     1  100000.00\n",
       "4138         2     52  2009       7     1   70000.00"
      ]
     },
     "execution_count": 25,
     "metadata": {},
     "output_type": "execute_result"
    }
   ],
   "source": [
    "x.head()"
   ]
  },
  {
   "cell_type": "code",
   "execution_count": 26,
   "id": "93145416",
   "metadata": {},
   "outputs": [],
   "source": [
    "# GBR.predict(np.array([[1,17,2024,14,2,30000.1]]))"
   ]
  },
  {
   "cell_type": "code",
   "execution_count": 27,
   "id": "53a9b4fb",
   "metadata": {},
   "outputs": [
    {
     "data": {
      "text/html": [
       "<div>\n",
       "<style scoped>\n",
       "    .dataframe tbody tr th:only-of-type {\n",
       "        vertical-align: middle;\n",
       "    }\n",
       "\n",
       "    .dataframe tbody tr th {\n",
       "        vertical-align: top;\n",
       "    }\n",
       "\n",
       "    .dataframe thead th {\n",
       "        text-align: right;\n",
       "    }\n",
       "</style>\n",
       "<table border=\"1\" class=\"dataframe\">\n",
       "  <thead>\n",
       "    <tr style=\"text-align: right;\">\n",
       "      <th></th>\n",
       "      <th>Location</th>\n",
       "      <th>Maker</th>\n",
       "      <th>Year</th>\n",
       "      <th>Colour</th>\n",
       "      <th>Type</th>\n",
       "      <th>Distance</th>\n",
       "    </tr>\n",
       "  </thead>\n",
       "  <tbody>\n",
       "    <tr>\n",
       "      <th>44</th>\n",
       "      <td>2</td>\n",
       "      <td>24</td>\n",
       "      <td>2015</td>\n",
       "      <td>16</td>\n",
       "      <td>1</td>\n",
       "      <td>90903.72</td>\n",
       "    </tr>\n",
       "    <tr>\n",
       "      <th>1551</th>\n",
       "      <td>1</td>\n",
       "      <td>37</td>\n",
       "      <td>2004</td>\n",
       "      <td>3</td>\n",
       "      <td>1</td>\n",
       "      <td>153807.00</td>\n",
       "    </tr>\n",
       "    <tr>\n",
       "      <th>566</th>\n",
       "      <td>0</td>\n",
       "      <td>37</td>\n",
       "      <td>2007</td>\n",
       "      <td>2</td>\n",
       "      <td>0</td>\n",
       "      <td>120050.00</td>\n",
       "    </tr>\n",
       "    <tr>\n",
       "      <th>1129</th>\n",
       "      <td>2</td>\n",
       "      <td>20</td>\n",
       "      <td>2007</td>\n",
       "      <td>16</td>\n",
       "      <td>1</td>\n",
       "      <td>36580.00</td>\n",
       "    </tr>\n",
       "    <tr>\n",
       "      <th>84</th>\n",
       "      <td>1</td>\n",
       "      <td>24</td>\n",
       "      <td>2009</td>\n",
       "      <td>2</td>\n",
       "      <td>1</td>\n",
       "      <td>110891.00</td>\n",
       "    </tr>\n",
       "  </tbody>\n",
       "</table>\n",
       "</div>"
      ],
      "text/plain": [
       "      Location  Maker  Year  Colour  Type   Distance\n",
       "44           2     24  2015      16     1   90903.72\n",
       "1551         1     37  2004       3     1  153807.00\n",
       "566          0     37  2007       2     0  120050.00\n",
       "1129         2     20  2007      16     1   36580.00\n",
       "84           1     24  2009       2     1  110891.00"
      ]
     },
     "execution_count": 27,
     "metadata": {},
     "output_type": "execute_result"
    }
   ],
   "source": [
    "X_test.head()"
   ]
  },
  {
   "cell_type": "markdown",
   "id": "a0b44228",
   "metadata": {},
   "source": [
    "## Modelling"
   ]
  },
  {
   "cell_type": "code",
   "execution_count": 28,
   "id": "42532f26",
   "metadata": {},
   "outputs": [],
   "source": [
    "from sklearn.model_selection import train_test_split"
   ]
  },
  {
   "cell_type": "code",
   "execution_count": 29,
   "id": "5e7541b0",
   "metadata": {},
   "outputs": [],
   "source": [
    "x_train, x_test,y_train, y_test = train_test_split(x,y, test_size=0.15, random_state=1234)"
   ]
  },
  {
   "cell_type": "markdown",
   "id": "102c6ff9",
   "metadata": {},
   "source": [
    "## Linear Regression"
   ]
  },
  {
   "cell_type": "code",
   "execution_count": 30,
   "id": "61c646d4",
   "metadata": {},
   "outputs": [],
   "source": [
    "from sklearn.linear_model import LinearRegression"
   ]
  },
  {
   "cell_type": "code",
   "execution_count": 31,
   "id": "42636537",
   "metadata": {},
   "outputs": [],
   "source": [
    "LR = LinearRegression()"
   ]
  },
  {
   "cell_type": "code",
   "execution_count": 32,
   "id": "2398e529",
   "metadata": {},
   "outputs": [
    {
     "data": {
      "text/html": [
       "<style>#sk-container-id-1 {color: black;}#sk-container-id-1 pre{padding: 0;}#sk-container-id-1 div.sk-toggleable {background-color: white;}#sk-container-id-1 label.sk-toggleable__label {cursor: pointer;display: block;width: 100%;margin-bottom: 0;padding: 0.3em;box-sizing: border-box;text-align: center;}#sk-container-id-1 label.sk-toggleable__label-arrow:before {content: \"▸\";float: left;margin-right: 0.25em;color: #696969;}#sk-container-id-1 label.sk-toggleable__label-arrow:hover:before {color: black;}#sk-container-id-1 div.sk-estimator:hover label.sk-toggleable__label-arrow:before {color: black;}#sk-container-id-1 div.sk-toggleable__content {max-height: 0;max-width: 0;overflow: hidden;text-align: left;background-color: #f0f8ff;}#sk-container-id-1 div.sk-toggleable__content pre {margin: 0.2em;color: black;border-radius: 0.25em;background-color: #f0f8ff;}#sk-container-id-1 input.sk-toggleable__control:checked~div.sk-toggleable__content {max-height: 200px;max-width: 100%;overflow: auto;}#sk-container-id-1 input.sk-toggleable__control:checked~label.sk-toggleable__label-arrow:before {content: \"▾\";}#sk-container-id-1 div.sk-estimator input.sk-toggleable__control:checked~label.sk-toggleable__label {background-color: #d4ebff;}#sk-container-id-1 div.sk-label input.sk-toggleable__control:checked~label.sk-toggleable__label {background-color: #d4ebff;}#sk-container-id-1 input.sk-hidden--visually {border: 0;clip: rect(1px 1px 1px 1px);clip: rect(1px, 1px, 1px, 1px);height: 1px;margin: -1px;overflow: hidden;padding: 0;position: absolute;width: 1px;}#sk-container-id-1 div.sk-estimator {font-family: monospace;background-color: #f0f8ff;border: 1px dotted black;border-radius: 0.25em;box-sizing: border-box;margin-bottom: 0.5em;}#sk-container-id-1 div.sk-estimator:hover {background-color: #d4ebff;}#sk-container-id-1 div.sk-parallel-item::after {content: \"\";width: 100%;border-bottom: 1px solid gray;flex-grow: 1;}#sk-container-id-1 div.sk-label:hover label.sk-toggleable__label {background-color: #d4ebff;}#sk-container-id-1 div.sk-serial::before {content: \"\";position: absolute;border-left: 1px solid gray;box-sizing: border-box;top: 0;bottom: 0;left: 50%;z-index: 0;}#sk-container-id-1 div.sk-serial {display: flex;flex-direction: column;align-items: center;background-color: white;padding-right: 0.2em;padding-left: 0.2em;position: relative;}#sk-container-id-1 div.sk-item {position: relative;z-index: 1;}#sk-container-id-1 div.sk-parallel {display: flex;align-items: stretch;justify-content: center;background-color: white;position: relative;}#sk-container-id-1 div.sk-item::before, #sk-container-id-1 div.sk-parallel-item::before {content: \"\";position: absolute;border-left: 1px solid gray;box-sizing: border-box;top: 0;bottom: 0;left: 50%;z-index: -1;}#sk-container-id-1 div.sk-parallel-item {display: flex;flex-direction: column;z-index: 1;position: relative;background-color: white;}#sk-container-id-1 div.sk-parallel-item:first-child::after {align-self: flex-end;width: 50%;}#sk-container-id-1 div.sk-parallel-item:last-child::after {align-self: flex-start;width: 50%;}#sk-container-id-1 div.sk-parallel-item:only-child::after {width: 0;}#sk-container-id-1 div.sk-dashed-wrapped {border: 1px dashed gray;margin: 0 0.4em 0.5em 0.4em;box-sizing: border-box;padding-bottom: 0.4em;background-color: white;}#sk-container-id-1 div.sk-label label {font-family: monospace;font-weight: bold;display: inline-block;line-height: 1.2em;}#sk-container-id-1 div.sk-label-container {text-align: center;}#sk-container-id-1 div.sk-container {/* jupyter's `normalize.less` sets `[hidden] { display: none; }` but bootstrap.min.css set `[hidden] { display: none !important; }` so we also need the `!important` here to be able to override the default hidden behavior on the sphinx rendered scikit-learn.org. See: https://github.com/scikit-learn/scikit-learn/issues/21755 */display: inline-block !important;position: relative;}#sk-container-id-1 div.sk-text-repr-fallback {display: none;}</style><div id=\"sk-container-id-1\" class=\"sk-top-container\"><div class=\"sk-text-repr-fallback\"><pre>LinearRegression()</pre><b>In a Jupyter environment, please rerun this cell to show the HTML representation or trust the notebook. <br />On GitHub, the HTML representation is unable to render, please try loading this page with nbviewer.org.</b></div><div class=\"sk-container\" hidden><div class=\"sk-item\"><div class=\"sk-estimator sk-toggleable\"><input class=\"sk-toggleable__control sk-hidden--visually\" id=\"sk-estimator-id-1\" type=\"checkbox\" checked><label for=\"sk-estimator-id-1\" class=\"sk-toggleable__label sk-toggleable__label-arrow\">LinearRegression</label><div class=\"sk-toggleable__content\"><pre>LinearRegression()</pre></div></div></div></div></div>"
      ],
      "text/plain": [
       "LinearRegression()"
      ]
     },
     "execution_count": 32,
     "metadata": {},
     "output_type": "execute_result"
    }
   ],
   "source": [
    "LR.fit(x_train,y_train)"
   ]
  },
  {
   "cell_type": "code",
   "execution_count": 33,
   "id": "248ac545",
   "metadata": {},
   "outputs": [],
   "source": [
    "LR_pred = LR.predict(x_test)"
   ]
  },
  {
   "cell_type": "code",
   "execution_count": 34,
   "id": "35de8bd3",
   "metadata": {},
   "outputs": [],
   "source": [
    "from sklearn.metrics import mean_squared_error"
   ]
  },
  {
   "cell_type": "code",
   "execution_count": 35,
   "id": "37d24ead",
   "metadata": {},
   "outputs": [
    {
     "data": {
      "text/plain": [
       "805.107722333301"
      ]
     },
     "execution_count": 35,
     "metadata": {},
     "output_type": "execute_result"
    }
   ],
   "source": [
    "LR_mse = mean_squared_error(LR_pred,y_test)\n",
    "LR_mse"
   ]
  },
  {
   "cell_type": "code",
   "execution_count": 36,
   "id": "1bb541f3",
   "metadata": {},
   "outputs": [
    {
     "data": {
      "text/plain": [
       "28.374420211403457"
      ]
     },
     "execution_count": 36,
     "metadata": {},
     "output_type": "execute_result"
    }
   ],
   "source": [
    "LR_rmse = np.sqrt(LR_mse)\n",
    "LR_rmse"
   ]
  },
  {
   "cell_type": "markdown",
   "id": "fc1040b4",
   "metadata": {},
   "source": [
    "## Decission Trees Model"
   ]
  },
  {
   "cell_type": "code",
   "execution_count": 37,
   "id": "4ccbbb6b",
   "metadata": {},
   "outputs": [],
   "source": [
    "from sklearn.tree import DecisionTreeRegressor"
   ]
  },
  {
   "cell_type": "code",
   "execution_count": 38,
   "id": "51c7faf2",
   "metadata": {},
   "outputs": [],
   "source": [
    "DTR = DecisionTreeRegressor()"
   ]
  },
  {
   "cell_type": "code",
   "execution_count": 39,
   "id": "633073db",
   "metadata": {},
   "outputs": [
    {
     "data": {
      "text/html": [
       "<style>#sk-container-id-2 {color: black;}#sk-container-id-2 pre{padding: 0;}#sk-container-id-2 div.sk-toggleable {background-color: white;}#sk-container-id-2 label.sk-toggleable__label {cursor: pointer;display: block;width: 100%;margin-bottom: 0;padding: 0.3em;box-sizing: border-box;text-align: center;}#sk-container-id-2 label.sk-toggleable__label-arrow:before {content: \"▸\";float: left;margin-right: 0.25em;color: #696969;}#sk-container-id-2 label.sk-toggleable__label-arrow:hover:before {color: black;}#sk-container-id-2 div.sk-estimator:hover label.sk-toggleable__label-arrow:before {color: black;}#sk-container-id-2 div.sk-toggleable__content {max-height: 0;max-width: 0;overflow: hidden;text-align: left;background-color: #f0f8ff;}#sk-container-id-2 div.sk-toggleable__content pre {margin: 0.2em;color: black;border-radius: 0.25em;background-color: #f0f8ff;}#sk-container-id-2 input.sk-toggleable__control:checked~div.sk-toggleable__content {max-height: 200px;max-width: 100%;overflow: auto;}#sk-container-id-2 input.sk-toggleable__control:checked~label.sk-toggleable__label-arrow:before {content: \"▾\";}#sk-container-id-2 div.sk-estimator input.sk-toggleable__control:checked~label.sk-toggleable__label {background-color: #d4ebff;}#sk-container-id-2 div.sk-label input.sk-toggleable__control:checked~label.sk-toggleable__label {background-color: #d4ebff;}#sk-container-id-2 input.sk-hidden--visually {border: 0;clip: rect(1px 1px 1px 1px);clip: rect(1px, 1px, 1px, 1px);height: 1px;margin: -1px;overflow: hidden;padding: 0;position: absolute;width: 1px;}#sk-container-id-2 div.sk-estimator {font-family: monospace;background-color: #f0f8ff;border: 1px dotted black;border-radius: 0.25em;box-sizing: border-box;margin-bottom: 0.5em;}#sk-container-id-2 div.sk-estimator:hover {background-color: #d4ebff;}#sk-container-id-2 div.sk-parallel-item::after {content: \"\";width: 100%;border-bottom: 1px solid gray;flex-grow: 1;}#sk-container-id-2 div.sk-label:hover label.sk-toggleable__label {background-color: #d4ebff;}#sk-container-id-2 div.sk-serial::before {content: \"\";position: absolute;border-left: 1px solid gray;box-sizing: border-box;top: 0;bottom: 0;left: 50%;z-index: 0;}#sk-container-id-2 div.sk-serial {display: flex;flex-direction: column;align-items: center;background-color: white;padding-right: 0.2em;padding-left: 0.2em;position: relative;}#sk-container-id-2 div.sk-item {position: relative;z-index: 1;}#sk-container-id-2 div.sk-parallel {display: flex;align-items: stretch;justify-content: center;background-color: white;position: relative;}#sk-container-id-2 div.sk-item::before, #sk-container-id-2 div.sk-parallel-item::before {content: \"\";position: absolute;border-left: 1px solid gray;box-sizing: border-box;top: 0;bottom: 0;left: 50%;z-index: -1;}#sk-container-id-2 div.sk-parallel-item {display: flex;flex-direction: column;z-index: 1;position: relative;background-color: white;}#sk-container-id-2 div.sk-parallel-item:first-child::after {align-self: flex-end;width: 50%;}#sk-container-id-2 div.sk-parallel-item:last-child::after {align-self: flex-start;width: 50%;}#sk-container-id-2 div.sk-parallel-item:only-child::after {width: 0;}#sk-container-id-2 div.sk-dashed-wrapped {border: 1px dashed gray;margin: 0 0.4em 0.5em 0.4em;box-sizing: border-box;padding-bottom: 0.4em;background-color: white;}#sk-container-id-2 div.sk-label label {font-family: monospace;font-weight: bold;display: inline-block;line-height: 1.2em;}#sk-container-id-2 div.sk-label-container {text-align: center;}#sk-container-id-2 div.sk-container {/* jupyter's `normalize.less` sets `[hidden] { display: none; }` but bootstrap.min.css set `[hidden] { display: none !important; }` so we also need the `!important` here to be able to override the default hidden behavior on the sphinx rendered scikit-learn.org. See: https://github.com/scikit-learn/scikit-learn/issues/21755 */display: inline-block !important;position: relative;}#sk-container-id-2 div.sk-text-repr-fallback {display: none;}</style><div id=\"sk-container-id-2\" class=\"sk-top-container\"><div class=\"sk-text-repr-fallback\"><pre>DecisionTreeRegressor()</pre><b>In a Jupyter environment, please rerun this cell to show the HTML representation or trust the notebook. <br />On GitHub, the HTML representation is unable to render, please try loading this page with nbviewer.org.</b></div><div class=\"sk-container\" hidden><div class=\"sk-item\"><div class=\"sk-estimator sk-toggleable\"><input class=\"sk-toggleable__control sk-hidden--visually\" id=\"sk-estimator-id-2\" type=\"checkbox\" checked><label for=\"sk-estimator-id-2\" class=\"sk-toggleable__label sk-toggleable__label-arrow\">DecisionTreeRegressor</label><div class=\"sk-toggleable__content\"><pre>DecisionTreeRegressor()</pre></div></div></div></div></div>"
      ],
      "text/plain": [
       "DecisionTreeRegressor()"
      ]
     },
     "execution_count": 39,
     "metadata": {},
     "output_type": "execute_result"
    }
   ],
   "source": [
    "DTR.fit(x_train,y_train)"
   ]
  },
  {
   "cell_type": "code",
   "execution_count": 40,
   "id": "2136fe84",
   "metadata": {},
   "outputs": [],
   "source": [
    "DTR_pred = DTR.predict(x_test)"
   ]
  },
  {
   "cell_type": "code",
   "execution_count": 41,
   "id": "b21a547f",
   "metadata": {},
   "outputs": [],
   "source": [
    "# from sklearn.metrics import mean_squared_error"
   ]
  },
  {
   "cell_type": "code",
   "execution_count": 42,
   "id": "59d42319",
   "metadata": {},
   "outputs": [
    {
     "data": {
      "text/plain": [
       "313.2933069724582"
      ]
     },
     "execution_count": 42,
     "metadata": {},
     "output_type": "execute_result"
    }
   ],
   "source": [
    "DTR_mse = mean_squared_error(DTR_pred,y_test)\n",
    "DTR_mse"
   ]
  },
  {
   "cell_type": "code",
   "execution_count": 43,
   "id": "28de3066",
   "metadata": {},
   "outputs": [
    {
     "data": {
      "text/plain": [
       "17.70009341705456"
      ]
     },
     "execution_count": 43,
     "metadata": {},
     "output_type": "execute_result"
    }
   ],
   "source": [
    "DTR_rmse = np.sqrt(DTR_mse)\n",
    "DTR_rmse"
   ]
  },
  {
   "cell_type": "markdown",
   "id": "4ec1ecfc",
   "metadata": {},
   "source": [
    "## Random Forest Model"
   ]
  },
  {
   "cell_type": "code",
   "execution_count": 44,
   "id": "4f727c43",
   "metadata": {},
   "outputs": [],
   "source": [
    "from sklearn.ensemble import RandomForestRegressor"
   ]
  },
  {
   "cell_type": "code",
   "execution_count": 45,
   "id": "6776a916",
   "metadata": {},
   "outputs": [],
   "source": [
    "RFR = RandomForestRegressor()"
   ]
  },
  {
   "cell_type": "code",
   "execution_count": 46,
   "id": "2fd6d2eb",
   "metadata": {},
   "outputs": [
    {
     "data": {
      "text/html": [
       "<style>#sk-container-id-3 {color: black;}#sk-container-id-3 pre{padding: 0;}#sk-container-id-3 div.sk-toggleable {background-color: white;}#sk-container-id-3 label.sk-toggleable__label {cursor: pointer;display: block;width: 100%;margin-bottom: 0;padding: 0.3em;box-sizing: border-box;text-align: center;}#sk-container-id-3 label.sk-toggleable__label-arrow:before {content: \"▸\";float: left;margin-right: 0.25em;color: #696969;}#sk-container-id-3 label.sk-toggleable__label-arrow:hover:before {color: black;}#sk-container-id-3 div.sk-estimator:hover label.sk-toggleable__label-arrow:before {color: black;}#sk-container-id-3 div.sk-toggleable__content {max-height: 0;max-width: 0;overflow: hidden;text-align: left;background-color: #f0f8ff;}#sk-container-id-3 div.sk-toggleable__content pre {margin: 0.2em;color: black;border-radius: 0.25em;background-color: #f0f8ff;}#sk-container-id-3 input.sk-toggleable__control:checked~div.sk-toggleable__content {max-height: 200px;max-width: 100%;overflow: auto;}#sk-container-id-3 input.sk-toggleable__control:checked~label.sk-toggleable__label-arrow:before {content: \"▾\";}#sk-container-id-3 div.sk-estimator input.sk-toggleable__control:checked~label.sk-toggleable__label {background-color: #d4ebff;}#sk-container-id-3 div.sk-label input.sk-toggleable__control:checked~label.sk-toggleable__label {background-color: #d4ebff;}#sk-container-id-3 input.sk-hidden--visually {border: 0;clip: rect(1px 1px 1px 1px);clip: rect(1px, 1px, 1px, 1px);height: 1px;margin: -1px;overflow: hidden;padding: 0;position: absolute;width: 1px;}#sk-container-id-3 div.sk-estimator {font-family: monospace;background-color: #f0f8ff;border: 1px dotted black;border-radius: 0.25em;box-sizing: border-box;margin-bottom: 0.5em;}#sk-container-id-3 div.sk-estimator:hover {background-color: #d4ebff;}#sk-container-id-3 div.sk-parallel-item::after {content: \"\";width: 100%;border-bottom: 1px solid gray;flex-grow: 1;}#sk-container-id-3 div.sk-label:hover label.sk-toggleable__label {background-color: #d4ebff;}#sk-container-id-3 div.sk-serial::before {content: \"\";position: absolute;border-left: 1px solid gray;box-sizing: border-box;top: 0;bottom: 0;left: 50%;z-index: 0;}#sk-container-id-3 div.sk-serial {display: flex;flex-direction: column;align-items: center;background-color: white;padding-right: 0.2em;padding-left: 0.2em;position: relative;}#sk-container-id-3 div.sk-item {position: relative;z-index: 1;}#sk-container-id-3 div.sk-parallel {display: flex;align-items: stretch;justify-content: center;background-color: white;position: relative;}#sk-container-id-3 div.sk-item::before, #sk-container-id-3 div.sk-parallel-item::before {content: \"\";position: absolute;border-left: 1px solid gray;box-sizing: border-box;top: 0;bottom: 0;left: 50%;z-index: -1;}#sk-container-id-3 div.sk-parallel-item {display: flex;flex-direction: column;z-index: 1;position: relative;background-color: white;}#sk-container-id-3 div.sk-parallel-item:first-child::after {align-self: flex-end;width: 50%;}#sk-container-id-3 div.sk-parallel-item:last-child::after {align-self: flex-start;width: 50%;}#sk-container-id-3 div.sk-parallel-item:only-child::after {width: 0;}#sk-container-id-3 div.sk-dashed-wrapped {border: 1px dashed gray;margin: 0 0.4em 0.5em 0.4em;box-sizing: border-box;padding-bottom: 0.4em;background-color: white;}#sk-container-id-3 div.sk-label label {font-family: monospace;font-weight: bold;display: inline-block;line-height: 1.2em;}#sk-container-id-3 div.sk-label-container {text-align: center;}#sk-container-id-3 div.sk-container {/* jupyter's `normalize.less` sets `[hidden] { display: none; }` but bootstrap.min.css set `[hidden] { display: none !important; }` so we also need the `!important` here to be able to override the default hidden behavior on the sphinx rendered scikit-learn.org. See: https://github.com/scikit-learn/scikit-learn/issues/21755 */display: inline-block !important;position: relative;}#sk-container-id-3 div.sk-text-repr-fallback {display: none;}</style><div id=\"sk-container-id-3\" class=\"sk-top-container\"><div class=\"sk-text-repr-fallback\"><pre>RandomForestRegressor()</pre><b>In a Jupyter environment, please rerun this cell to show the HTML representation or trust the notebook. <br />On GitHub, the HTML representation is unable to render, please try loading this page with nbviewer.org.</b></div><div class=\"sk-container\" hidden><div class=\"sk-item\"><div class=\"sk-estimator sk-toggleable\"><input class=\"sk-toggleable__control sk-hidden--visually\" id=\"sk-estimator-id-3\" type=\"checkbox\" checked><label for=\"sk-estimator-id-3\" class=\"sk-toggleable__label sk-toggleable__label-arrow\">RandomForestRegressor</label><div class=\"sk-toggleable__content\"><pre>RandomForestRegressor()</pre></div></div></div></div></div>"
      ],
      "text/plain": [
       "RandomForestRegressor()"
      ]
     },
     "execution_count": 46,
     "metadata": {},
     "output_type": "execute_result"
    }
   ],
   "source": [
    "RFR.fit(x_train,y_train)"
   ]
  },
  {
   "cell_type": "code",
   "execution_count": 47,
   "id": "7a115e0b",
   "metadata": {},
   "outputs": [],
   "source": [
    "RFR_pred = RFR.predict(x_test)"
   ]
  },
  {
   "cell_type": "code",
   "execution_count": 48,
   "id": "cfe6ba4d",
   "metadata": {},
   "outputs": [],
   "source": [
    "# from sklearn.metrics import mean_squared_error"
   ]
  },
  {
   "cell_type": "code",
   "execution_count": 49,
   "id": "b49321b2",
   "metadata": {},
   "outputs": [
    {
     "data": {
      "text/plain": [
       "262.00275439965804"
      ]
     },
     "execution_count": 49,
     "metadata": {},
     "output_type": "execute_result"
    }
   ],
   "source": [
    "RFR_mse = mean_squared_error(RFR_pred,y_test)\n",
    "RFR_mse"
   ]
  },
  {
   "cell_type": "code",
   "execution_count": 50,
   "id": "fa64fc60",
   "metadata": {},
   "outputs": [
    {
     "data": {
      "text/plain": [
       "16.18649913970461"
      ]
     },
     "execution_count": 50,
     "metadata": {},
     "output_type": "execute_result"
    }
   ],
   "source": [
    "RFR_rmse = np.sqrt(RFR_mse)\n",
    "RFR_rmse"
   ]
  },
  {
   "cell_type": "markdown",
   "id": "d04b1d82",
   "metadata": {},
   "source": [
    "## Gradient Boosting Model"
   ]
  },
  {
   "cell_type": "code",
   "execution_count": 51,
   "id": "0f0947d3",
   "metadata": {},
   "outputs": [],
   "source": [
    "from sklearn.ensemble import GradientBoostingRegressor"
   ]
  },
  {
   "cell_type": "code",
   "execution_count": 52,
   "id": "1d1c9774",
   "metadata": {},
   "outputs": [],
   "source": [
    "GBR = GradientBoostingRegressor()"
   ]
  },
  {
   "cell_type": "code",
   "execution_count": 53,
   "id": "f2576a92",
   "metadata": {},
   "outputs": [
    {
     "data": {
      "text/html": [
       "<style>#sk-container-id-4 {color: black;}#sk-container-id-4 pre{padding: 0;}#sk-container-id-4 div.sk-toggleable {background-color: white;}#sk-container-id-4 label.sk-toggleable__label {cursor: pointer;display: block;width: 100%;margin-bottom: 0;padding: 0.3em;box-sizing: border-box;text-align: center;}#sk-container-id-4 label.sk-toggleable__label-arrow:before {content: \"▸\";float: left;margin-right: 0.25em;color: #696969;}#sk-container-id-4 label.sk-toggleable__label-arrow:hover:before {color: black;}#sk-container-id-4 div.sk-estimator:hover label.sk-toggleable__label-arrow:before {color: black;}#sk-container-id-4 div.sk-toggleable__content {max-height: 0;max-width: 0;overflow: hidden;text-align: left;background-color: #f0f8ff;}#sk-container-id-4 div.sk-toggleable__content pre {margin: 0.2em;color: black;border-radius: 0.25em;background-color: #f0f8ff;}#sk-container-id-4 input.sk-toggleable__control:checked~div.sk-toggleable__content {max-height: 200px;max-width: 100%;overflow: auto;}#sk-container-id-4 input.sk-toggleable__control:checked~label.sk-toggleable__label-arrow:before {content: \"▾\";}#sk-container-id-4 div.sk-estimator input.sk-toggleable__control:checked~label.sk-toggleable__label {background-color: #d4ebff;}#sk-container-id-4 div.sk-label input.sk-toggleable__control:checked~label.sk-toggleable__label {background-color: #d4ebff;}#sk-container-id-4 input.sk-hidden--visually {border: 0;clip: rect(1px 1px 1px 1px);clip: rect(1px, 1px, 1px, 1px);height: 1px;margin: -1px;overflow: hidden;padding: 0;position: absolute;width: 1px;}#sk-container-id-4 div.sk-estimator {font-family: monospace;background-color: #f0f8ff;border: 1px dotted black;border-radius: 0.25em;box-sizing: border-box;margin-bottom: 0.5em;}#sk-container-id-4 div.sk-estimator:hover {background-color: #d4ebff;}#sk-container-id-4 div.sk-parallel-item::after {content: \"\";width: 100%;border-bottom: 1px solid gray;flex-grow: 1;}#sk-container-id-4 div.sk-label:hover label.sk-toggleable__label {background-color: #d4ebff;}#sk-container-id-4 div.sk-serial::before {content: \"\";position: absolute;border-left: 1px solid gray;box-sizing: border-box;top: 0;bottom: 0;left: 50%;z-index: 0;}#sk-container-id-4 div.sk-serial {display: flex;flex-direction: column;align-items: center;background-color: white;padding-right: 0.2em;padding-left: 0.2em;position: relative;}#sk-container-id-4 div.sk-item {position: relative;z-index: 1;}#sk-container-id-4 div.sk-parallel {display: flex;align-items: stretch;justify-content: center;background-color: white;position: relative;}#sk-container-id-4 div.sk-item::before, #sk-container-id-4 div.sk-parallel-item::before {content: \"\";position: absolute;border-left: 1px solid gray;box-sizing: border-box;top: 0;bottom: 0;left: 50%;z-index: -1;}#sk-container-id-4 div.sk-parallel-item {display: flex;flex-direction: column;z-index: 1;position: relative;background-color: white;}#sk-container-id-4 div.sk-parallel-item:first-child::after {align-self: flex-end;width: 50%;}#sk-container-id-4 div.sk-parallel-item:last-child::after {align-self: flex-start;width: 50%;}#sk-container-id-4 div.sk-parallel-item:only-child::after {width: 0;}#sk-container-id-4 div.sk-dashed-wrapped {border: 1px dashed gray;margin: 0 0.4em 0.5em 0.4em;box-sizing: border-box;padding-bottom: 0.4em;background-color: white;}#sk-container-id-4 div.sk-label label {font-family: monospace;font-weight: bold;display: inline-block;line-height: 1.2em;}#sk-container-id-4 div.sk-label-container {text-align: center;}#sk-container-id-4 div.sk-container {/* jupyter's `normalize.less` sets `[hidden] { display: none; }` but bootstrap.min.css set `[hidden] { display: none !important; }` so we also need the `!important` here to be able to override the default hidden behavior on the sphinx rendered scikit-learn.org. See: https://github.com/scikit-learn/scikit-learn/issues/21755 */display: inline-block !important;position: relative;}#sk-container-id-4 div.sk-text-repr-fallback {display: none;}</style><div id=\"sk-container-id-4\" class=\"sk-top-container\"><div class=\"sk-text-repr-fallback\"><pre>GradientBoostingRegressor()</pre><b>In a Jupyter environment, please rerun this cell to show the HTML representation or trust the notebook. <br />On GitHub, the HTML representation is unable to render, please try loading this page with nbviewer.org.</b></div><div class=\"sk-container\" hidden><div class=\"sk-item\"><div class=\"sk-estimator sk-toggleable\"><input class=\"sk-toggleable__control sk-hidden--visually\" id=\"sk-estimator-id-4\" type=\"checkbox\" checked><label for=\"sk-estimator-id-4\" class=\"sk-toggleable__label sk-toggleable__label-arrow\">GradientBoostingRegressor</label><div class=\"sk-toggleable__content\"><pre>GradientBoostingRegressor()</pre></div></div></div></div></div>"
      ],
      "text/plain": [
       "GradientBoostingRegressor()"
      ]
     },
     "execution_count": 53,
     "metadata": {},
     "output_type": "execute_result"
    }
   ],
   "source": [
    "GBR.fit(x_train,y_train)"
   ]
  },
  {
   "cell_type": "code",
   "execution_count": 54,
   "id": "9f190eb5",
   "metadata": {},
   "outputs": [],
   "source": [
    "GBR_pred = GBR.predict(x_test)"
   ]
  },
  {
   "cell_type": "code",
   "execution_count": 55,
   "id": "6549336e",
   "metadata": {},
   "outputs": [],
   "source": [
    "# from sklearn.metrics import mean_squared_error"
   ]
  },
  {
   "cell_type": "code",
   "execution_count": 56,
   "id": "dc6963aa",
   "metadata": {
    "scrolled": true
   },
   "outputs": [
    {
     "data": {
      "text/plain": [
       "206.00377450276804"
      ]
     },
     "execution_count": 56,
     "metadata": {},
     "output_type": "execute_result"
    }
   ],
   "source": [
    "GBR_mse = mean_squared_error(GBR_pred,y_test)\n",
    "GBR_mse"
   ]
  },
  {
   "cell_type": "code",
   "execution_count": 57,
   "id": "85f23749",
   "metadata": {},
   "outputs": [
    {
     "data": {
      "text/plain": [
       "14.352831584839558"
      ]
     },
     "execution_count": 57,
     "metadata": {},
     "output_type": "execute_result"
    }
   ],
   "source": [
    "GBR_rmse = np.sqrt(GBR_mse)\n",
    "GBR_rmse"
   ]
  },
  {
   "cell_type": "markdown",
   "id": "c03f6989",
   "metadata": {},
   "source": [
    "## CatBoost Model"
   ]
  },
  {
   "cell_type": "code",
   "execution_count": 58,
   "id": "24d92633",
   "metadata": {},
   "outputs": [],
   "source": [
    "from catboost import CatBoostRegressor"
   ]
  },
  {
   "cell_type": "code",
   "execution_count": 59,
   "id": "2aa6f10f",
   "metadata": {},
   "outputs": [],
   "source": [
    "CBR = CatBoostRegressor()"
   ]
  },
  {
   "cell_type": "code",
   "execution_count": 60,
   "id": "a60719cc",
   "metadata": {},
   "outputs": [
    {
     "name": "stdout",
     "output_type": "stream",
     "text": [
      "Learning rate set to 0.054496\n",
      "0:\tlearn: 23.3458611\ttotal: 260ms\tremaining: 4m 19s\n",
      "1:\tlearn: 22.7477724\ttotal: 273ms\tremaining: 2m 16s\n",
      "2:\tlearn: 22.2005642\ttotal: 287ms\tremaining: 1m 35s\n",
      "3:\tlearn: 21.6796506\ttotal: 298ms\tremaining: 1m 14s\n",
      "4:\tlearn: 21.1795332\ttotal: 309ms\tremaining: 1m 1s\n",
      "5:\tlearn: 20.7237164\ttotal: 324ms\tremaining: 53.7s\n",
      "6:\tlearn: 20.3033794\ttotal: 337ms\tremaining: 47.8s\n",
      "7:\tlearn: 19.8947991\ttotal: 348ms\tremaining: 43.2s\n",
      "8:\tlearn: 19.5416750\ttotal: 360ms\tremaining: 39.6s\n",
      "9:\tlearn: 19.1887932\ttotal: 372ms\tremaining: 36.8s\n",
      "10:\tlearn: 18.8343759\ttotal: 383ms\tremaining: 34.4s\n",
      "11:\tlearn: 18.5537877\ttotal: 394ms\tremaining: 32.5s\n",
      "12:\tlearn: 18.2603463\ttotal: 406ms\tremaining: 30.8s\n",
      "13:\tlearn: 17.9684954\ttotal: 413ms\tremaining: 29.1s\n",
      "14:\tlearn: 17.6985541\ttotal: 419ms\tremaining: 27.5s\n",
      "15:\tlearn: 17.4527531\ttotal: 424ms\tremaining: 26.1s\n",
      "16:\tlearn: 17.2033539\ttotal: 431ms\tremaining: 24.9s\n",
      "17:\tlearn: 16.9806109\ttotal: 437ms\tremaining: 23.9s\n",
      "18:\tlearn: 16.7910724\ttotal: 443ms\tremaining: 22.9s\n",
      "19:\tlearn: 16.5964936\ttotal: 449ms\tremaining: 22s\n",
      "20:\tlearn: 16.4057557\ttotal: 455ms\tremaining: 21.2s\n",
      "21:\tlearn: 16.2366383\ttotal: 460ms\tremaining: 20.5s\n",
      "22:\tlearn: 16.0851302\ttotal: 464ms\tremaining: 19.7s\n",
      "23:\tlearn: 15.9320758\ttotal: 467ms\tremaining: 19s\n",
      "24:\tlearn: 15.7816328\ttotal: 470ms\tremaining: 18.3s\n",
      "25:\tlearn: 15.6434055\ttotal: 475ms\tremaining: 17.8s\n",
      "26:\tlearn: 15.5220291\ttotal: 484ms\tremaining: 17.4s\n",
      "27:\tlearn: 15.3910915\ttotal: 489ms\tremaining: 17s\n",
      "28:\tlearn: 15.2608336\ttotal: 496ms\tremaining: 16.6s\n",
      "29:\tlearn: 15.1486766\ttotal: 500ms\tremaining: 16.2s\n",
      "30:\tlearn: 15.0456695\ttotal: 504ms\tremaining: 15.7s\n",
      "31:\tlearn: 14.9733900\ttotal: 507ms\tremaining: 15.3s\n",
      "32:\tlearn: 14.8741491\ttotal: 513ms\tremaining: 15s\n",
      "33:\tlearn: 14.7843954\ttotal: 518ms\tremaining: 14.7s\n",
      "34:\tlearn: 14.6998028\ttotal: 524ms\tremaining: 14.5s\n",
      "35:\tlearn: 14.6296815\ttotal: 529ms\tremaining: 14.2s\n",
      "36:\tlearn: 14.5042827\ttotal: 535ms\tremaining: 13.9s\n",
      "37:\tlearn: 14.4529557\ttotal: 543ms\tremaining: 13.8s\n",
      "38:\tlearn: 14.3825978\ttotal: 549ms\tremaining: 13.5s\n",
      "39:\tlearn: 14.2698039\ttotal: 556ms\tremaining: 13.3s\n",
      "40:\tlearn: 14.1984507\ttotal: 561ms\tremaining: 13.1s\n",
      "41:\tlearn: 14.1116328\ttotal: 568ms\tremaining: 13s\n",
      "42:\tlearn: 14.0289955\ttotal: 574ms\tremaining: 12.8s\n",
      "43:\tlearn: 13.9653183\ttotal: 580ms\tremaining: 12.6s\n",
      "44:\tlearn: 13.8554978\ttotal: 586ms\tremaining: 12.4s\n",
      "45:\tlearn: 13.7817981\ttotal: 591ms\tremaining: 12.3s\n",
      "46:\tlearn: 13.7273106\ttotal: 597ms\tremaining: 12.1s\n",
      "47:\tlearn: 13.6508539\ttotal: 602ms\tremaining: 11.9s\n",
      "48:\tlearn: 13.5966886\ttotal: 608ms\tremaining: 11.8s\n",
      "49:\tlearn: 13.5475462\ttotal: 614ms\tremaining: 11.7s\n",
      "50:\tlearn: 13.4731024\ttotal: 620ms\tremaining: 11.5s\n",
      "51:\tlearn: 13.3903210\ttotal: 625ms\tremaining: 11.4s\n",
      "52:\tlearn: 13.3538614\ttotal: 632ms\tremaining: 11.3s\n",
      "53:\tlearn: 13.2902018\ttotal: 639ms\tremaining: 11.2s\n",
      "54:\tlearn: 13.2347761\ttotal: 647ms\tremaining: 11.1s\n",
      "55:\tlearn: 13.1878074\ttotal: 653ms\tremaining: 11s\n",
      "56:\tlearn: 13.1597320\ttotal: 660ms\tremaining: 10.9s\n",
      "57:\tlearn: 13.0952694\ttotal: 666ms\tremaining: 10.8s\n",
      "58:\tlearn: 13.0323976\ttotal: 672ms\tremaining: 10.7s\n",
      "59:\tlearn: 12.9942700\ttotal: 676ms\tremaining: 10.6s\n",
      "60:\tlearn: 12.9511163\ttotal: 682ms\tremaining: 10.5s\n",
      "61:\tlearn: 12.8877662\ttotal: 687ms\tremaining: 10.4s\n",
      "62:\tlearn: 12.8271570\ttotal: 694ms\tremaining: 10.3s\n",
      "63:\tlearn: 12.8035307\ttotal: 698ms\tremaining: 10.2s\n",
      "64:\tlearn: 12.7496275\ttotal: 703ms\tremaining: 10.1s\n",
      "65:\tlearn: 12.7100170\ttotal: 708ms\tremaining: 10s\n",
      "66:\tlearn: 12.6872791\ttotal: 711ms\tremaining: 9.9s\n",
      "67:\tlearn: 12.6662554\ttotal: 716ms\tremaining: 9.81s\n",
      "68:\tlearn: 12.6134185\ttotal: 721ms\tremaining: 9.73s\n",
      "69:\tlearn: 12.5953176\ttotal: 727ms\tremaining: 9.66s\n",
      "70:\tlearn: 12.5598104\ttotal: 733ms\tremaining: 9.59s\n",
      "71:\tlearn: 12.5241257\ttotal: 739ms\tremaining: 9.52s\n",
      "72:\tlearn: 12.4802181\ttotal: 743ms\tremaining: 9.44s\n",
      "73:\tlearn: 12.4625912\ttotal: 748ms\tremaining: 9.36s\n",
      "74:\tlearn: 12.4488357\ttotal: 754ms\tremaining: 9.3s\n",
      "75:\tlearn: 12.4097024\ttotal: 759ms\tremaining: 9.23s\n",
      "76:\tlearn: 12.3659695\ttotal: 764ms\tremaining: 9.16s\n",
      "77:\tlearn: 12.3349707\ttotal: 770ms\tremaining: 9.1s\n",
      "78:\tlearn: 12.2924851\ttotal: 774ms\tremaining: 9.02s\n",
      "79:\tlearn: 12.2595174\ttotal: 779ms\tremaining: 8.96s\n",
      "80:\tlearn: 12.2224782\ttotal: 784ms\tremaining: 8.89s\n",
      "81:\tlearn: 12.1798744\ttotal: 789ms\tremaining: 8.83s\n",
      "82:\tlearn: 12.1576686\ttotal: 794ms\tremaining: 8.77s\n",
      "83:\tlearn: 12.1445421\ttotal: 799ms\tremaining: 8.71s\n",
      "84:\tlearn: 12.1115509\ttotal: 805ms\tremaining: 8.66s\n",
      "85:\tlearn: 12.0925807\ttotal: 810ms\tremaining: 8.61s\n",
      "86:\tlearn: 12.0715681\ttotal: 816ms\tremaining: 8.56s\n",
      "87:\tlearn: 12.0515947\ttotal: 822ms\tremaining: 8.51s\n",
      "88:\tlearn: 12.0171221\ttotal: 827ms\tremaining: 8.46s\n",
      "89:\tlearn: 12.0052478\ttotal: 831ms\tremaining: 8.41s\n",
      "90:\tlearn: 11.9518437\ttotal: 838ms\tremaining: 8.37s\n",
      "91:\tlearn: 11.9342127\ttotal: 843ms\tremaining: 8.32s\n",
      "92:\tlearn: 11.9084368\ttotal: 849ms\tremaining: 8.28s\n",
      "93:\tlearn: 11.8787720\ttotal: 854ms\tremaining: 8.23s\n",
      "94:\tlearn: 11.8530275\ttotal: 860ms\tremaining: 8.2s\n",
      "95:\tlearn: 11.8341664\ttotal: 865ms\tremaining: 8.14s\n",
      "96:\tlearn: 11.8047902\ttotal: 868ms\tremaining: 8.08s\n",
      "97:\tlearn: 11.7829683\ttotal: 877ms\tremaining: 8.07s\n",
      "98:\tlearn: 11.7559775\ttotal: 884ms\tremaining: 8.04s\n",
      "99:\tlearn: 11.7362201\ttotal: 888ms\tremaining: 7.99s\n",
      "100:\tlearn: 11.7101245\ttotal: 892ms\tremaining: 7.94s\n",
      "101:\tlearn: 11.6977144\ttotal: 897ms\tremaining: 7.89s\n",
      "102:\tlearn: 11.6661674\ttotal: 901ms\tremaining: 7.84s\n",
      "103:\tlearn: 11.6418471\ttotal: 905ms\tremaining: 7.79s\n",
      "104:\tlearn: 11.6274831\ttotal: 909ms\tremaining: 7.75s\n",
      "105:\tlearn: 11.5968761\ttotal: 913ms\tremaining: 7.7s\n",
      "106:\tlearn: 11.5847582\ttotal: 917ms\tremaining: 7.65s\n",
      "107:\tlearn: 11.5741980\ttotal: 921ms\tremaining: 7.61s\n",
      "108:\tlearn: 11.5479782\ttotal: 924ms\tremaining: 7.55s\n",
      "109:\tlearn: 11.5341447\ttotal: 928ms\tremaining: 7.5s\n",
      "110:\tlearn: 11.5260775\ttotal: 933ms\tremaining: 7.47s\n",
      "111:\tlearn: 11.5091443\ttotal: 938ms\tremaining: 7.43s\n",
      "112:\tlearn: 11.4851921\ttotal: 944ms\tremaining: 7.41s\n",
      "113:\tlearn: 11.4536481\ttotal: 950ms\tremaining: 7.38s\n",
      "114:\tlearn: 11.4289722\ttotal: 955ms\tremaining: 7.35s\n",
      "115:\tlearn: 11.4167029\ttotal: 960ms\tremaining: 7.32s\n",
      "116:\tlearn: 11.4025559\ttotal: 965ms\tremaining: 7.28s\n",
      "117:\tlearn: 11.3769919\ttotal: 970ms\tremaining: 7.25s\n",
      "118:\tlearn: 11.3663682\ttotal: 974ms\tremaining: 7.21s\n",
      "119:\tlearn: 11.3356997\ttotal: 979ms\tremaining: 7.18s\n",
      "120:\tlearn: 11.3206570\ttotal: 982ms\tremaining: 7.13s\n",
      "121:\tlearn: 11.2955644\ttotal: 987ms\tremaining: 7.1s\n",
      "122:\tlearn: 11.2773406\ttotal: 991ms\tremaining: 7.07s\n",
      "123:\tlearn: 11.2549977\ttotal: 995ms\tremaining: 7.03s\n",
      "124:\tlearn: 11.2300592\ttotal: 999ms\tremaining: 6.99s\n",
      "125:\tlearn: 11.2237209\ttotal: 1s\tremaining: 6.95s\n",
      "126:\tlearn: 11.2017821\ttotal: 1s\tremaining: 6.91s\n",
      "127:\tlearn: 11.1794034\ttotal: 1.01s\tremaining: 6.88s\n",
      "128:\tlearn: 11.1612649\ttotal: 1.01s\tremaining: 6.84s\n",
      "129:\tlearn: 11.1363909\ttotal: 1.02s\tremaining: 6.81s\n",
      "130:\tlearn: 11.1266589\ttotal: 1.02s\tremaining: 6.78s\n",
      "131:\tlearn: 11.1075930\ttotal: 1.03s\tremaining: 6.75s\n",
      "132:\tlearn: 11.0834768\ttotal: 1.03s\tremaining: 6.72s\n",
      "133:\tlearn: 11.0671344\ttotal: 1.03s\tremaining: 6.68s\n",
      "134:\tlearn: 11.0550327\ttotal: 1.04s\tremaining: 6.65s\n",
      "135:\tlearn: 11.0487147\ttotal: 1.05s\tremaining: 6.67s\n",
      "136:\tlearn: 11.0162659\ttotal: 1.05s\tremaining: 6.63s\n",
      "137:\tlearn: 11.0023606\ttotal: 1.06s\tremaining: 6.65s\n",
      "138:\tlearn: 10.9973766\ttotal: 1.07s\tremaining: 6.63s\n",
      "139:\tlearn: 10.9801090\ttotal: 1.08s\tremaining: 6.64s\n",
      "140:\tlearn: 10.9711967\ttotal: 1.08s\tremaining: 6.61s\n",
      "141:\tlearn: 10.9599880\ttotal: 1.09s\tremaining: 6.59s\n",
      "142:\tlearn: 10.9369886\ttotal: 1.1s\tremaining: 6.57s\n",
      "143:\tlearn: 10.9217143\ttotal: 1.1s\tremaining: 6.54s\n",
      "144:\tlearn: 10.9054211\ttotal: 1.11s\tremaining: 6.55s\n",
      "145:\tlearn: 10.8899221\ttotal: 1.11s\tremaining: 6.52s\n",
      "146:\tlearn: 10.8655612\ttotal: 1.12s\tremaining: 6.51s\n",
      "147:\tlearn: 10.8405405\ttotal: 1.13s\tremaining: 6.49s\n",
      "148:\tlearn: 10.8264885\ttotal: 1.13s\tremaining: 6.46s\n",
      "149:\tlearn: 10.8189312\ttotal: 1.14s\tremaining: 6.48s\n",
      "150:\tlearn: 10.8111521\ttotal: 1.15s\tremaining: 6.45s\n",
      "151:\tlearn: 10.7983903\ttotal: 1.15s\tremaining: 6.43s\n",
      "152:\tlearn: 10.7913164\ttotal: 1.16s\tremaining: 6.41s\n",
      "153:\tlearn: 10.7853628\ttotal: 1.16s\tremaining: 6.38s\n",
      "154:\tlearn: 10.7728007\ttotal: 1.16s\tremaining: 6.35s\n",
      "155:\tlearn: 10.7596880\ttotal: 1.17s\tremaining: 6.33s\n",
      "156:\tlearn: 10.7472367\ttotal: 1.17s\tremaining: 6.3s\n",
      "157:\tlearn: 10.7408635\ttotal: 1.18s\tremaining: 6.27s\n",
      "158:\tlearn: 10.7199246\ttotal: 1.18s\tremaining: 6.24s\n",
      "159:\tlearn: 10.7077115\ttotal: 1.18s\tremaining: 6.21s\n",
      "160:\tlearn: 10.6884333\ttotal: 1.19s\tremaining: 6.19s\n",
      "161:\tlearn: 10.6822849\ttotal: 1.19s\tremaining: 6.17s\n",
      "162:\tlearn: 10.6610517\ttotal: 1.2s\tremaining: 6.16s\n",
      "163:\tlearn: 10.6559232\ttotal: 1.2s\tremaining: 6.14s\n"
     ]
    },
    {
     "name": "stdout",
     "output_type": "stream",
     "text": [
      "164:\tlearn: 10.6480976\ttotal: 1.21s\tremaining: 6.12s\n",
      "165:\tlearn: 10.6381829\ttotal: 1.22s\tremaining: 6.11s\n",
      "166:\tlearn: 10.6142886\ttotal: 1.22s\tremaining: 6.09s\n",
      "167:\tlearn: 10.5937114\ttotal: 1.23s\tremaining: 6.08s\n",
      "168:\tlearn: 10.5758455\ttotal: 1.23s\tremaining: 6.07s\n",
      "169:\tlearn: 10.5488667\ttotal: 1.24s\tremaining: 6.05s\n",
      "170:\tlearn: 10.5346634\ttotal: 1.25s\tremaining: 6.08s\n",
      "171:\tlearn: 10.5098359\ttotal: 1.27s\tremaining: 6.11s\n",
      "172:\tlearn: 10.4933595\ttotal: 1.27s\tremaining: 6.09s\n",
      "173:\tlearn: 10.4825496\ttotal: 1.28s\tremaining: 6.08s\n",
      "174:\tlearn: 10.4743119\ttotal: 1.29s\tremaining: 6.07s\n",
      "175:\tlearn: 10.4551520\ttotal: 1.29s\tremaining: 6.05s\n",
      "176:\tlearn: 10.4465946\ttotal: 1.3s\tremaining: 6.04s\n",
      "177:\tlearn: 10.4263539\ttotal: 1.3s\tremaining: 6.01s\n",
      "178:\tlearn: 10.4159477\ttotal: 1.31s\tremaining: 6.02s\n",
      "179:\tlearn: 10.4112880\ttotal: 1.32s\tremaining: 6s\n",
      "180:\tlearn: 10.4062626\ttotal: 1.33s\tremaining: 6s\n",
      "181:\tlearn: 10.4009146\ttotal: 1.33s\tremaining: 5.99s\n",
      "182:\tlearn: 10.3884748\ttotal: 1.34s\tremaining: 5.99s\n",
      "183:\tlearn: 10.3856148\ttotal: 1.34s\tremaining: 5.97s\n",
      "184:\tlearn: 10.3752410\ttotal: 1.35s\tremaining: 5.95s\n",
      "185:\tlearn: 10.3656810\ttotal: 1.36s\tremaining: 5.96s\n",
      "186:\tlearn: 10.3565109\ttotal: 1.37s\tremaining: 5.94s\n",
      "187:\tlearn: 10.3424343\ttotal: 1.37s\tremaining: 5.94s\n",
      "188:\tlearn: 10.3214067\ttotal: 1.38s\tremaining: 5.93s\n",
      "189:\tlearn: 10.3070400\ttotal: 1.39s\tremaining: 5.94s\n",
      "190:\tlearn: 10.3014191\ttotal: 1.4s\tremaining: 5.92s\n",
      "191:\tlearn: 10.2956620\ttotal: 1.41s\tremaining: 5.93s\n",
      "192:\tlearn: 10.2911917\ttotal: 1.41s\tremaining: 5.92s\n",
      "193:\tlearn: 10.2892402\ttotal: 1.42s\tremaining: 5.91s\n",
      "194:\tlearn: 10.2850581\ttotal: 1.43s\tremaining: 5.89s\n",
      "195:\tlearn: 10.2821336\ttotal: 1.43s\tremaining: 5.87s\n",
      "196:\tlearn: 10.2749807\ttotal: 1.44s\tremaining: 5.85s\n",
      "197:\tlearn: 10.2668000\ttotal: 1.44s\tremaining: 5.84s\n",
      "198:\tlearn: 10.2592300\ttotal: 1.45s\tremaining: 5.85s\n",
      "199:\tlearn: 10.2521185\ttotal: 1.46s\tremaining: 5.83s\n",
      "200:\tlearn: 10.2445764\ttotal: 1.46s\tremaining: 5.81s\n",
      "201:\tlearn: 10.2260165\ttotal: 1.47s\tremaining: 5.79s\n",
      "202:\tlearn: 10.2136245\ttotal: 1.47s\tremaining: 5.78s\n",
      "203:\tlearn: 10.1962708\ttotal: 1.48s\tremaining: 5.76s\n",
      "204:\tlearn: 10.1928195\ttotal: 1.48s\tremaining: 5.74s\n",
      "205:\tlearn: 10.1857948\ttotal: 1.49s\tremaining: 5.72s\n",
      "206:\tlearn: 10.1695605\ttotal: 1.49s\tremaining: 5.71s\n",
      "207:\tlearn: 10.1669629\ttotal: 1.5s\tremaining: 5.72s\n",
      "208:\tlearn: 10.1552702\ttotal: 1.51s\tremaining: 5.7s\n",
      "209:\tlearn: 10.1390988\ttotal: 1.51s\tremaining: 5.69s\n",
      "210:\tlearn: 10.1322533\ttotal: 1.52s\tremaining: 5.67s\n",
      "211:\tlearn: 10.1188270\ttotal: 1.52s\tremaining: 5.66s\n",
      "212:\tlearn: 10.1050982\ttotal: 1.53s\tremaining: 5.64s\n",
      "213:\tlearn: 10.0995067\ttotal: 1.53s\tremaining: 5.63s\n",
      "214:\tlearn: 10.0885273\ttotal: 1.54s\tremaining: 5.62s\n",
      "215:\tlearn: 10.0738904\ttotal: 1.54s\tremaining: 5.61s\n",
      "216:\tlearn: 10.0653114\ttotal: 1.55s\tremaining: 5.59s\n",
      "217:\tlearn: 10.0554877\ttotal: 1.55s\tremaining: 5.57s\n",
      "218:\tlearn: 10.0500721\ttotal: 1.56s\tremaining: 5.56s\n",
      "219:\tlearn: 10.0455952\ttotal: 1.56s\tremaining: 5.55s\n",
      "220:\tlearn: 10.0414130\ttotal: 1.57s\tremaining: 5.53s\n",
      "221:\tlearn: 10.0363204\ttotal: 1.58s\tremaining: 5.53s\n",
      "222:\tlearn: 10.0314298\ttotal: 1.58s\tremaining: 5.51s\n",
      "223:\tlearn: 10.0254214\ttotal: 1.59s\tremaining: 5.5s\n",
      "224:\tlearn: 10.0081925\ttotal: 1.59s\tremaining: 5.49s\n",
      "225:\tlearn: 9.9958714\ttotal: 1.6s\tremaining: 5.48s\n",
      "226:\tlearn: 9.9822761\ttotal: 1.61s\tremaining: 5.48s\n",
      "227:\tlearn: 9.9776444\ttotal: 1.61s\tremaining: 5.46s\n",
      "228:\tlearn: 9.9733083\ttotal: 1.62s\tremaining: 5.46s\n",
      "229:\tlearn: 9.9703484\ttotal: 1.62s\tremaining: 5.44s\n",
      "230:\tlearn: 9.9614923\ttotal: 1.63s\tremaining: 5.42s\n",
      "231:\tlearn: 9.9492329\ttotal: 1.63s\tremaining: 5.41s\n",
      "232:\tlearn: 9.9434504\ttotal: 1.64s\tremaining: 5.39s\n",
      "233:\tlearn: 9.9231585\ttotal: 1.64s\tremaining: 5.38s\n",
      "234:\tlearn: 9.9141251\ttotal: 1.65s\tremaining: 5.36s\n",
      "235:\tlearn: 9.9033265\ttotal: 1.65s\tremaining: 5.35s\n",
      "236:\tlearn: 9.8991602\ttotal: 1.66s\tremaining: 5.33s\n",
      "237:\tlearn: 9.8894436\ttotal: 1.66s\tremaining: 5.32s\n",
      "238:\tlearn: 9.8854992\ttotal: 1.67s\tremaining: 5.3s\n",
      "239:\tlearn: 9.8723474\ttotal: 1.67s\tremaining: 5.3s\n",
      "240:\tlearn: 9.8537719\ttotal: 1.68s\tremaining: 5.29s\n",
      "241:\tlearn: 9.8494610\ttotal: 1.68s\tremaining: 5.27s\n",
      "242:\tlearn: 9.8248550\ttotal: 1.69s\tremaining: 5.26s\n",
      "243:\tlearn: 9.8212405\ttotal: 1.7s\tremaining: 5.25s\n",
      "244:\tlearn: 9.8182128\ttotal: 1.7s\tremaining: 5.24s\n",
      "245:\tlearn: 9.8091996\ttotal: 1.71s\tremaining: 5.23s\n",
      "246:\tlearn: 9.8058448\ttotal: 1.71s\tremaining: 5.21s\n",
      "247:\tlearn: 9.7830526\ttotal: 1.72s\tremaining: 5.2s\n",
      "248:\tlearn: 9.7777056\ttotal: 1.72s\tremaining: 5.19s\n",
      "249:\tlearn: 9.7745554\ttotal: 1.73s\tremaining: 5.18s\n",
      "250:\tlearn: 9.7679347\ttotal: 1.73s\tremaining: 5.16s\n",
      "251:\tlearn: 9.7585572\ttotal: 1.74s\tremaining: 5.15s\n",
      "252:\tlearn: 9.7556104\ttotal: 1.74s\tremaining: 5.14s\n",
      "253:\tlearn: 9.7527654\ttotal: 1.75s\tremaining: 5.13s\n",
      "254:\tlearn: 9.7412712\ttotal: 1.75s\tremaining: 5.11s\n",
      "255:\tlearn: 9.7320477\ttotal: 1.75s\tremaining: 5.1s\n",
      "256:\tlearn: 9.7230422\ttotal: 1.76s\tremaining: 5.09s\n",
      "257:\tlearn: 9.7062937\ttotal: 1.77s\tremaining: 5.08s\n",
      "258:\tlearn: 9.6928476\ttotal: 1.77s\tremaining: 5.07s\n",
      "259:\tlearn: 9.6809615\ttotal: 1.78s\tremaining: 5.06s\n",
      "260:\tlearn: 9.6753583\ttotal: 1.78s\tremaining: 5.05s\n",
      "261:\tlearn: 9.6653093\ttotal: 1.79s\tremaining: 5.04s\n",
      "262:\tlearn: 9.6537481\ttotal: 1.8s\tremaining: 5.03s\n",
      "263:\tlearn: 9.6488388\ttotal: 1.8s\tremaining: 5.02s\n",
      "264:\tlearn: 9.6389923\ttotal: 1.81s\tremaining: 5.01s\n",
      "265:\tlearn: 9.6285169\ttotal: 1.81s\tremaining: 5s\n",
      "266:\tlearn: 9.6217719\ttotal: 1.81s\tremaining: 4.98s\n",
      "267:\tlearn: 9.6053678\ttotal: 1.82s\tremaining: 4.97s\n",
      "268:\tlearn: 9.5899662\ttotal: 1.83s\tremaining: 4.96s\n",
      "269:\tlearn: 9.5850999\ttotal: 1.83s\tremaining: 4.95s\n",
      "270:\tlearn: 9.5706008\ttotal: 1.83s\tremaining: 4.94s\n",
      "271:\tlearn: 9.5569765\ttotal: 1.84s\tremaining: 4.92s\n",
      "272:\tlearn: 9.5455654\ttotal: 1.84s\tremaining: 4.92s\n",
      "273:\tlearn: 9.5363755\ttotal: 1.85s\tremaining: 4.91s\n",
      "274:\tlearn: 9.5248153\ttotal: 1.85s\tremaining: 4.89s\n",
      "275:\tlearn: 9.5109412\ttotal: 1.86s\tremaining: 4.88s\n",
      "276:\tlearn: 9.5038825\ttotal: 1.86s\tremaining: 4.87s\n",
      "277:\tlearn: 9.4952869\ttotal: 1.87s\tremaining: 4.86s\n",
      "278:\tlearn: 9.4880718\ttotal: 1.88s\tremaining: 4.85s\n",
      "279:\tlearn: 9.4802739\ttotal: 1.88s\tremaining: 4.84s\n",
      "280:\tlearn: 9.4666098\ttotal: 1.89s\tremaining: 4.83s\n",
      "281:\tlearn: 9.4562714\ttotal: 1.89s\tremaining: 4.82s\n",
      "282:\tlearn: 9.4463483\ttotal: 1.9s\tremaining: 4.81s\n",
      "283:\tlearn: 9.4355963\ttotal: 1.9s\tremaining: 4.8s\n",
      "284:\tlearn: 9.4263251\ttotal: 1.91s\tremaining: 4.79s\n",
      "285:\tlearn: 9.4189353\ttotal: 1.92s\tremaining: 4.79s\n",
      "286:\tlearn: 9.4096126\ttotal: 1.92s\tremaining: 4.78s\n",
      "287:\tlearn: 9.4016975\ttotal: 1.93s\tremaining: 4.77s\n",
      "288:\tlearn: 9.3921487\ttotal: 1.93s\tremaining: 4.76s\n",
      "289:\tlearn: 9.3816963\ttotal: 1.94s\tremaining: 4.75s\n",
      "290:\tlearn: 9.3795970\ttotal: 1.94s\tremaining: 4.74s\n",
      "291:\tlearn: 9.3678573\ttotal: 1.95s\tremaining: 4.73s\n",
      "292:\tlearn: 9.3529901\ttotal: 1.95s\tremaining: 4.71s\n",
      "293:\tlearn: 9.3443915\ttotal: 1.96s\tremaining: 4.71s\n",
      "294:\tlearn: 9.3394069\ttotal: 1.96s\tremaining: 4.7s\n",
      "295:\tlearn: 9.3318379\ttotal: 1.97s\tremaining: 4.68s\n",
      "296:\tlearn: 9.3226004\ttotal: 1.98s\tremaining: 4.67s\n",
      "297:\tlearn: 9.3154853\ttotal: 1.98s\tremaining: 4.67s\n",
      "298:\tlearn: 9.3084037\ttotal: 1.99s\tremaining: 4.66s\n",
      "299:\tlearn: 9.2983338\ttotal: 1.99s\tremaining: 4.65s\n",
      "300:\tlearn: 9.2911577\ttotal: 2s\tremaining: 4.64s\n",
      "301:\tlearn: 9.2835453\ttotal: 2s\tremaining: 4.63s\n",
      "302:\tlearn: 9.2773596\ttotal: 2.01s\tremaining: 4.62s\n",
      "303:\tlearn: 9.2667565\ttotal: 2.01s\tremaining: 4.61s\n",
      "304:\tlearn: 9.2585116\ttotal: 2.05s\tremaining: 4.66s\n",
      "305:\tlearn: 9.2487639\ttotal: 2.06s\tremaining: 4.67s\n",
      "306:\tlearn: 9.2444604\ttotal: 2.06s\tremaining: 4.66s\n",
      "307:\tlearn: 9.2409324\ttotal: 2.07s\tremaining: 4.64s\n",
      "308:\tlearn: 9.2346931\ttotal: 2.07s\tremaining: 4.63s\n",
      "309:\tlearn: 9.2329345\ttotal: 2.07s\tremaining: 4.61s\n",
      "310:\tlearn: 9.2251835\ttotal: 2.08s\tremaining: 4.6s\n",
      "311:\tlearn: 9.2197430\ttotal: 2.08s\tremaining: 4.59s\n",
      "312:\tlearn: 9.2117819\ttotal: 2.08s\tremaining: 4.58s\n",
      "313:\tlearn: 9.2057240\ttotal: 2.09s\tremaining: 4.56s\n",
      "314:\tlearn: 9.1984436\ttotal: 2.09s\tremaining: 4.55s\n",
      "315:\tlearn: 9.1944729\ttotal: 2.1s\tremaining: 4.54s\n",
      "316:\tlearn: 9.1859958\ttotal: 2.1s\tremaining: 4.53s\n",
      "317:\tlearn: 9.1811278\ttotal: 2.11s\tremaining: 4.52s\n",
      "318:\tlearn: 9.1748413\ttotal: 2.11s\tremaining: 4.51s\n",
      "319:\tlearn: 9.1699832\ttotal: 2.12s\tremaining: 4.5s\n",
      "320:\tlearn: 9.1590682\ttotal: 2.12s\tremaining: 4.49s\n",
      "321:\tlearn: 9.1564946\ttotal: 2.13s\tremaining: 4.48s\n",
      "322:\tlearn: 9.1509686\ttotal: 2.13s\tremaining: 4.47s\n",
      "323:\tlearn: 9.1460238\ttotal: 2.14s\tremaining: 4.46s\n",
      "324:\tlearn: 9.1411791\ttotal: 2.14s\tremaining: 4.45s\n",
      "325:\tlearn: 9.1384202\ttotal: 2.15s\tremaining: 4.45s\n",
      "326:\tlearn: 9.1317791\ttotal: 2.15s\tremaining: 4.44s\n",
      "327:\tlearn: 9.1257468\ttotal: 2.16s\tremaining: 4.43s\n",
      "328:\tlearn: 9.1227341\ttotal: 2.17s\tremaining: 4.42s\n",
      "329:\tlearn: 9.1187799\ttotal: 2.17s\tremaining: 4.41s\n"
     ]
    },
    {
     "name": "stdout",
     "output_type": "stream",
     "text": [
      "330:\tlearn: 9.1134194\ttotal: 2.17s\tremaining: 4.4s\n",
      "331:\tlearn: 9.1121431\ttotal: 2.18s\tremaining: 4.39s\n",
      "332:\tlearn: 9.1072000\ttotal: 2.19s\tremaining: 4.38s\n",
      "333:\tlearn: 9.1048068\ttotal: 2.19s\tremaining: 4.37s\n",
      "334:\tlearn: 9.1030458\ttotal: 2.19s\tremaining: 4.35s\n",
      "335:\tlearn: 9.0961315\ttotal: 2.2s\tremaining: 4.34s\n",
      "336:\tlearn: 9.0880246\ttotal: 2.2s\tremaining: 4.33s\n",
      "337:\tlearn: 9.0862240\ttotal: 2.21s\tremaining: 4.32s\n",
      "338:\tlearn: 9.0792714\ttotal: 2.21s\tremaining: 4.31s\n",
      "339:\tlearn: 9.0740899\ttotal: 2.21s\tremaining: 4.3s\n",
      "340:\tlearn: 9.0687257\ttotal: 2.22s\tremaining: 4.29s\n",
      "341:\tlearn: 9.0639957\ttotal: 2.22s\tremaining: 4.28s\n",
      "342:\tlearn: 9.0617327\ttotal: 2.23s\tremaining: 4.27s\n",
      "343:\tlearn: 9.0542490\ttotal: 2.23s\tremaining: 4.26s\n",
      "344:\tlearn: 9.0495471\ttotal: 2.24s\tremaining: 4.25s\n",
      "345:\tlearn: 9.0478539\ttotal: 2.24s\tremaining: 4.24s\n",
      "346:\tlearn: 9.0451701\ttotal: 2.25s\tremaining: 4.23s\n",
      "347:\tlearn: 9.0434492\ttotal: 2.25s\tremaining: 4.22s\n",
      "348:\tlearn: 9.0329056\ttotal: 2.26s\tremaining: 4.21s\n",
      "349:\tlearn: 9.0262600\ttotal: 2.26s\tremaining: 4.2s\n",
      "350:\tlearn: 9.0237942\ttotal: 2.27s\tremaining: 4.19s\n",
      "351:\tlearn: 9.0162298\ttotal: 2.27s\tremaining: 4.18s\n",
      "352:\tlearn: 9.0137305\ttotal: 2.27s\tremaining: 4.17s\n",
      "353:\tlearn: 9.0091828\ttotal: 2.28s\tremaining: 4.16s\n",
      "354:\tlearn: 9.0074544\ttotal: 2.28s\tremaining: 4.15s\n",
      "355:\tlearn: 9.0034852\ttotal: 2.29s\tremaining: 4.14s\n",
      "356:\tlearn: 8.9951562\ttotal: 2.29s\tremaining: 4.13s\n",
      "357:\tlearn: 8.9876102\ttotal: 2.3s\tremaining: 4.13s\n",
      "358:\tlearn: 8.9841190\ttotal: 2.31s\tremaining: 4.12s\n",
      "359:\tlearn: 8.9818076\ttotal: 2.31s\tremaining: 4.11s\n",
      "360:\tlearn: 8.9768954\ttotal: 2.32s\tremaining: 4.1s\n",
      "361:\tlearn: 8.9674840\ttotal: 2.32s\tremaining: 4.09s\n",
      "362:\tlearn: 8.9608142\ttotal: 2.33s\tremaining: 4.08s\n",
      "363:\tlearn: 8.9574438\ttotal: 2.33s\tremaining: 4.07s\n",
      "364:\tlearn: 8.9511353\ttotal: 2.33s\tremaining: 4.06s\n",
      "365:\tlearn: 8.9462140\ttotal: 2.34s\tremaining: 4.05s\n",
      "366:\tlearn: 8.9448674\ttotal: 2.34s\tremaining: 4.04s\n",
      "367:\tlearn: 8.9398416\ttotal: 2.35s\tremaining: 4.03s\n",
      "368:\tlearn: 8.9377972\ttotal: 2.35s\tremaining: 4.02s\n",
      "369:\tlearn: 8.9364450\ttotal: 2.36s\tremaining: 4.01s\n",
      "370:\tlearn: 8.9277132\ttotal: 2.36s\tremaining: 4s\n",
      "371:\tlearn: 8.9229881\ttotal: 2.36s\tremaining: 3.99s\n",
      "372:\tlearn: 8.9136331\ttotal: 2.37s\tremaining: 3.98s\n",
      "373:\tlearn: 8.9082392\ttotal: 2.37s\tremaining: 3.97s\n",
      "374:\tlearn: 8.9024594\ttotal: 2.38s\tremaining: 3.96s\n",
      "375:\tlearn: 8.8994942\ttotal: 2.39s\tremaining: 3.96s\n",
      "376:\tlearn: 8.8966615\ttotal: 2.39s\tremaining: 3.95s\n",
      "377:\tlearn: 8.8953774\ttotal: 2.4s\tremaining: 3.94s\n",
      "378:\tlearn: 8.8908222\ttotal: 2.4s\tremaining: 3.94s\n",
      "379:\tlearn: 8.8854557\ttotal: 2.41s\tremaining: 3.93s\n",
      "380:\tlearn: 8.8811467\ttotal: 2.41s\tremaining: 3.92s\n",
      "381:\tlearn: 8.8767494\ttotal: 2.42s\tremaining: 3.91s\n",
      "382:\tlearn: 8.8723386\ttotal: 2.42s\tremaining: 3.9s\n",
      "383:\tlearn: 8.8683288\ttotal: 2.43s\tremaining: 3.9s\n",
      "384:\tlearn: 8.8660163\ttotal: 2.43s\tremaining: 3.89s\n",
      "385:\tlearn: 8.8637913\ttotal: 2.44s\tremaining: 3.88s\n",
      "386:\tlearn: 8.8628277\ttotal: 2.44s\tremaining: 3.87s\n",
      "387:\tlearn: 8.8537246\ttotal: 2.45s\tremaining: 3.86s\n",
      "388:\tlearn: 8.8469958\ttotal: 2.45s\tremaining: 3.85s\n",
      "389:\tlearn: 8.8451501\ttotal: 2.46s\tremaining: 3.85s\n",
      "390:\tlearn: 8.8409072\ttotal: 2.46s\tremaining: 3.84s\n",
      "391:\tlearn: 8.8272519\ttotal: 2.47s\tremaining: 3.83s\n",
      "392:\tlearn: 8.8198495\ttotal: 2.47s\tremaining: 3.82s\n",
      "393:\tlearn: 8.8153709\ttotal: 2.47s\tremaining: 3.81s\n",
      "394:\tlearn: 8.8099939\ttotal: 2.48s\tremaining: 3.8s\n",
      "395:\tlearn: 8.8062446\ttotal: 2.48s\tremaining: 3.79s\n",
      "396:\tlearn: 8.8048129\ttotal: 2.49s\tremaining: 3.78s\n",
      "397:\tlearn: 8.7966383\ttotal: 2.49s\tremaining: 3.77s\n",
      "398:\tlearn: 8.7929636\ttotal: 2.5s\tremaining: 3.76s\n",
      "399:\tlearn: 8.7872332\ttotal: 2.5s\tremaining: 3.75s\n",
      "400:\tlearn: 8.7803328\ttotal: 2.5s\tremaining: 3.74s\n",
      "401:\tlearn: 8.7728107\ttotal: 2.51s\tremaining: 3.73s\n",
      "402:\tlearn: 8.7664307\ttotal: 2.52s\tremaining: 3.73s\n",
      "403:\tlearn: 8.7609364\ttotal: 2.52s\tremaining: 3.72s\n",
      "404:\tlearn: 8.7556464\ttotal: 2.52s\tremaining: 3.71s\n",
      "405:\tlearn: 8.7538185\ttotal: 2.53s\tremaining: 3.7s\n",
      "406:\tlearn: 8.7523663\ttotal: 2.54s\tremaining: 3.69s\n",
      "407:\tlearn: 8.7462816\ttotal: 2.54s\tremaining: 3.69s\n",
      "408:\tlearn: 8.7442221\ttotal: 2.54s\tremaining: 3.68s\n",
      "409:\tlearn: 8.7413015\ttotal: 2.55s\tremaining: 3.67s\n",
      "410:\tlearn: 8.7400734\ttotal: 2.55s\tremaining: 3.66s\n",
      "411:\tlearn: 8.7387761\ttotal: 2.56s\tremaining: 3.65s\n",
      "412:\tlearn: 8.7321231\ttotal: 2.56s\tremaining: 3.64s\n",
      "413:\tlearn: 8.7263668\ttotal: 2.56s\tremaining: 3.63s\n",
      "414:\tlearn: 8.7211972\ttotal: 2.57s\tremaining: 3.62s\n",
      "415:\tlearn: 8.7184163\ttotal: 2.58s\tremaining: 3.62s\n",
      "416:\tlearn: 8.7101419\ttotal: 2.58s\tremaining: 3.61s\n",
      "417:\tlearn: 8.7029414\ttotal: 2.59s\tremaining: 3.6s\n",
      "418:\tlearn: 8.7009921\ttotal: 2.59s\tremaining: 3.59s\n",
      "419:\tlearn: 8.6965488\ttotal: 2.6s\tremaining: 3.58s\n",
      "420:\tlearn: 8.6897808\ttotal: 2.6s\tremaining: 3.58s\n",
      "421:\tlearn: 8.6885305\ttotal: 2.6s\tremaining: 3.57s\n",
      "422:\tlearn: 8.6847103\ttotal: 2.61s\tremaining: 3.56s\n",
      "423:\tlearn: 8.6822290\ttotal: 2.61s\tremaining: 3.55s\n",
      "424:\tlearn: 8.6810969\ttotal: 2.62s\tremaining: 3.54s\n",
      "425:\tlearn: 8.6797981\ttotal: 2.62s\tremaining: 3.53s\n",
      "426:\tlearn: 8.6738068\ttotal: 2.63s\tremaining: 3.53s\n",
      "427:\tlearn: 8.6707147\ttotal: 2.63s\tremaining: 3.52s\n",
      "428:\tlearn: 8.6640441\ttotal: 2.64s\tremaining: 3.51s\n",
      "429:\tlearn: 8.6617148\ttotal: 2.64s\tremaining: 3.5s\n",
      "430:\tlearn: 8.6594083\ttotal: 2.65s\tremaining: 3.5s\n",
      "431:\tlearn: 8.6572090\ttotal: 2.65s\tremaining: 3.49s\n",
      "432:\tlearn: 8.6561251\ttotal: 2.66s\tremaining: 3.48s\n",
      "433:\tlearn: 8.6538952\ttotal: 2.66s\tremaining: 3.47s\n",
      "434:\tlearn: 8.6498795\ttotal: 2.67s\tremaining: 3.46s\n",
      "435:\tlearn: 8.6480596\ttotal: 2.67s\tremaining: 3.45s\n",
      "436:\tlearn: 8.6424461\ttotal: 2.67s\tremaining: 3.44s\n",
      "437:\tlearn: 8.6404115\ttotal: 2.68s\tremaining: 3.43s\n",
      "438:\tlearn: 8.6373542\ttotal: 2.68s\tremaining: 3.43s\n",
      "439:\tlearn: 8.6363811\ttotal: 2.69s\tremaining: 3.42s\n",
      "440:\tlearn: 8.6342185\ttotal: 2.69s\tremaining: 3.41s\n",
      "441:\tlearn: 8.6323540\ttotal: 2.7s\tremaining: 3.41s\n",
      "442:\tlearn: 8.6303507\ttotal: 2.7s\tremaining: 3.4s\n",
      "443:\tlearn: 8.6289566\ttotal: 2.71s\tremaining: 3.39s\n",
      "444:\tlearn: 8.6280417\ttotal: 2.71s\tremaining: 3.38s\n",
      "445:\tlearn: 8.6236827\ttotal: 2.72s\tremaining: 3.38s\n",
      "446:\tlearn: 8.6212315\ttotal: 2.73s\tremaining: 3.37s\n",
      "447:\tlearn: 8.6164005\ttotal: 2.73s\tremaining: 3.36s\n",
      "448:\tlearn: 8.6141966\ttotal: 2.74s\tremaining: 3.36s\n",
      "449:\tlearn: 8.6096510\ttotal: 2.74s\tremaining: 3.35s\n",
      "450:\tlearn: 8.6059112\ttotal: 2.75s\tremaining: 3.35s\n",
      "451:\tlearn: 8.6042011\ttotal: 2.75s\tremaining: 3.34s\n",
      "452:\tlearn: 8.5990460\ttotal: 2.76s\tremaining: 3.33s\n",
      "453:\tlearn: 8.5946958\ttotal: 2.76s\tremaining: 3.32s\n",
      "454:\tlearn: 8.5928713\ttotal: 2.77s\tremaining: 3.31s\n",
      "455:\tlearn: 8.5883435\ttotal: 2.77s\tremaining: 3.31s\n",
      "456:\tlearn: 8.5841448\ttotal: 2.77s\tremaining: 3.3s\n",
      "457:\tlearn: 8.5825227\ttotal: 2.78s\tremaining: 3.29s\n",
      "458:\tlearn: 8.5796781\ttotal: 2.79s\tremaining: 3.28s\n",
      "459:\tlearn: 8.5770593\ttotal: 2.79s\tremaining: 3.27s\n",
      "460:\tlearn: 8.5755469\ttotal: 2.79s\tremaining: 3.27s\n",
      "461:\tlearn: 8.5727130\ttotal: 2.8s\tremaining: 3.26s\n",
      "462:\tlearn: 8.5681784\ttotal: 2.8s\tremaining: 3.25s\n",
      "463:\tlearn: 8.5583166\ttotal: 2.81s\tremaining: 3.24s\n",
      "464:\tlearn: 8.5567253\ttotal: 2.81s\tremaining: 3.23s\n",
      "465:\tlearn: 8.5541240\ttotal: 2.81s\tremaining: 3.23s\n",
      "466:\tlearn: 8.5517273\ttotal: 2.82s\tremaining: 3.22s\n",
      "467:\tlearn: 8.5480398\ttotal: 2.82s\tremaining: 3.21s\n",
      "468:\tlearn: 8.5429542\ttotal: 2.83s\tremaining: 3.2s\n",
      "469:\tlearn: 8.5374780\ttotal: 2.83s\tremaining: 3.19s\n",
      "470:\tlearn: 8.5321690\ttotal: 2.84s\tremaining: 3.19s\n",
      "471:\tlearn: 8.5270466\ttotal: 2.84s\tremaining: 3.18s\n",
      "472:\tlearn: 8.5233158\ttotal: 2.85s\tremaining: 3.17s\n",
      "473:\tlearn: 8.5194804\ttotal: 2.85s\tremaining: 3.17s\n",
      "474:\tlearn: 8.5154097\ttotal: 2.86s\tremaining: 3.16s\n",
      "475:\tlearn: 8.5131681\ttotal: 2.86s\tremaining: 3.15s\n",
      "476:\tlearn: 8.5092664\ttotal: 2.87s\tremaining: 3.15s\n",
      "477:\tlearn: 8.5078935\ttotal: 2.87s\tremaining: 3.14s\n",
      "478:\tlearn: 8.5065705\ttotal: 2.88s\tremaining: 3.13s\n",
      "479:\tlearn: 8.5028722\ttotal: 2.88s\tremaining: 3.12s\n",
      "480:\tlearn: 8.5000962\ttotal: 2.89s\tremaining: 3.12s\n",
      "481:\tlearn: 8.4945768\ttotal: 2.89s\tremaining: 3.11s\n",
      "482:\tlearn: 8.4920960\ttotal: 2.9s\tremaining: 3.1s\n",
      "483:\tlearn: 8.4889109\ttotal: 2.9s\tremaining: 3.09s\n",
      "484:\tlearn: 8.4849696\ttotal: 2.91s\tremaining: 3.09s\n",
      "485:\tlearn: 8.4801471\ttotal: 2.91s\tremaining: 3.08s\n",
      "486:\tlearn: 8.4748473\ttotal: 2.92s\tremaining: 3.07s\n",
      "487:\tlearn: 8.4702760\ttotal: 2.92s\tremaining: 3.06s\n",
      "488:\tlearn: 8.4662888\ttotal: 2.93s\tremaining: 3.06s\n",
      "489:\tlearn: 8.4629213\ttotal: 2.94s\tremaining: 3.06s\n",
      "490:\tlearn: 8.4553355\ttotal: 2.94s\tremaining: 3.05s\n",
      "491:\tlearn: 8.4538431\ttotal: 2.95s\tremaining: 3.04s\n",
      "492:\tlearn: 8.4524063\ttotal: 2.95s\tremaining: 3.04s\n",
      "493:\tlearn: 8.4514963\ttotal: 2.96s\tremaining: 3.03s\n",
      "494:\tlearn: 8.4482400\ttotal: 2.96s\tremaining: 3.02s\n",
      "495:\tlearn: 8.4474112\ttotal: 2.97s\tremaining: 3.02s\n",
      "496:\tlearn: 8.4434980\ttotal: 2.98s\tremaining: 3.02s\n",
      "497:\tlearn: 8.4398975\ttotal: 2.99s\tremaining: 3.01s\n",
      "498:\tlearn: 8.4390951\ttotal: 2.99s\tremaining: 3s\n",
      "499:\tlearn: 8.4378968\ttotal: 3s\tremaining: 3s\n",
      "500:\tlearn: 8.4351808\ttotal: 3s\tremaining: 2.99s\n",
      "501:\tlearn: 8.4344216\ttotal: 3.01s\tremaining: 2.99s\n",
      "502:\tlearn: 8.4319089\ttotal: 3.02s\tremaining: 2.98s\n",
      "503:\tlearn: 8.4276272\ttotal: 3.03s\tremaining: 2.98s\n",
      "504:\tlearn: 8.4268918\ttotal: 3.03s\tremaining: 2.97s\n",
      "505:\tlearn: 8.4238895\ttotal: 3.04s\tremaining: 2.97s\n",
      "506:\tlearn: 8.4210946\ttotal: 3.05s\tremaining: 2.96s\n",
      "507:\tlearn: 8.4178078\ttotal: 3.06s\tremaining: 2.96s\n",
      "508:\tlearn: 8.4121311\ttotal: 3.06s\tremaining: 2.95s\n",
      "509:\tlearn: 8.4099739\ttotal: 3.07s\tremaining: 2.95s\n",
      "510:\tlearn: 8.4048634\ttotal: 3.07s\tremaining: 2.94s\n",
      "511:\tlearn: 8.4036523\ttotal: 3.08s\tremaining: 2.94s\n",
      "512:\tlearn: 8.3995269\ttotal: 3.09s\tremaining: 2.93s\n",
      "513:\tlearn: 8.3971058\ttotal: 3.09s\tremaining: 2.92s\n",
      "514:\tlearn: 8.3889444\ttotal: 3.1s\tremaining: 2.92s\n",
      "515:\tlearn: 8.3847748\ttotal: 3.1s\tremaining: 2.91s\n"
     ]
    },
    {
     "name": "stdout",
     "output_type": "stream",
     "text": [
      "516:\tlearn: 8.3802604\ttotal: 3.11s\tremaining: 2.9s\n",
      "517:\tlearn: 8.3794996\ttotal: 3.12s\tremaining: 2.9s\n",
      "518:\tlearn: 8.3755356\ttotal: 3.13s\tremaining: 2.9s\n",
      "519:\tlearn: 8.3715149\ttotal: 3.13s\tremaining: 2.89s\n",
      "520:\tlearn: 8.3638323\ttotal: 3.14s\tremaining: 2.88s\n",
      "521:\tlearn: 8.3582379\ttotal: 3.14s\tremaining: 2.88s\n",
      "522:\tlearn: 8.3575559\ttotal: 3.15s\tremaining: 2.87s\n",
      "523:\tlearn: 8.3557462\ttotal: 3.15s\tremaining: 2.86s\n",
      "524:\tlearn: 8.3529975\ttotal: 3.16s\tremaining: 2.85s\n",
      "525:\tlearn: 8.3501274\ttotal: 3.16s\tremaining: 2.85s\n",
      "526:\tlearn: 8.3474264\ttotal: 3.17s\tremaining: 2.84s\n",
      "527:\tlearn: 8.3402823\ttotal: 3.17s\tremaining: 2.84s\n",
      "528:\tlearn: 8.3357605\ttotal: 3.18s\tremaining: 2.83s\n",
      "529:\tlearn: 8.3326274\ttotal: 3.19s\tremaining: 2.83s\n",
      "530:\tlearn: 8.3319648\ttotal: 3.2s\tremaining: 2.82s\n",
      "531:\tlearn: 8.3267253\ttotal: 3.2s\tremaining: 2.82s\n",
      "532:\tlearn: 8.3240435\ttotal: 3.21s\tremaining: 2.81s\n",
      "533:\tlearn: 8.3196450\ttotal: 3.22s\tremaining: 2.81s\n",
      "534:\tlearn: 8.3172132\ttotal: 3.22s\tremaining: 2.8s\n",
      "535:\tlearn: 8.3134679\ttotal: 3.23s\tremaining: 2.79s\n",
      "536:\tlearn: 8.3128695\ttotal: 3.23s\tremaining: 2.79s\n",
      "537:\tlearn: 8.3095992\ttotal: 3.24s\tremaining: 2.78s\n",
      "538:\tlearn: 8.3063562\ttotal: 3.25s\tremaining: 2.78s\n",
      "539:\tlearn: 8.3011506\ttotal: 3.28s\tremaining: 2.79s\n",
      "540:\tlearn: 8.2986777\ttotal: 3.29s\tremaining: 2.79s\n",
      "541:\tlearn: 8.2964512\ttotal: 3.32s\tremaining: 2.81s\n",
      "542:\tlearn: 8.2928257\ttotal: 3.35s\tremaining: 2.82s\n",
      "543:\tlearn: 8.2905241\ttotal: 3.37s\tremaining: 2.82s\n",
      "544:\tlearn: 8.2868763\ttotal: 3.37s\tremaining: 2.81s\n",
      "545:\tlearn: 8.2855195\ttotal: 3.38s\tremaining: 2.81s\n",
      "546:\tlearn: 8.2835693\ttotal: 3.38s\tremaining: 2.8s\n",
      "547:\tlearn: 8.2810734\ttotal: 3.39s\tremaining: 2.79s\n",
      "548:\tlearn: 8.2785934\ttotal: 3.4s\tremaining: 2.79s\n",
      "549:\tlearn: 8.2780122\ttotal: 3.4s\tremaining: 2.78s\n",
      "550:\tlearn: 8.2771551\ttotal: 3.41s\tremaining: 2.78s\n",
      "551:\tlearn: 8.2750218\ttotal: 3.41s\tremaining: 2.77s\n",
      "552:\tlearn: 8.2710632\ttotal: 3.42s\tremaining: 2.76s\n",
      "553:\tlearn: 8.2674690\ttotal: 3.43s\tremaining: 2.76s\n",
      "554:\tlearn: 8.2634241\ttotal: 3.43s\tremaining: 2.75s\n",
      "555:\tlearn: 8.2606365\ttotal: 3.44s\tremaining: 2.75s\n",
      "556:\tlearn: 8.2574802\ttotal: 3.45s\tremaining: 2.74s\n",
      "557:\tlearn: 8.2569515\ttotal: 3.45s\tremaining: 2.73s\n",
      "558:\tlearn: 8.2552605\ttotal: 3.46s\tremaining: 2.73s\n",
      "559:\tlearn: 8.2502795\ttotal: 3.46s\tremaining: 2.72s\n",
      "560:\tlearn: 8.2476102\ttotal: 3.47s\tremaining: 2.71s\n",
      "561:\tlearn: 8.2435325\ttotal: 3.47s\tremaining: 2.71s\n",
      "562:\tlearn: 8.2430166\ttotal: 3.48s\tremaining: 2.7s\n",
      "563:\tlearn: 8.2419354\ttotal: 3.49s\tremaining: 2.7s\n",
      "564:\tlearn: 8.2392728\ttotal: 3.5s\tremaining: 2.69s\n",
      "565:\tlearn: 8.2367519\ttotal: 3.5s\tremaining: 2.69s\n",
      "566:\tlearn: 8.2347945\ttotal: 3.51s\tremaining: 2.68s\n",
      "567:\tlearn: 8.2305121\ttotal: 3.51s\tremaining: 2.67s\n",
      "568:\tlearn: 8.2297323\ttotal: 3.52s\tremaining: 2.67s\n",
      "569:\tlearn: 8.2268109\ttotal: 3.52s\tremaining: 2.66s\n",
      "570:\tlearn: 8.2263264\ttotal: 3.53s\tremaining: 2.65s\n",
      "571:\tlearn: 8.2240096\ttotal: 3.53s\tremaining: 2.64s\n",
      "572:\tlearn: 8.2192461\ttotal: 3.54s\tremaining: 2.64s\n",
      "573:\tlearn: 8.2187699\ttotal: 3.54s\tremaining: 2.63s\n",
      "574:\tlearn: 8.2152035\ttotal: 3.55s\tremaining: 2.62s\n",
      "575:\tlearn: 8.2107085\ttotal: 3.55s\tremaining: 2.62s\n",
      "576:\tlearn: 8.2079623\ttotal: 3.56s\tremaining: 2.61s\n",
      "577:\tlearn: 8.2051116\ttotal: 3.56s\tremaining: 2.6s\n",
      "578:\tlearn: 8.2039329\ttotal: 3.56s\tremaining: 2.59s\n",
      "579:\tlearn: 8.2017344\ttotal: 3.57s\tremaining: 2.58s\n",
      "580:\tlearn: 8.2004276\ttotal: 3.57s\tremaining: 2.58s\n",
      "581:\tlearn: 8.1977819\ttotal: 3.58s\tremaining: 2.57s\n",
      "582:\tlearn: 8.1973216\ttotal: 3.58s\tremaining: 2.56s\n",
      "583:\tlearn: 8.1968745\ttotal: 3.58s\tremaining: 2.55s\n",
      "584:\tlearn: 8.1948496\ttotal: 3.59s\tremaining: 2.55s\n",
      "585:\tlearn: 8.1915234\ttotal: 3.6s\tremaining: 2.54s\n",
      "586:\tlearn: 8.1910878\ttotal: 3.6s\tremaining: 2.54s\n",
      "587:\tlearn: 8.1870718\ttotal: 3.61s\tremaining: 2.53s\n",
      "588:\tlearn: 8.1832023\ttotal: 3.62s\tremaining: 2.52s\n",
      "589:\tlearn: 8.1790120\ttotal: 3.62s\tremaining: 2.52s\n",
      "590:\tlearn: 8.1749412\ttotal: 3.63s\tremaining: 2.51s\n",
      "591:\tlearn: 8.1723875\ttotal: 3.63s\tremaining: 2.5s\n",
      "592:\tlearn: 8.1680760\ttotal: 3.64s\tremaining: 2.5s\n",
      "593:\tlearn: 8.1664412\ttotal: 3.64s\tremaining: 2.49s\n",
      "594:\tlearn: 8.1632706\ttotal: 3.65s\tremaining: 2.48s\n",
      "595:\tlearn: 8.1589832\ttotal: 3.65s\tremaining: 2.47s\n",
      "596:\tlearn: 8.1572211\ttotal: 3.65s\tremaining: 2.47s\n",
      "597:\tlearn: 8.1556553\ttotal: 3.66s\tremaining: 2.46s\n",
      "598:\tlearn: 8.1521040\ttotal: 3.67s\tremaining: 2.45s\n",
      "599:\tlearn: 8.1516994\ttotal: 3.67s\tremaining: 2.45s\n",
      "600:\tlearn: 8.1512335\ttotal: 3.67s\tremaining: 2.44s\n",
      "601:\tlearn: 8.1475756\ttotal: 3.68s\tremaining: 2.43s\n",
      "602:\tlearn: 8.1436112\ttotal: 3.68s\tremaining: 2.42s\n",
      "603:\tlearn: 8.1394337\ttotal: 3.69s\tremaining: 2.42s\n",
      "604:\tlearn: 8.1361065\ttotal: 3.69s\tremaining: 2.41s\n",
      "605:\tlearn: 8.1327378\ttotal: 3.7s\tremaining: 2.4s\n",
      "606:\tlearn: 8.1286706\ttotal: 3.7s\tremaining: 2.4s\n",
      "607:\tlearn: 8.1258453\ttotal: 3.71s\tremaining: 2.39s\n",
      "608:\tlearn: 8.1221660\ttotal: 3.71s\tremaining: 2.38s\n",
      "609:\tlearn: 8.1190026\ttotal: 3.71s\tremaining: 2.38s\n",
      "610:\tlearn: 8.1186122\ttotal: 3.72s\tremaining: 2.37s\n",
      "611:\tlearn: 8.1167020\ttotal: 3.72s\tremaining: 2.36s\n",
      "612:\tlearn: 8.1162189\ttotal: 3.73s\tremaining: 2.35s\n",
      "613:\tlearn: 8.1143667\ttotal: 3.73s\tremaining: 2.35s\n",
      "614:\tlearn: 8.1105018\ttotal: 3.73s\tremaining: 2.34s\n",
      "615:\tlearn: 8.1065453\ttotal: 3.74s\tremaining: 2.33s\n",
      "616:\tlearn: 8.1018935\ttotal: 3.74s\tremaining: 2.32s\n",
      "617:\tlearn: 8.0981472\ttotal: 3.75s\tremaining: 2.31s\n",
      "618:\tlearn: 8.0961730\ttotal: 3.75s\tremaining: 2.31s\n",
      "619:\tlearn: 8.0920026\ttotal: 3.75s\tremaining: 2.3s\n",
      "620:\tlearn: 8.0894373\ttotal: 3.76s\tremaining: 2.29s\n",
      "621:\tlearn: 8.0864719\ttotal: 3.76s\tremaining: 2.29s\n",
      "622:\tlearn: 8.0830808\ttotal: 3.77s\tremaining: 2.28s\n",
      "623:\tlearn: 8.0792277\ttotal: 3.78s\tremaining: 2.28s\n",
      "624:\tlearn: 8.0782715\ttotal: 3.78s\tremaining: 2.27s\n",
      "625:\tlearn: 8.0767614\ttotal: 3.79s\tremaining: 2.26s\n",
      "626:\tlearn: 8.0704084\ttotal: 3.79s\tremaining: 2.25s\n",
      "627:\tlearn: 8.0678038\ttotal: 3.79s\tremaining: 2.25s\n",
      "628:\tlearn: 8.0621736\ttotal: 3.8s\tremaining: 2.24s\n",
      "629:\tlearn: 8.0595672\ttotal: 3.81s\tremaining: 2.24s\n",
      "630:\tlearn: 8.0582289\ttotal: 3.81s\tremaining: 2.23s\n",
      "631:\tlearn: 8.0565241\ttotal: 3.82s\tremaining: 2.22s\n",
      "632:\tlearn: 8.0482577\ttotal: 3.82s\tremaining: 2.22s\n",
      "633:\tlearn: 8.0445150\ttotal: 3.83s\tremaining: 2.21s\n",
      "634:\tlearn: 8.0440626\ttotal: 3.83s\tremaining: 2.2s\n",
      "635:\tlearn: 8.0404233\ttotal: 3.84s\tremaining: 2.2s\n",
      "636:\tlearn: 8.0375671\ttotal: 3.84s\tremaining: 2.19s\n",
      "637:\tlearn: 8.0343555\ttotal: 3.84s\tremaining: 2.18s\n",
      "638:\tlearn: 8.0334958\ttotal: 3.85s\tremaining: 2.17s\n",
      "639:\tlearn: 8.0297402\ttotal: 3.85s\tremaining: 2.17s\n",
      "640:\tlearn: 8.0268943\ttotal: 3.86s\tremaining: 2.16s\n",
      "641:\tlearn: 8.0240590\ttotal: 3.86s\tremaining: 2.15s\n",
      "642:\tlearn: 8.0220967\ttotal: 3.86s\tremaining: 2.15s\n",
      "643:\tlearn: 8.0209536\ttotal: 3.87s\tremaining: 2.14s\n",
      "644:\tlearn: 8.0177442\ttotal: 3.87s\tremaining: 2.13s\n",
      "645:\tlearn: 8.0161240\ttotal: 3.88s\tremaining: 2.13s\n",
      "646:\tlearn: 8.0123764\ttotal: 3.89s\tremaining: 2.12s\n",
      "647:\tlearn: 8.0092167\ttotal: 3.89s\tremaining: 2.11s\n",
      "648:\tlearn: 8.0067495\ttotal: 3.9s\tremaining: 2.11s\n",
      "649:\tlearn: 8.0032022\ttotal: 3.9s\tremaining: 2.1s\n",
      "650:\tlearn: 8.0019049\ttotal: 3.91s\tremaining: 2.1s\n",
      "651:\tlearn: 7.9985526\ttotal: 3.91s\tremaining: 2.09s\n",
      "652:\tlearn: 7.9977614\ttotal: 3.92s\tremaining: 2.08s\n",
      "653:\tlearn: 7.9943578\ttotal: 3.92s\tremaining: 2.07s\n",
      "654:\tlearn: 7.9916622\ttotal: 3.93s\tremaining: 2.07s\n",
      "655:\tlearn: 7.9891064\ttotal: 3.93s\tremaining: 2.06s\n",
      "656:\tlearn: 7.9872258\ttotal: 3.94s\tremaining: 2.06s\n",
      "657:\tlearn: 7.9850976\ttotal: 3.94s\tremaining: 2.05s\n",
      "658:\tlearn: 7.9801142\ttotal: 3.95s\tremaining: 2.04s\n",
      "659:\tlearn: 7.9778626\ttotal: 3.95s\tremaining: 2.04s\n",
      "660:\tlearn: 7.9758436\ttotal: 3.96s\tremaining: 2.03s\n",
      "661:\tlearn: 7.9734356\ttotal: 3.96s\tremaining: 2.02s\n",
      "662:\tlearn: 7.9720423\ttotal: 3.97s\tremaining: 2.02s\n",
      "663:\tlearn: 7.9685737\ttotal: 3.97s\tremaining: 2.01s\n",
      "664:\tlearn: 7.9658742\ttotal: 3.98s\tremaining: 2s\n",
      "665:\tlearn: 7.9643470\ttotal: 3.98s\tremaining: 2s\n",
      "666:\tlearn: 7.9619989\ttotal: 3.99s\tremaining: 1.99s\n",
      "667:\tlearn: 7.9575233\ttotal: 3.99s\tremaining: 1.99s\n",
      "668:\tlearn: 7.9549278\ttotal: 4s\tremaining: 1.98s\n",
      "669:\tlearn: 7.9545808\ttotal: 4s\tremaining: 1.97s\n",
      "670:\tlearn: 7.9533930\ttotal: 4.01s\tremaining: 1.97s\n",
      "671:\tlearn: 7.9506801\ttotal: 4.01s\tremaining: 1.96s\n",
      "672:\tlearn: 7.9492763\ttotal: 4.02s\tremaining: 1.95s\n",
      "673:\tlearn: 7.9489387\ttotal: 4.03s\tremaining: 1.95s\n",
      "674:\tlearn: 7.9425677\ttotal: 4.03s\tremaining: 1.94s\n",
      "675:\tlearn: 7.9398496\ttotal: 4.03s\tremaining: 1.93s\n",
      "676:\tlearn: 7.9395159\ttotal: 4.04s\tremaining: 1.93s\n",
      "677:\tlearn: 7.9346415\ttotal: 4.04s\tremaining: 1.92s\n",
      "678:\tlearn: 7.9316573\ttotal: 4.05s\tremaining: 1.91s\n",
      "679:\tlearn: 7.9262457\ttotal: 4.05s\tremaining: 1.91s\n",
      "680:\tlearn: 7.9213779\ttotal: 4.05s\tremaining: 1.9s\n",
      "681:\tlearn: 7.9193475\ttotal: 4.06s\tremaining: 1.89s\n",
      "682:\tlearn: 7.9160090\ttotal: 4.06s\tremaining: 1.89s\n",
      "683:\tlearn: 7.9143482\ttotal: 4.07s\tremaining: 1.88s\n",
      "684:\tlearn: 7.9107885\ttotal: 4.07s\tremaining: 1.87s\n",
      "685:\tlearn: 7.9089230\ttotal: 4.08s\tremaining: 1.87s\n",
      "686:\tlearn: 7.9085138\ttotal: 4.08s\tremaining: 1.86s\n",
      "687:\tlearn: 7.9063888\ttotal: 4.09s\tremaining: 1.85s\n",
      "688:\tlearn: 7.9038622\ttotal: 4.09s\tremaining: 1.85s\n",
      "689:\tlearn: 7.8988324\ttotal: 4.09s\tremaining: 1.84s\n",
      "690:\tlearn: 7.8982723\ttotal: 4.1s\tremaining: 1.83s\n",
      "691:\tlearn: 7.8963150\ttotal: 4.1s\tremaining: 1.83s\n",
      "692:\tlearn: 7.8927457\ttotal: 4.11s\tremaining: 1.82s\n",
      "693:\tlearn: 7.8894881\ttotal: 4.11s\tremaining: 1.81s\n",
      "694:\tlearn: 7.8881860\ttotal: 4.11s\tremaining: 1.8s\n",
      "695:\tlearn: 7.8862249\ttotal: 4.12s\tremaining: 1.8s\n",
      "696:\tlearn: 7.8837424\ttotal: 4.12s\tremaining: 1.79s\n",
      "697:\tlearn: 7.8804052\ttotal: 4.13s\tremaining: 1.79s\n",
      "698:\tlearn: 7.8797225\ttotal: 4.13s\tremaining: 1.78s\n",
      "699:\tlearn: 7.8762493\ttotal: 4.14s\tremaining: 1.77s\n",
      "700:\tlearn: 7.8743039\ttotal: 4.14s\tremaining: 1.77s\n",
      "701:\tlearn: 7.8739850\ttotal: 4.14s\tremaining: 1.76s\n",
      "702:\tlearn: 7.8736267\ttotal: 4.15s\tremaining: 1.75s\n",
      "703:\tlearn: 7.8724176\ttotal: 4.16s\tremaining: 1.75s\n",
      "704:\tlearn: 7.8720729\ttotal: 4.16s\tremaining: 1.74s\n",
      "705:\tlearn: 7.8716399\ttotal: 4.17s\tremaining: 1.73s\n",
      "706:\tlearn: 7.8702148\ttotal: 4.17s\tremaining: 1.73s\n",
      "707:\tlearn: 7.8684205\ttotal: 4.17s\tremaining: 1.72s\n",
      "708:\tlearn: 7.8659981\ttotal: 4.18s\tremaining: 1.71s\n",
      "709:\tlearn: 7.8628214\ttotal: 4.18s\tremaining: 1.71s\n",
      "710:\tlearn: 7.8598399\ttotal: 4.19s\tremaining: 1.7s\n",
      "711:\tlearn: 7.8595539\ttotal: 4.2s\tremaining: 1.7s\n"
     ]
    },
    {
     "name": "stdout",
     "output_type": "stream",
     "text": [
      "712:\tlearn: 7.8561748\ttotal: 4.2s\tremaining: 1.69s\n",
      "713:\tlearn: 7.8519220\ttotal: 4.21s\tremaining: 1.69s\n",
      "714:\tlearn: 7.8495584\ttotal: 4.22s\tremaining: 1.68s\n",
      "715:\tlearn: 7.8492379\ttotal: 4.22s\tremaining: 1.68s\n",
      "716:\tlearn: 7.8451876\ttotal: 4.23s\tremaining: 1.67s\n",
      "717:\tlearn: 7.8430236\ttotal: 4.24s\tremaining: 1.66s\n",
      "718:\tlearn: 7.8410444\ttotal: 4.24s\tremaining: 1.66s\n",
      "719:\tlearn: 7.8377530\ttotal: 4.25s\tremaining: 1.65s\n",
      "720:\tlearn: 7.8362759\ttotal: 4.25s\tremaining: 1.65s\n",
      "721:\tlearn: 7.8347455\ttotal: 4.27s\tremaining: 1.64s\n",
      "722:\tlearn: 7.8316142\ttotal: 4.27s\tremaining: 1.64s\n",
      "723:\tlearn: 7.8301530\ttotal: 4.28s\tremaining: 1.63s\n",
      "724:\tlearn: 7.8275447\ttotal: 4.28s\tremaining: 1.62s\n",
      "725:\tlearn: 7.8261656\ttotal: 4.29s\tremaining: 1.62s\n",
      "726:\tlearn: 7.8221174\ttotal: 4.29s\tremaining: 1.61s\n",
      "727:\tlearn: 7.8174965\ttotal: 4.3s\tremaining: 1.61s\n",
      "728:\tlearn: 7.8151698\ttotal: 4.3s\tremaining: 1.6s\n",
      "729:\tlearn: 7.8127471\ttotal: 4.31s\tremaining: 1.59s\n",
      "730:\tlearn: 7.8105105\ttotal: 4.31s\tremaining: 1.59s\n",
      "731:\tlearn: 7.8085008\ttotal: 4.32s\tremaining: 1.58s\n",
      "732:\tlearn: 7.8065704\ttotal: 4.32s\tremaining: 1.57s\n",
      "733:\tlearn: 7.8047569\ttotal: 4.33s\tremaining: 1.57s\n",
      "734:\tlearn: 7.8019242\ttotal: 4.33s\tremaining: 1.56s\n",
      "735:\tlearn: 7.7990051\ttotal: 4.34s\tremaining: 1.56s\n",
      "736:\tlearn: 7.7968731\ttotal: 4.35s\tremaining: 1.55s\n",
      "737:\tlearn: 7.7947459\ttotal: 4.36s\tremaining: 1.55s\n",
      "738:\tlearn: 7.7938058\ttotal: 4.36s\tremaining: 1.54s\n",
      "739:\tlearn: 7.7933057\ttotal: 4.37s\tremaining: 1.53s\n",
      "740:\tlearn: 7.7913176\ttotal: 4.37s\tremaining: 1.53s\n",
      "741:\tlearn: 7.7910310\ttotal: 4.38s\tremaining: 1.52s\n",
      "742:\tlearn: 7.7893698\ttotal: 4.38s\tremaining: 1.51s\n",
      "743:\tlearn: 7.7890919\ttotal: 4.38s\tremaining: 1.51s\n",
      "744:\tlearn: 7.7863559\ttotal: 4.39s\tremaining: 1.5s\n",
      "745:\tlearn: 7.7845358\ttotal: 4.39s\tremaining: 1.5s\n",
      "746:\tlearn: 7.7841732\ttotal: 4.4s\tremaining: 1.49s\n",
      "747:\tlearn: 7.7813729\ttotal: 4.41s\tremaining: 1.49s\n",
      "748:\tlearn: 7.7789349\ttotal: 4.42s\tremaining: 1.48s\n",
      "749:\tlearn: 7.7765060\ttotal: 4.42s\tremaining: 1.47s\n",
      "750:\tlearn: 7.7753550\ttotal: 4.42s\tremaining: 1.47s\n",
      "751:\tlearn: 7.7735989\ttotal: 4.43s\tremaining: 1.46s\n",
      "752:\tlearn: 7.7704714\ttotal: 4.44s\tremaining: 1.46s\n",
      "753:\tlearn: 7.7687779\ttotal: 4.44s\tremaining: 1.45s\n",
      "754:\tlearn: 7.7657345\ttotal: 4.44s\tremaining: 1.44s\n",
      "755:\tlearn: 7.7620821\ttotal: 4.45s\tremaining: 1.44s\n",
      "756:\tlearn: 7.7589503\ttotal: 4.45s\tremaining: 1.43s\n",
      "757:\tlearn: 7.7560076\ttotal: 4.46s\tremaining: 1.42s\n",
      "758:\tlearn: 7.7540465\ttotal: 4.46s\tremaining: 1.42s\n",
      "759:\tlearn: 7.7536008\ttotal: 4.46s\tremaining: 1.41s\n",
      "760:\tlearn: 7.7515805\ttotal: 4.47s\tremaining: 1.4s\n",
      "761:\tlearn: 7.7485303\ttotal: 4.47s\tremaining: 1.4s\n",
      "762:\tlearn: 7.7472881\ttotal: 4.48s\tremaining: 1.39s\n",
      "763:\tlearn: 7.7450775\ttotal: 4.48s\tremaining: 1.39s\n",
      "764:\tlearn: 7.7429796\ttotal: 4.49s\tremaining: 1.38s\n",
      "765:\tlearn: 7.7399039\ttotal: 4.49s\tremaining: 1.37s\n",
      "766:\tlearn: 7.7373548\ttotal: 4.5s\tremaining: 1.37s\n",
      "767:\tlearn: 7.7357428\ttotal: 4.5s\tremaining: 1.36s\n",
      "768:\tlearn: 7.7341893\ttotal: 4.5s\tremaining: 1.35s\n",
      "769:\tlearn: 7.7331923\ttotal: 4.51s\tremaining: 1.35s\n",
      "770:\tlearn: 7.7316925\ttotal: 4.51s\tremaining: 1.34s\n",
      "771:\tlearn: 7.7287976\ttotal: 4.52s\tremaining: 1.33s\n",
      "772:\tlearn: 7.7262915\ttotal: 4.52s\tremaining: 1.33s\n",
      "773:\tlearn: 7.7232658\ttotal: 4.52s\tremaining: 1.32s\n",
      "774:\tlearn: 7.7202375\ttotal: 4.53s\tremaining: 1.31s\n",
      "775:\tlearn: 7.7170621\ttotal: 4.53s\tremaining: 1.31s\n",
      "776:\tlearn: 7.7161049\ttotal: 4.54s\tremaining: 1.3s\n",
      "777:\tlearn: 7.7144410\ttotal: 4.54s\tremaining: 1.3s\n",
      "778:\tlearn: 7.7139501\ttotal: 4.55s\tremaining: 1.29s\n",
      "779:\tlearn: 7.7126287\ttotal: 4.55s\tremaining: 1.28s\n",
      "780:\tlearn: 7.7092022\ttotal: 4.56s\tremaining: 1.28s\n",
      "781:\tlearn: 7.7062304\ttotal: 4.57s\tremaining: 1.27s\n",
      "782:\tlearn: 7.7019087\ttotal: 4.57s\tremaining: 1.27s\n",
      "783:\tlearn: 7.7006378\ttotal: 4.58s\tremaining: 1.26s\n",
      "784:\tlearn: 7.6978903\ttotal: 4.58s\tremaining: 1.25s\n",
      "785:\tlearn: 7.6963437\ttotal: 4.59s\tremaining: 1.25s\n",
      "786:\tlearn: 7.6950609\ttotal: 4.59s\tremaining: 1.24s\n",
      "787:\tlearn: 7.6941549\ttotal: 4.6s\tremaining: 1.24s\n",
      "788:\tlearn: 7.6929679\ttotal: 4.6s\tremaining: 1.23s\n",
      "789:\tlearn: 7.6918656\ttotal: 4.61s\tremaining: 1.22s\n",
      "790:\tlearn: 7.6904230\ttotal: 4.61s\tremaining: 1.22s\n",
      "791:\tlearn: 7.6877516\ttotal: 4.62s\tremaining: 1.21s\n",
      "792:\tlearn: 7.6850198\ttotal: 4.62s\tremaining: 1.21s\n",
      "793:\tlearn: 7.6844340\ttotal: 4.62s\tremaining: 1.2s\n",
      "794:\tlearn: 7.6819873\ttotal: 4.63s\tremaining: 1.19s\n",
      "795:\tlearn: 7.6792770\ttotal: 4.63s\tremaining: 1.19s\n",
      "796:\tlearn: 7.6775018\ttotal: 4.63s\tremaining: 1.18s\n",
      "797:\tlearn: 7.6769958\ttotal: 4.64s\tremaining: 1.17s\n",
      "798:\tlearn: 7.6761005\ttotal: 4.64s\tremaining: 1.17s\n",
      "799:\tlearn: 7.6746211\ttotal: 4.65s\tremaining: 1.16s\n",
      "800:\tlearn: 7.6691783\ttotal: 4.66s\tremaining: 1.16s\n",
      "801:\tlearn: 7.6650597\ttotal: 4.66s\tremaining: 1.15s\n",
      "802:\tlearn: 7.6640203\ttotal: 4.67s\tremaining: 1.14s\n",
      "803:\tlearn: 7.6614702\ttotal: 4.67s\tremaining: 1.14s\n",
      "804:\tlearn: 7.6600677\ttotal: 4.67s\tremaining: 1.13s\n",
      "805:\tlearn: 7.6562987\ttotal: 4.68s\tremaining: 1.13s\n",
      "806:\tlearn: 7.6537844\ttotal: 4.68s\tremaining: 1.12s\n",
      "807:\tlearn: 7.6524446\ttotal: 4.69s\tremaining: 1.11s\n",
      "808:\tlearn: 7.6500385\ttotal: 4.69s\tremaining: 1.11s\n",
      "809:\tlearn: 7.6483480\ttotal: 4.69s\tremaining: 1.1s\n",
      "810:\tlearn: 7.6463782\ttotal: 4.7s\tremaining: 1.09s\n",
      "811:\tlearn: 7.6445525\ttotal: 4.7s\tremaining: 1.09s\n",
      "812:\tlearn: 7.6431560\ttotal: 4.71s\tremaining: 1.08s\n",
      "813:\tlearn: 7.6410693\ttotal: 4.71s\tremaining: 1.08s\n",
      "814:\tlearn: 7.6397094\ttotal: 4.71s\tremaining: 1.07s\n",
      "815:\tlearn: 7.6347806\ttotal: 4.72s\tremaining: 1.06s\n",
      "816:\tlearn: 7.6337053\ttotal: 4.72s\tremaining: 1.06s\n",
      "817:\tlearn: 7.6311468\ttotal: 4.73s\tremaining: 1.05s\n",
      "818:\tlearn: 7.6297271\ttotal: 4.73s\tremaining: 1.04s\n",
      "819:\tlearn: 7.6259729\ttotal: 4.74s\tremaining: 1.04s\n",
      "820:\tlearn: 7.6245627\ttotal: 4.74s\tremaining: 1.03s\n",
      "821:\tlearn: 7.6230761\ttotal: 4.75s\tremaining: 1.03s\n",
      "822:\tlearn: 7.6213802\ttotal: 4.75s\tremaining: 1.02s\n",
      "823:\tlearn: 7.6202548\ttotal: 4.75s\tremaining: 1.01s\n",
      "824:\tlearn: 7.6187807\ttotal: 4.76s\tremaining: 1.01s\n",
      "825:\tlearn: 7.6173705\ttotal: 4.76s\tremaining: 1s\n",
      "826:\tlearn: 7.6144486\ttotal: 4.77s\tremaining: 998ms\n",
      "827:\tlearn: 7.6131145\ttotal: 4.78s\tremaining: 992ms\n",
      "828:\tlearn: 7.6112480\ttotal: 4.78s\tremaining: 986ms\n",
      "829:\tlearn: 7.6098655\ttotal: 4.79s\tremaining: 982ms\n",
      "830:\tlearn: 7.6065917\ttotal: 4.8s\tremaining: 976ms\n",
      "831:\tlearn: 7.6009692\ttotal: 4.8s\tremaining: 970ms\n",
      "832:\tlearn: 7.5999738\ttotal: 4.81s\tremaining: 964ms\n",
      "833:\tlearn: 7.5984141\ttotal: 4.81s\tremaining: 958ms\n",
      "834:\tlearn: 7.5969486\ttotal: 4.82s\tremaining: 952ms\n",
      "835:\tlearn: 7.5954241\ttotal: 4.82s\tremaining: 946ms\n",
      "836:\tlearn: 7.5942561\ttotal: 4.83s\tremaining: 941ms\n",
      "837:\tlearn: 7.5931287\ttotal: 4.84s\tremaining: 936ms\n",
      "838:\tlearn: 7.5905067\ttotal: 4.84s\tremaining: 930ms\n",
      "839:\tlearn: 7.5894922\ttotal: 4.85s\tremaining: 925ms\n",
      "840:\tlearn: 7.5881097\ttotal: 4.86s\tremaining: 918ms\n",
      "841:\tlearn: 7.5864618\ttotal: 4.86s\tremaining: 913ms\n",
      "842:\tlearn: 7.5853687\ttotal: 4.87s\tremaining: 907ms\n",
      "843:\tlearn: 7.5843088\ttotal: 4.87s\tremaining: 901ms\n",
      "844:\tlearn: 7.5830215\ttotal: 4.88s\tremaining: 896ms\n",
      "845:\tlearn: 7.5798787\ttotal: 4.89s\tremaining: 890ms\n",
      "846:\tlearn: 7.5771829\ttotal: 4.89s\tremaining: 884ms\n",
      "847:\tlearn: 7.5727691\ttotal: 4.9s\tremaining: 878ms\n",
      "848:\tlearn: 7.5707647\ttotal: 4.9s\tremaining: 872ms\n",
      "849:\tlearn: 7.5686731\ttotal: 4.91s\tremaining: 866ms\n",
      "850:\tlearn: 7.5674701\ttotal: 4.91s\tremaining: 860ms\n",
      "851:\tlearn: 7.5649806\ttotal: 4.92s\tremaining: 854ms\n",
      "852:\tlearn: 7.5619879\ttotal: 4.92s\tremaining: 849ms\n",
      "853:\tlearn: 7.5585110\ttotal: 4.93s\tremaining: 843ms\n",
      "854:\tlearn: 7.5565859\ttotal: 4.93s\tremaining: 837ms\n",
      "855:\tlearn: 7.5538764\ttotal: 4.94s\tremaining: 831ms\n",
      "856:\tlearn: 7.5510133\ttotal: 4.95s\tremaining: 825ms\n",
      "857:\tlearn: 7.5476385\ttotal: 4.95s\tremaining: 819ms\n",
      "858:\tlearn: 7.5435964\ttotal: 4.96s\tremaining: 814ms\n",
      "859:\tlearn: 7.5425802\ttotal: 4.96s\tremaining: 808ms\n",
      "860:\tlearn: 7.5414776\ttotal: 4.98s\tremaining: 803ms\n",
      "861:\tlearn: 7.5381222\ttotal: 4.98s\tremaining: 797ms\n",
      "862:\tlearn: 7.5359301\ttotal: 4.99s\tremaining: 792ms\n",
      "863:\tlearn: 7.5330604\ttotal: 4.99s\tremaining: 786ms\n",
      "864:\tlearn: 7.5298548\ttotal: 5s\tremaining: 780ms\n",
      "865:\tlearn: 7.5273183\ttotal: 5s\tremaining: 774ms\n",
      "866:\tlearn: 7.5262711\ttotal: 5.01s\tremaining: 768ms\n",
      "867:\tlearn: 7.5240809\ttotal: 5.01s\tremaining: 762ms\n",
      "868:\tlearn: 7.5235702\ttotal: 5.01s\tremaining: 756ms\n",
      "869:\tlearn: 7.5204864\ttotal: 5.02s\tremaining: 751ms\n",
      "870:\tlearn: 7.5174899\ttotal: 5.03s\tremaining: 745ms\n",
      "871:\tlearn: 7.5157014\ttotal: 5.04s\tremaining: 739ms\n",
      "872:\tlearn: 7.5128672\ttotal: 5.04s\tremaining: 734ms\n",
      "873:\tlearn: 7.5120561\ttotal: 5.05s\tremaining: 728ms\n",
      "874:\tlearn: 7.5111662\ttotal: 5.05s\tremaining: 722ms\n",
      "875:\tlearn: 7.5098311\ttotal: 5.06s\tremaining: 716ms\n",
      "876:\tlearn: 7.5083544\ttotal: 5.07s\tremaining: 711ms\n",
      "877:\tlearn: 7.5071421\ttotal: 5.08s\tremaining: 705ms\n",
      "878:\tlearn: 7.5049626\ttotal: 5.08s\tremaining: 700ms\n",
      "879:\tlearn: 7.5044210\ttotal: 5.09s\tremaining: 694ms\n",
      "880:\tlearn: 7.5040200\ttotal: 5.09s\tremaining: 688ms\n",
      "881:\tlearn: 7.5029407\ttotal: 5.1s\tremaining: 683ms\n",
      "882:\tlearn: 7.5006045\ttotal: 5.11s\tremaining: 676ms\n",
      "883:\tlearn: 7.4988692\ttotal: 5.11s\tremaining: 671ms\n",
      "884:\tlearn: 7.4975842\ttotal: 5.12s\tremaining: 665ms\n",
      "885:\tlearn: 7.4971223\ttotal: 5.12s\tremaining: 659ms\n",
      "886:\tlearn: 7.4943152\ttotal: 5.13s\tremaining: 653ms\n",
      "887:\tlearn: 7.4915845\ttotal: 5.13s\tremaining: 647ms\n",
      "888:\tlearn: 7.4904350\ttotal: 5.14s\tremaining: 641ms\n",
      "889:\tlearn: 7.4876698\ttotal: 5.14s\tremaining: 635ms\n",
      "890:\tlearn: 7.4844309\ttotal: 5.14s\tremaining: 629ms\n",
      "891:\tlearn: 7.4826996\ttotal: 5.15s\tremaining: 624ms\n",
      "892:\tlearn: 7.4805529\ttotal: 5.16s\tremaining: 618ms\n",
      "893:\tlearn: 7.4772908\ttotal: 5.16s\tremaining: 612ms\n"
     ]
    },
    {
     "name": "stdout",
     "output_type": "stream",
     "text": [
      "894:\tlearn: 7.4752815\ttotal: 5.17s\tremaining: 606ms\n",
      "895:\tlearn: 7.4742416\ttotal: 5.17s\tremaining: 601ms\n",
      "896:\tlearn: 7.4713961\ttotal: 5.18s\tremaining: 595ms\n",
      "897:\tlearn: 7.4703591\ttotal: 5.18s\tremaining: 589ms\n",
      "898:\tlearn: 7.4681327\ttotal: 5.2s\tremaining: 584ms\n",
      "899:\tlearn: 7.4676333\ttotal: 5.2s\tremaining: 578ms\n",
      "900:\tlearn: 7.4649659\ttotal: 5.21s\tremaining: 572ms\n",
      "901:\tlearn: 7.4641162\ttotal: 5.21s\tremaining: 566ms\n",
      "902:\tlearn: 7.4616938\ttotal: 5.22s\tremaining: 561ms\n",
      "903:\tlearn: 7.4603449\ttotal: 5.22s\tremaining: 555ms\n",
      "904:\tlearn: 7.4599314\ttotal: 5.23s\tremaining: 549ms\n",
      "905:\tlearn: 7.4571581\ttotal: 5.24s\tremaining: 544ms\n",
      "906:\tlearn: 7.4545518\ttotal: 5.24s\tremaining: 538ms\n",
      "907:\tlearn: 7.4525705\ttotal: 5.25s\tremaining: 532ms\n",
      "908:\tlearn: 7.4509875\ttotal: 5.26s\tremaining: 526ms\n",
      "909:\tlearn: 7.4486030\ttotal: 5.26s\tremaining: 520ms\n",
      "910:\tlearn: 7.4473300\ttotal: 5.27s\tremaining: 515ms\n",
      "911:\tlearn: 7.4452145\ttotal: 5.27s\tremaining: 509ms\n",
      "912:\tlearn: 7.4426128\ttotal: 5.28s\tremaining: 503ms\n",
      "913:\tlearn: 7.4398113\ttotal: 5.29s\tremaining: 498ms\n",
      "914:\tlearn: 7.4371859\ttotal: 5.29s\tremaining: 492ms\n",
      "915:\tlearn: 7.4353745\ttotal: 5.29s\tremaining: 486ms\n",
      "916:\tlearn: 7.4323897\ttotal: 5.3s\tremaining: 480ms\n",
      "917:\tlearn: 7.4311826\ttotal: 5.31s\tremaining: 474ms\n",
      "918:\tlearn: 7.4308247\ttotal: 5.31s\tremaining: 468ms\n",
      "919:\tlearn: 7.4287674\ttotal: 5.32s\tremaining: 463ms\n",
      "920:\tlearn: 7.4276022\ttotal: 5.33s\tremaining: 457ms\n",
      "921:\tlearn: 7.4251354\ttotal: 5.33s\tremaining: 451ms\n",
      "922:\tlearn: 7.4238828\ttotal: 5.34s\tremaining: 446ms\n",
      "923:\tlearn: 7.4232401\ttotal: 5.35s\tremaining: 440ms\n",
      "924:\tlearn: 7.4222516\ttotal: 5.36s\tremaining: 435ms\n",
      "925:\tlearn: 7.4197140\ttotal: 5.37s\tremaining: 429ms\n",
      "926:\tlearn: 7.4193538\ttotal: 5.38s\tremaining: 423ms\n",
      "927:\tlearn: 7.4190751\ttotal: 5.38s\tremaining: 418ms\n",
      "928:\tlearn: 7.4176368\ttotal: 5.39s\tremaining: 412ms\n",
      "929:\tlearn: 7.4151665\ttotal: 5.4s\tremaining: 406ms\n",
      "930:\tlearn: 7.4128516\ttotal: 5.4s\tremaining: 400ms\n",
      "931:\tlearn: 7.4107719\ttotal: 5.41s\tremaining: 395ms\n",
      "932:\tlearn: 7.4090540\ttotal: 5.42s\tremaining: 389ms\n",
      "933:\tlearn: 7.4084250\ttotal: 5.42s\tremaining: 383ms\n",
      "934:\tlearn: 7.4062282\ttotal: 5.43s\tremaining: 377ms\n",
      "935:\tlearn: 7.4048310\ttotal: 5.43s\tremaining: 371ms\n",
      "936:\tlearn: 7.4032946\ttotal: 5.44s\tremaining: 366ms\n",
      "937:\tlearn: 7.3997020\ttotal: 5.45s\tremaining: 360ms\n",
      "938:\tlearn: 7.3962337\ttotal: 5.45s\tremaining: 354ms\n",
      "939:\tlearn: 7.3930050\ttotal: 5.46s\tremaining: 349ms\n",
      "940:\tlearn: 7.3923503\ttotal: 5.46s\tremaining: 343ms\n",
      "941:\tlearn: 7.3902022\ttotal: 5.47s\tremaining: 337ms\n",
      "942:\tlearn: 7.3893529\ttotal: 5.48s\tremaining: 331ms\n",
      "943:\tlearn: 7.3871450\ttotal: 5.48s\tremaining: 325ms\n",
      "944:\tlearn: 7.3856651\ttotal: 5.49s\tremaining: 319ms\n",
      "945:\tlearn: 7.3851854\ttotal: 5.49s\tremaining: 313ms\n",
      "946:\tlearn: 7.3835191\ttotal: 5.5s\tremaining: 308ms\n",
      "947:\tlearn: 7.3819754\ttotal: 5.5s\tremaining: 302ms\n",
      "948:\tlearn: 7.3789964\ttotal: 5.51s\tremaining: 296ms\n",
      "949:\tlearn: 7.3766004\ttotal: 5.51s\tremaining: 290ms\n",
      "950:\tlearn: 7.3757553\ttotal: 5.52s\tremaining: 284ms\n",
      "951:\tlearn: 7.3742908\ttotal: 5.52s\tremaining: 278ms\n",
      "952:\tlearn: 7.3734630\ttotal: 5.53s\tremaining: 273ms\n",
      "953:\tlearn: 7.3707590\ttotal: 5.53s\tremaining: 267ms\n",
      "954:\tlearn: 7.3683806\ttotal: 5.54s\tremaining: 261ms\n",
      "955:\tlearn: 7.3656692\ttotal: 5.54s\tremaining: 255ms\n",
      "956:\tlearn: 7.3643101\ttotal: 5.55s\tremaining: 249ms\n",
      "957:\tlearn: 7.3631983\ttotal: 5.55s\tremaining: 243ms\n",
      "958:\tlearn: 7.3607797\ttotal: 5.56s\tremaining: 238ms\n",
      "959:\tlearn: 7.3584233\ttotal: 5.57s\tremaining: 232ms\n",
      "960:\tlearn: 7.3559382\ttotal: 5.57s\tremaining: 226ms\n",
      "961:\tlearn: 7.3548270\ttotal: 5.58s\tremaining: 220ms\n",
      "962:\tlearn: 7.3537804\ttotal: 5.58s\tremaining: 215ms\n",
      "963:\tlearn: 7.3524497\ttotal: 5.59s\tremaining: 209ms\n",
      "964:\tlearn: 7.3501994\ttotal: 5.6s\tremaining: 203ms\n",
      "965:\tlearn: 7.3495730\ttotal: 5.6s\tremaining: 197ms\n",
      "966:\tlearn: 7.3470747\ttotal: 5.61s\tremaining: 191ms\n",
      "967:\tlearn: 7.3449601\ttotal: 5.61s\tremaining: 186ms\n",
      "968:\tlearn: 7.3424536\ttotal: 5.62s\tremaining: 180ms\n",
      "969:\tlearn: 7.3414383\ttotal: 5.63s\tremaining: 174ms\n",
      "970:\tlearn: 7.3408695\ttotal: 5.63s\tremaining: 168ms\n",
      "971:\tlearn: 7.3389363\ttotal: 5.64s\tremaining: 162ms\n",
      "972:\tlearn: 7.3379042\ttotal: 5.64s\tremaining: 157ms\n",
      "973:\tlearn: 7.3366106\ttotal: 5.65s\tremaining: 151ms\n",
      "974:\tlearn: 7.3363306\ttotal: 5.66s\tremaining: 145ms\n",
      "975:\tlearn: 7.3342058\ttotal: 5.66s\tremaining: 139ms\n",
      "976:\tlearn: 7.3322683\ttotal: 5.67s\tremaining: 133ms\n",
      "977:\tlearn: 7.3299063\ttotal: 5.67s\tremaining: 128ms\n",
      "978:\tlearn: 7.3278623\ttotal: 5.68s\tremaining: 122ms\n",
      "979:\tlearn: 7.3270512\ttotal: 5.68s\tremaining: 116ms\n",
      "980:\tlearn: 7.3259832\ttotal: 5.69s\tremaining: 110ms\n",
      "981:\tlearn: 7.3230288\ttotal: 5.7s\tremaining: 104ms\n",
      "982:\tlearn: 7.3219950\ttotal: 5.71s\tremaining: 98.7ms\n",
      "983:\tlearn: 7.3200505\ttotal: 5.71s\tremaining: 92.9ms\n",
      "984:\tlearn: 7.3193108\ttotal: 5.72s\tremaining: 87.1ms\n",
      "985:\tlearn: 7.3180705\ttotal: 5.72s\tremaining: 81.2ms\n",
      "986:\tlearn: 7.3164043\ttotal: 5.72s\tremaining: 75.4ms\n",
      "987:\tlearn: 7.3145749\ttotal: 5.73s\tremaining: 69.6ms\n",
      "988:\tlearn: 7.3131958\ttotal: 5.74s\tremaining: 63.8ms\n",
      "989:\tlearn: 7.3123373\ttotal: 5.74s\tremaining: 58ms\n",
      "990:\tlearn: 7.3097681\ttotal: 5.75s\tremaining: 52.3ms\n",
      "991:\tlearn: 7.3088136\ttotal: 5.76s\tremaining: 46.4ms\n",
      "992:\tlearn: 7.3063888\ttotal: 5.77s\tremaining: 40.6ms\n",
      "993:\tlearn: 7.3052482\ttotal: 5.77s\tremaining: 34.8ms\n",
      "994:\tlearn: 7.3043461\ttotal: 5.78s\tremaining: 29ms\n",
      "995:\tlearn: 7.3036462\ttotal: 5.78s\tremaining: 23.2ms\n",
      "996:\tlearn: 7.3019755\ttotal: 5.79s\tremaining: 17.4ms\n",
      "997:\tlearn: 7.3000021\ttotal: 5.79s\tremaining: 11.6ms\n",
      "998:\tlearn: 7.2987308\ttotal: 5.8s\tremaining: 5.81ms\n",
      "999:\tlearn: 7.2979864\ttotal: 5.8s\tremaining: 0us\n"
     ]
    },
    {
     "data": {
      "text/plain": [
       "<catboost.core.CatBoostRegressor at 0x25e7ffaa4f0>"
      ]
     },
     "execution_count": 60,
     "metadata": {},
     "output_type": "execute_result"
    }
   ],
   "source": [
    "CBR.fit(x_train,y_train)"
   ]
  },
  {
   "cell_type": "code",
   "execution_count": 61,
   "id": "5a8c560f",
   "metadata": {},
   "outputs": [],
   "source": [
    "CBR_pred = CBR.predict(x_test)"
   ]
  },
  {
   "cell_type": "code",
   "execution_count": 62,
   "id": "ee62ac33",
   "metadata": {},
   "outputs": [
    {
     "data": {
      "text/plain": [
       "243.14479351462893"
      ]
     },
     "execution_count": 62,
     "metadata": {},
     "output_type": "execute_result"
    }
   ],
   "source": [
    "CBR_mse = mean_squared_error(CBR_pred,y_test)\n",
    "CBR_mse"
   ]
  },
  {
   "cell_type": "code",
   "execution_count": 63,
   "id": "b119b0aa",
   "metadata": {},
   "outputs": [
    {
     "data": {
      "text/plain": [
       "15.593100830643946"
      ]
     },
     "execution_count": 63,
     "metadata": {},
     "output_type": "execute_result"
    }
   ],
   "source": [
    "CBR_rmse = np.sqrt(CBR_mse)\n",
    "CBR_rmse"
   ]
  },
  {
   "cell_type": "markdown",
   "id": "c5a6831f",
   "metadata": {},
   "source": [
    "## Support Vector Machine"
   ]
  },
  {
   "cell_type": "code",
   "execution_count": 60,
   "id": "c8039d22",
   "metadata": {},
   "outputs": [],
   "source": [
    "from sklearn.svm import SVR"
   ]
  },
  {
   "cell_type": "code",
   "execution_count": 61,
   "id": "2338235f",
   "metadata": {},
   "outputs": [],
   "source": [
    "SVM = SVR()"
   ]
  },
  {
   "cell_type": "code",
   "execution_count": 62,
   "id": "5054ca3b",
   "metadata": {},
   "outputs": [
    {
     "data": {
      "text/html": [
       "<style>#sk-container-id-5 {color: black;}#sk-container-id-5 pre{padding: 0;}#sk-container-id-5 div.sk-toggleable {background-color: white;}#sk-container-id-5 label.sk-toggleable__label {cursor: pointer;display: block;width: 100%;margin-bottom: 0;padding: 0.3em;box-sizing: border-box;text-align: center;}#sk-container-id-5 label.sk-toggleable__label-arrow:before {content: \"▸\";float: left;margin-right: 0.25em;color: #696969;}#sk-container-id-5 label.sk-toggleable__label-arrow:hover:before {color: black;}#sk-container-id-5 div.sk-estimator:hover label.sk-toggleable__label-arrow:before {color: black;}#sk-container-id-5 div.sk-toggleable__content {max-height: 0;max-width: 0;overflow: hidden;text-align: left;background-color: #f0f8ff;}#sk-container-id-5 div.sk-toggleable__content pre {margin: 0.2em;color: black;border-radius: 0.25em;background-color: #f0f8ff;}#sk-container-id-5 input.sk-toggleable__control:checked~div.sk-toggleable__content {max-height: 200px;max-width: 100%;overflow: auto;}#sk-container-id-5 input.sk-toggleable__control:checked~label.sk-toggleable__label-arrow:before {content: \"▾\";}#sk-container-id-5 div.sk-estimator input.sk-toggleable__control:checked~label.sk-toggleable__label {background-color: #d4ebff;}#sk-container-id-5 div.sk-label input.sk-toggleable__control:checked~label.sk-toggleable__label {background-color: #d4ebff;}#sk-container-id-5 input.sk-hidden--visually {border: 0;clip: rect(1px 1px 1px 1px);clip: rect(1px, 1px, 1px, 1px);height: 1px;margin: -1px;overflow: hidden;padding: 0;position: absolute;width: 1px;}#sk-container-id-5 div.sk-estimator {font-family: monospace;background-color: #f0f8ff;border: 1px dotted black;border-radius: 0.25em;box-sizing: border-box;margin-bottom: 0.5em;}#sk-container-id-5 div.sk-estimator:hover {background-color: #d4ebff;}#sk-container-id-5 div.sk-parallel-item::after {content: \"\";width: 100%;border-bottom: 1px solid gray;flex-grow: 1;}#sk-container-id-5 div.sk-label:hover label.sk-toggleable__label {background-color: #d4ebff;}#sk-container-id-5 div.sk-serial::before {content: \"\";position: absolute;border-left: 1px solid gray;box-sizing: border-box;top: 0;bottom: 0;left: 50%;z-index: 0;}#sk-container-id-5 div.sk-serial {display: flex;flex-direction: column;align-items: center;background-color: white;padding-right: 0.2em;padding-left: 0.2em;position: relative;}#sk-container-id-5 div.sk-item {position: relative;z-index: 1;}#sk-container-id-5 div.sk-parallel {display: flex;align-items: stretch;justify-content: center;background-color: white;position: relative;}#sk-container-id-5 div.sk-item::before, #sk-container-id-5 div.sk-parallel-item::before {content: \"\";position: absolute;border-left: 1px solid gray;box-sizing: border-box;top: 0;bottom: 0;left: 50%;z-index: -1;}#sk-container-id-5 div.sk-parallel-item {display: flex;flex-direction: column;z-index: 1;position: relative;background-color: white;}#sk-container-id-5 div.sk-parallel-item:first-child::after {align-self: flex-end;width: 50%;}#sk-container-id-5 div.sk-parallel-item:last-child::after {align-self: flex-start;width: 50%;}#sk-container-id-5 div.sk-parallel-item:only-child::after {width: 0;}#sk-container-id-5 div.sk-dashed-wrapped {border: 1px dashed gray;margin: 0 0.4em 0.5em 0.4em;box-sizing: border-box;padding-bottom: 0.4em;background-color: white;}#sk-container-id-5 div.sk-label label {font-family: monospace;font-weight: bold;display: inline-block;line-height: 1.2em;}#sk-container-id-5 div.sk-label-container {text-align: center;}#sk-container-id-5 div.sk-container {/* jupyter's `normalize.less` sets `[hidden] { display: none; }` but bootstrap.min.css set `[hidden] { display: none !important; }` so we also need the `!important` here to be able to override the default hidden behavior on the sphinx rendered scikit-learn.org. See: https://github.com/scikit-learn/scikit-learn/issues/21755 */display: inline-block !important;position: relative;}#sk-container-id-5 div.sk-text-repr-fallback {display: none;}</style><div id=\"sk-container-id-5\" class=\"sk-top-container\"><div class=\"sk-text-repr-fallback\"><pre>SVR()</pre><b>In a Jupyter environment, please rerun this cell to show the HTML representation or trust the notebook. <br />On GitHub, the HTML representation is unable to render, please try loading this page with nbviewer.org.</b></div><div class=\"sk-container\" hidden><div class=\"sk-item\"><div class=\"sk-estimator sk-toggleable\"><input class=\"sk-toggleable__control sk-hidden--visually\" id=\"sk-estimator-id-5\" type=\"checkbox\" checked><label for=\"sk-estimator-id-5\" class=\"sk-toggleable__label sk-toggleable__label-arrow\">SVR</label><div class=\"sk-toggleable__content\"><pre>SVR()</pre></div></div></div></div></div>"
      ],
      "text/plain": [
       "SVR()"
      ]
     },
     "execution_count": 62,
     "metadata": {},
     "output_type": "execute_result"
    }
   ],
   "source": [
    "SVM.fit(x_train,y_train)"
   ]
  },
  {
   "cell_type": "code",
   "execution_count": 63,
   "id": "4674a907",
   "metadata": {},
   "outputs": [],
   "source": [
    "SVM_pred = SVM.predict(x_test)"
   ]
  },
  {
   "cell_type": "code",
   "execution_count": 64,
   "id": "9ee05913",
   "metadata": {},
   "outputs": [],
   "source": [
    "# from sklearn.metrics import mean_squared_error"
   ]
  },
  {
   "cell_type": "code",
   "execution_count": 65,
   "id": "867d63fa",
   "metadata": {
    "scrolled": true
   },
   "outputs": [
    {
     "data": {
      "text/plain": [
       "948.3189575818611"
      ]
     },
     "execution_count": 65,
     "metadata": {},
     "output_type": "execute_result"
    }
   ],
   "source": [
    "SVM_mse = mean_squared_error(SVM_pred,y_test)\n",
    "SVM_mse"
   ]
  },
  {
   "cell_type": "code",
   "execution_count": 66,
   "id": "c9340389",
   "metadata": {},
   "outputs": [
    {
     "data": {
      "text/plain": [
       "30.794787831414933"
      ]
     },
     "execution_count": 66,
     "metadata": {},
     "output_type": "execute_result"
    }
   ],
   "source": [
    "SVM_rmse = np.sqrt(SVM_mse)\n",
    "SVM_rmse"
   ]
  },
  {
   "cell_type": "markdown",
   "id": "a4d3239b",
   "metadata": {},
   "source": [
    "## Gradient Boosting Model"
   ]
  },
  {
   "cell_type": "code",
   "execution_count": 108,
   "id": "6219a86c",
   "metadata": {},
   "outputs": [
    {
     "data": {
      "text/plain": [
       "array([ 0.73893973,  4.37116735,  2.0656723 , ...,  6.63256194,\n",
       "       46.77160883, 19.66766248])"
      ]
     },
     "execution_count": 108,
     "metadata": {},
     "output_type": "execute_result"
    }
   ],
   "source": [
    "test_pred = GBR.predict(x_test)\n",
    "test_pred"
   ]
  },
  {
   "cell_type": "code",
   "execution_count": 109,
   "id": "40bc319a",
   "metadata": {},
   "outputs": [
    {
     "data": {
      "text/plain": [
       "5670     1.1\n",
       "1021     5.3\n",
       "2316     1.8\n",
       "2240    95.0\n",
       "1731    23.0\n",
       "        ... \n",
       "6318     2.2\n",
       "1825    17.8\n",
       "6542     4.6\n",
       "1949    47.0\n",
       "3340    18.0\n",
       "Name: Amount (Million Naira), Length: 1079, dtype: float64"
      ]
     },
     "execution_count": 109,
     "metadata": {},
     "output_type": "execute_result"
    }
   ],
   "source": [
    "y_test"
   ]
  },
  {
   "cell_type": "code",
   "execution_count": 64,
   "id": "329bf302",
   "metadata": {},
   "outputs": [],
   "source": [
    "import pickle\n",
    "# Dump the trained Catboost classifier with Pickle\n",
    "KC_pkl_filename = 'CatBoost.pkl'\n",
    "\n",
    "# Open the file to save as pkl file\n",
    "KC_Model_pkl = open(KC_pkl_filename, 'wb')\n",
    "pickle.dump(CBR, KC_Model_pkl)\n",
    "\n",
    "# Close the pickle instances\n",
    "KC_Model_pkl.close()"
   ]
  },
  {
   "cell_type": "code",
   "execution_count": 104,
   "id": "5c741ebc",
   "metadata": {},
   "outputs": [],
   "source": [
    "# file = \n",
    "pd.DataFrame({'VehicleID':test['VehicleID'], 'Amount (Million Naira)':test_pred}).to_csv('submission_07.csv', index=False)"
   ]
  },
  {
   "cell_type": "code",
   "execution_count": 111,
   "id": "bed3886c",
   "metadata": {},
   "outputs": [
    {
     "name": "stdout",
     "output_type": "stream",
     "text": [
      "Package                       Version\n",
      "----------------------------- --------------------\n",
      "absl-py                       1.4.0\n",
      "aiofiles                      23.2.1\n",
      "alabaster                     0.7.12\n",
      "altair                        5.0.1\n",
      "anaconda-client               1.11.0\n",
      "anaconda-navigator            2.3.1\n",
      "anaconda-project              0.11.1\n",
      "annotated-types               0.5.0\n",
      "anyio                         3.5.0\n",
      "appdirs                       1.4.4\n",
      "argon2-cffi                   21.3.0\n",
      "argon2-cffi-bindings          21.2.0\n",
      "arrow                         1.2.2\n",
      "astroid                       2.11.7\n",
      "astropy                       5.1\n",
      "astunparse                    1.6.3\n",
      "atomicwrites                  1.4.0\n",
      "attrs                         21.4.0\n",
      "Automat                       20.2.0\n",
      "autopep8                      1.6.0\n",
      "Babel                         2.9.1\n",
      "backcall                      0.2.0\n",
      "backports.functools-lru-cache 1.6.4\n",
      "backports.tempfile            1.0\n",
      "backports.weakref             1.0.post1\n",
      "bcrypt                        3.2.0\n",
      "beautifulsoup4                4.11.1\n",
      "binaryornot                   0.4.4\n",
      "bitarray                      2.5.1\n",
      "bkcharts                      0.2\n",
      "black                         22.6.0\n",
      "bleach                        4.1.0\n",
      "blinker                       1.6.2\n",
      "bokeh                         2.4.3\n",
      "boto3                         1.24.28\n",
      "botocore                      1.27.28\n",
      "Bottleneck                    1.3.5\n",
      "branca                        0.6.0\n",
      "brotlipy                      0.7.0\n",
      "cachetools                    5.3.1\n",
      "catboost                      1.2\n",
      "certifi                       2022.9.14\n",
      "cffi                          1.15.1\n",
      "chardet                       4.0.0\n",
      "charset-normalizer            2.0.4\n",
      "click                         8.0.4\n",
      "cloudpickle                   2.0.0\n",
      "clyent                        1.2.2\n",
      "colorama                      0.4.5\n",
      "colorcet                      3.0.0\n",
      "comtypes                      1.1.10\n",
      "conda                         22.9.0\n",
      "conda-build                   3.22.0\n",
      "conda-content-trust           0.1.3\n",
      "conda-pack                    0.6.0\n",
      "conda-package-handling        1.9.0\n",
      "conda-repo-cli                1.0.20\n",
      "conda-token                   0.4.0\n",
      "conda-verify                  3.4.2\n",
      "constantly                    15.1.0\n",
      "cookiecutter                  1.7.3\n",
      "cryptography                  37.0.1\n",
      "cssselect                     1.1.0\n",
      "cycler                        0.11.0\n",
      "Cython                        0.29.32\n",
      "cytoolz                       0.11.0\n",
      "daal4py                       2021.6.0\n",
      "dask                          2022.7.0\n",
      "datashader                    0.14.1\n",
      "datashape                     0.5.4\n",
      "debugpy                       1.5.1\n",
      "decorator                     5.1.1\n",
      "defusedxml                    0.7.1\n",
      "diff-match-patch              20200713\n",
      "dill                          0.3.4\n",
      "distributed                   2022.7.0\n",
      "docutils                      0.18.1\n",
      "entrypoints                   0.4\n",
      "et-xmlfile                    1.1.0\n",
      "fastapi                       0.102.0\n",
      "fastjsonschema                2.16.2\n",
      "ffmpy                         0.3.1\n",
      "filelock                      3.6.0\n",
      "flake8                        4.0.1\n",
      "Flask                         1.1.2\n",
      "flatbuffers                   23.5.26\n",
      "folium                        0.14.0\n",
      "fonttools                     4.25.0\n",
      "fsspec                        2022.7.1\n",
      "future                        0.18.2\n",
      "gast                          0.4.0\n",
      "gensim                        4.1.2\n",
      "gitdb                         4.0.10\n",
      "GitPython                     3.1.34\n",
      "glob2                         0.7\n",
      "google-auth                   2.21.0\n",
      "google-auth-oauthlib          1.0.0\n",
      "google-pasta                  0.2.0\n",
      "gradio                        3.41.2\n",
      "gradio_client                 0.5.0\n",
      "graphviz                      0.20.1\n",
      "greenlet                      1.1.1\n",
      "grpcio                        1.56.0\n",
      "h11                           0.14.0\n",
      "h5py                          3.7.0\n",
      "HeapDict                      1.0.1\n",
      "holoviews                     1.15.0\n",
      "httpcore                      0.17.3\n",
      "httpx                         0.24.1\n",
      "huggingface-hub               0.16.4\n",
      "hvplot                        0.8.0\n",
      "hyperlink                     21.0.0\n",
      "idna                          3.3\n",
      "imagecodecs                   2021.8.26\n",
      "imageio                       2.19.3\n",
      "imagesize                     1.4.1\n",
      "importlib-metadata            4.11.3\n",
      "importlib-resources           6.0.1\n",
      "incremental                   21.3.0\n",
      "inflection                    0.5.1\n",
      "iniconfig                     1.1.1\n",
      "intake                        0.6.5\n",
      "intervaltree                  3.1.0\n",
      "ipykernel                     6.15.2\n",
      "ipython                       7.31.1\n",
      "ipython-genutils              0.2.0\n",
      "ipywidgets                    7.6.5\n",
      "isort                         5.9.3\n",
      "itemadapter                   0.3.0\n",
      "itemloaders                   1.0.4\n",
      "itsdangerous                  2.0.1\n",
      "jax                           0.4.13\n",
      "jdcal                         1.4.1\n",
      "jedi                          0.18.1\n",
      "jellyfish                     0.9.0\n",
      "Jinja2                        2.11.3\n",
      "jinja2-time                   0.2.0\n",
      "jmespath                      0.10.0\n",
      "joblib                        1.3.2\n",
      "json5                         0.9.6\n",
      "jsonschema                    4.16.0\n",
      "jupyter                       1.0.0\n",
      "jupyter_client                7.3.4\n",
      "jupyter-console               6.4.3\n",
      "jupyter_core                  4.11.1\n",
      "jupyter-server                1.18.1\n",
      "jupyterlab                    3.4.4\n",
      "jupyterlab-pygments           0.1.2\n",
      "jupyterlab-server             2.10.3\n",
      "jupyterlab-widgets            1.0.0\n",
      "keras                         2.12.0\n",
      "keyring                       23.4.0\n",
      "kiwisolver                    1.4.2\n",
      "lazy-object-proxy             1.6.0\n",
      "libarchive-c                  2.9\n",
      "libclang                      16.0.0\n",
      "lightgbm                      4.0.0\n",
      "llvmlite                      0.38.0\n",
      "locket                        1.0.0\n",
      "lxml                          4.9.1\n",
      "lz4                           3.1.3\n",
      "Markdown                      3.3.4\n",
      "markdown-it-py                3.0.0\n",
      "MarkupSafe                    2.0.1\n",
      "matplotlib                    3.5.2\n",
      "matplotlib-inline             0.1.6\n",
      "mccabe                        0.6.1\n",
      "mdurl                         0.1.2\n",
      "menuinst                      1.4.19\n",
      "mistune                       0.8.4\n",
      "mkl-fft                       1.3.1\n",
      "mkl-random                    1.2.2\n",
      "mkl-service                   2.4.0\n",
      "ml-dtypes                     0.2.0\n",
      "mlxtend                       0.22.0\n",
      "mock                          4.0.3\n",
      "mpmath                        1.2.1\n",
      "msgpack                       1.0.3\n",
      "multipledispatch              0.6.0\n",
      "munkres                       1.1.4\n",
      "mypy-extensions               0.4.3\n",
      "navigator-updater             0.3.0\n",
      "nbclassic                     0.3.5\n",
      "nbclient                      0.5.13\n",
      "nbconvert                     6.4.4\n",
      "nbformat                      5.5.0\n",
      "nest-asyncio                  1.5.5\n",
      "networkx                      2.8.4\n",
      "nltk                          3.7\n",
      "nose                          1.3.7\n",
      "notebook                      6.4.12\n",
      "numba                         0.55.1\n",
      "numexpr                       2.8.3\n",
      "numpy                         1.23.5\n",
      "numpydoc                      1.4.0\n",
      "oauthlib                      3.2.2\n",
      "olefile                       0.46\n",
      "openpyxl                      3.0.10\n",
      "opt-einsum                    3.3.0\n",
      "orjson                        3.9.5\n",
      "packaging                     21.3\n",
      "pandas                        1.4.4\n",
      "pandocfilters                 1.5.0\n",
      "panel                         0.13.1\n",
      "param                         1.12.0\n",
      "paramiko                      2.8.1\n",
      "parsel                        1.6.0\n",
      "parso                         0.8.3\n",
      "partd                         1.2.0\n",
      "pathlib                       1.0.1\n",
      "pathspec                      0.9.0\n",
      "patsy                         0.5.2\n",
      "pep8                          1.7.1\n",
      "pexpect                       4.8.0\n",
      "pickleshare                   0.7.5\n",
      "Pillow                        9.2.0\n",
      "pip                           22.2.2\n",
      "pkginfo                       1.8.2\n",
      "platformdirs                  2.5.2\n",
      "plotly                        5.9.0\n",
      "pluggy                        1.0.0\n",
      "poyo                          0.5.0\n",
      "prometheus-client             0.14.1\n",
      "prompt-toolkit                3.0.20\n",
      "Protego                       0.1.16\n",
      "protobuf                      4.23.3\n",
      "psutil                        5.9.0\n",
      "ptyprocess                    0.7.0\n",
      "py                            1.11.0\n",
      "pyarrow                       13.0.0\n",
      "pyasn1                        0.4.8\n",
      "pyasn1-modules                0.2.8\n",
      "pycodestyle                   2.8.0\n",
      "pycosat                       0.6.3\n",
      "pycparser                     2.21\n",
      "pyct                          0.4.8\n",
      "pycurl                        7.45.1\n",
      "pydantic                      2.3.0\n",
      "pydantic_core                 2.6.3\n",
      "pydeck                        0.8.0\n",
      "PyDispatcher                  2.0.5\n",
      "pydocstyle                    6.1.1\n",
      "pydub                         0.25.1\n",
      "pyerfa                        2.0.0\n",
      "pyflakes                      2.4.0\n",
      "Pygments                      2.16.1\n",
      "PyHamcrest                    2.0.2\n",
      "PyJWT                         2.4.0\n",
      "pylint                        2.14.5\n",
      "pyls-spyder                   0.4.0\n",
      "Pympler                       1.0.1\n",
      "PyNaCl                        1.5.0\n",
      "pyodbc                        4.0.34\n",
      "pyOpenSSL                     22.0.0\n",
      "pyparsing                     3.0.9\n",
      "pyrsistent                    0.18.0\n",
      "PySocks                       1.7.1\n",
      "pytest                        7.1.2\n",
      "python-dateutil               2.8.2\n",
      "python-lsp-black              1.0.0\n",
      "python-lsp-jsonrpc            1.0.0\n",
      "python-lsp-server             1.3.3\n",
      "python-multipart              0.0.6\n",
      "python-slugify                5.0.2\n",
      "python-snappy                 0.6.0\n",
      "pytz                          2022.1\n",
      "pytz-deprecation-shim         0.1.0.post0\n",
      "pyviz-comms                   2.0.2\n",
      "PyWavelets                    1.3.0\n",
      "pywin32                       302\n",
      "pywin32-ctypes                0.2.0\n",
      "pywinpty                      2.0.2\n",
      "PyYAML                        6.0\n",
      "pyzmq                         23.2.0\n",
      "QDarkStyle                    3.0.2\n",
      "qstylizer                     0.1.10\n",
      "QtAwesome                     1.0.3\n",
      "qtconsole                     5.2.2\n",
      "QtPy                          2.2.0\n",
      "queuelib                      1.5.0\n",
      "regex                         2022.7.9\n",
      "requests                      2.28.1\n",
      "requests-file                 1.5.1\n",
      "requests-oauthlib             1.3.1\n",
      "rich                          13.5.2\n",
      "rope                          0.22.0\n",
      "rsa                           4.9\n",
      "Rtree                         0.9.7\n",
      "ruamel-yaml-conda             0.15.100\n",
      "s3transfer                    0.6.0\n",
      "scikit-image                  0.19.2\n",
      "scikit-learn                  1.3.0\n",
      "scikit-learn-intelex          2021.20221004.171935\n",
      "scipy                         1.9.1\n",
      "Scrapy                        2.6.2\n",
      "seaborn                       0.11.2\n",
      "semantic-version              2.10.0\n",
      "Send2Trash                    1.8.0\n",
      "service-identity              18.1.0\n",
      "setuptools                    63.4.1\n",
      "sip                           4.19.13\n",
      "six                           1.16.0\n",
      "smart-open                    5.2.1\n",
      "smmap                         5.0.0\n",
      "sniffio                       1.2.0\n",
      "snowballstemmer               2.2.0\n",
      "sortedcollections             2.1.0\n",
      "sortedcontainers              2.4.0\n",
      "soupsieve                     2.3.1\n",
      "Sphinx                        5.0.2\n",
      "sphinxcontrib-applehelp       1.0.2\n",
      "sphinxcontrib-devhelp         1.0.2\n",
      "sphinxcontrib-htmlhelp        2.0.0\n",
      "sphinxcontrib-jsmath          1.0.1\n",
      "sphinxcontrib-qthelp          1.0.3\n",
      "sphinxcontrib-serializinghtml 1.1.5\n",
      "spyder                        5.2.2\n",
      "spyder-kernels                2.2.1\n",
      "SQLAlchemy                    1.4.39\n",
      "starlette                     0.27.0\n",
      "statsmodels                   0.13.2\n",
      "streamlit                     1.26.0\n",
      "sympy                         1.10.1\n",
      "tables                        3.6.1\n",
      "tabulate                      0.8.10\n",
      "TBB                           0.2\n",
      "tblib                         1.7.0\n",
      "tenacity                      8.2.3\n",
      "tensorboard                   2.12.3\n",
      "tensorboard-data-server       0.7.1\n",
      "tensorflow                    2.12.0\n",
      "tensorflow-estimator          2.12.0\n",
      "tensorflow-intel              2.12.0\n",
      "tensorflow-io-gcs-filesystem  0.31.0\n",
      "termcolor                     2.3.0\n",
      "terminado                     0.13.1\n",
      "testpath                      0.6.0\n",
      "text-unidecode                1.3\n",
      "textdistance                  4.2.1\n",
      "threadpoolctl                 2.2.0\n",
      "three-merge                   0.1.1\n",
      "tifffile                      2021.7.2\n",
      "tinycss                       0.4\n",
      "tldextract                    3.2.0\n",
      "toml                          0.10.2\n",
      "tomli                         2.0.1\n",
      "tomlkit                       0.11.1\n",
      "toolz                         0.11.2\n",
      "tornado                       6.1\n",
      "tqdm                          4.64.1\n",
      "traitlets                     5.1.1\n",
      "Twisted                       22.2.0\n",
      "twisted-iocpsupport           1.0.2\n",
      "typing_extensions             4.7.1\n",
      "tzdata                        2023.3\n",
      "tzlocal                       4.3.1\n",
      "ujson                         5.4.0\n",
      "Unidecode                     1.2.0\n",
      "urllib3                       1.26.11\n",
      "uvicorn                       0.23.2\n",
      "validators                    0.22.0\n",
      "w3lib                         1.21.0\n",
      "watchdog                      2.1.6\n",
      "wcwidth                       0.2.5\n",
      "webencodings                  0.5.1\n",
      "websocket-client              0.58.0\n",
      "websockets                    11.0.3\n",
      "Werkzeug                      2.0.3\n",
      "wheel                         0.37.1\n",
      "widgetsnbextension            3.5.2\n",
      "win-inet-pton                 1.1.0\n",
      "win-unicode-console           0.5\n",
      "wincertstore                  0.2\n",
      "wordcloud                     1.9.2\n",
      "wrapt                         1.14.1\n",
      "xarray                        0.20.1\n",
      "xgboost                       1.7.5\n",
      "xlrd                          2.0.1\n",
      "XlsxWriter                    3.0.3\n",
      "xlwings                       0.27.15\n",
      "yapf                          0.31.0\n",
      "zict                          2.1.0\n",
      "zipp                          3.8.0\n",
      "zope.interface                5.4.0\n",
      "Note: you may need to restart the kernel to use updated packages.\n"
     ]
    }
   ],
   "source": [
    "pip list"
   ]
  },
  {
   "cell_type": "code",
   "execution_count": 69,
   "id": "dc10e04e",
   "metadata": {},
   "outputs": [],
   "source": [
    "model = pickle.load(open('GradientBoost.pkl', 'rb'))"
   ]
  },
  {
   "cell_type": "code",
   "execution_count": 70,
   "id": "59a5e19f",
   "metadata": {},
   "outputs": [
    {
     "name": "stderr",
     "output_type": "stream",
     "text": [
      "C:\\Users\\SHOPINVERSE\\anaconda3\\lib\\site-packages\\sklearn\\base.py:464: UserWarning: X does not have valid feature names, but GradientBoostingRegressor was fitted with feature names\n",
      "  warnings.warn(\n"
     ]
    },
    {
     "data": {
      "text/plain": [
       "array([28.67806992])"
      ]
     },
     "execution_count": 70,
     "metadata": {},
     "output_type": "execute_result"
    }
   ],
   "source": [
    "model.predict(np.array([[1,17,2024,14,2,30000.1]]))"
   ]
  },
  {
   "cell_type": "code",
   "execution_count": null,
   "id": "a9a24d31",
   "metadata": {},
   "outputs": [],
   "source": []
  }
 ],
 "metadata": {
  "kernelspec": {
   "display_name": "Python 3 (ipykernel)",
   "language": "python",
   "name": "python3"
  },
  "language_info": {
   "codemirror_mode": {
    "name": "ipython",
    "version": 3
   },
   "file_extension": ".py",
   "mimetype": "text/x-python",
   "name": "python",
   "nbconvert_exporter": "python",
   "pygments_lexer": "ipython3",
   "version": "3.9.13"
  }
 },
 "nbformat": 4,
 "nbformat_minor": 5
}
