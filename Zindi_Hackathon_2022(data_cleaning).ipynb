{
 "cells": [
  {
   "cell_type": "markdown",
   "id": "43a062d6",
   "metadata": {},
   "source": [
    "## Description\n",
    "A Nigerian automobile company, Great Motors, has just employed you as their lead data scientist for the analytics division.\n",
    "\n",
    "Great Motors deals in used cars, with a huge market base in Nigeria. The company has a unique platform where customers can buy and sell cars. A seller posts details about the vehicle for review by the company’s mechanic on the platform to ascertain the vehicle's value. The company then lists the car for sale at the best price. Great Motors makes its profit by receiving a percentage of the selling price listed on the company platform. To ensure the car's selling price is the best for both the customer selling the vehicle and Great Motors, you have been assigned the task of coming up with a predictive model for determining the price of the car.\n",
    "\n",
    "Your job is to predict the price the company should sell a car based on the available data the mechanics have submitted to you.\n",
    "\n",
    "The objective of the challenge is to predict the price (Amount (Million Naira) the company should sell a car based on the available data (Location, Maker, Model, Year, Colour, Amount (Million Naira), Type, Distance). The objective is the predict the selling price.\n",
    "\n",
    "There are ~7000 entries in Train and ~2000 entries in Test.\n",
    "\n",
    "The objective of the challenge is to predict the price (Amount (Million Naira) the company should sell a car based on the available data (Location, Maker, Model, Year, Colour, Amount (Million Naira), Type, Distance). The objective is the predict the selling price."
   ]
  },
  {
   "cell_type": "code",
   "execution_count": 1,
   "id": "c302b785",
   "metadata": {},
   "outputs": [],
   "source": [
    "import pandas as pd\n",
    "import numpy as np\n",
    "import seaborn as sns\n",
    "import matplotlib.pyplot as plt\n",
    "%matplotlib inline"
   ]
  },
  {
   "cell_type": "markdown",
   "id": "325b5fe1",
   "metadata": {},
   "source": [
    "## Data Exploration"
   ]
  },
  {
   "cell_type": "code",
   "execution_count": 2,
   "id": "3ae00029",
   "metadata": {},
   "outputs": [
    {
     "data": {
      "text/html": [
       "<div>\n",
       "<style scoped>\n",
       "    .dataframe tbody tr th:only-of-type {\n",
       "        vertical-align: middle;\n",
       "    }\n",
       "\n",
       "    .dataframe tbody tr th {\n",
       "        vertical-align: top;\n",
       "    }\n",
       "\n",
       "    .dataframe thead th {\n",
       "        text-align: right;\n",
       "    }\n",
       "</style>\n",
       "<table border=\"1\" class=\"dataframe\">\n",
       "  <thead>\n",
       "    <tr style=\"text-align: right;\">\n",
       "      <th></th>\n",
       "      <th>VehicleID</th>\n",
       "      <th>Location</th>\n",
       "      <th>Maker</th>\n",
       "      <th>Model</th>\n",
       "      <th>Year</th>\n",
       "      <th>Colour</th>\n",
       "      <th>Amount (Million Naira)</th>\n",
       "      <th>Type</th>\n",
       "      <th>Distance</th>\n",
       "    </tr>\n",
       "  </thead>\n",
       "  <tbody>\n",
       "    <tr>\n",
       "      <th>0</th>\n",
       "      <td>VHL12546</td>\n",
       "      <td>Abuja</td>\n",
       "      <td>Honda</td>\n",
       "      <td>Accord Coupe EX V-6</td>\n",
       "      <td>2,011</td>\n",
       "      <td>Silver</td>\n",
       "      <td>2.2</td>\n",
       "      <td>Nigerian Used</td>\n",
       "      <td>NaN</td>\n",
       "    </tr>\n",
       "    <tr>\n",
       "      <th>1</th>\n",
       "      <td>VHL18827</td>\n",
       "      <td>Ibadan</td>\n",
       "      <td>Hyundai</td>\n",
       "      <td>Sonata</td>\n",
       "      <td>2,012</td>\n",
       "      <td>Silver</td>\n",
       "      <td>3.5</td>\n",
       "      <td>Nigerian Used</td>\n",
       "      <td>125,000</td>\n",
       "    </tr>\n",
       "    <tr>\n",
       "      <th>2</th>\n",
       "      <td>VHL19499</td>\n",
       "      <td>Lagos</td>\n",
       "      <td>Lexus</td>\n",
       "      <td>RX 350</td>\n",
       "      <td>2,010</td>\n",
       "      <td>Red</td>\n",
       "      <td>9.2</td>\n",
       "      <td>Foreign Used</td>\n",
       "      <td>110,852</td>\n",
       "    </tr>\n",
       "    <tr>\n",
       "      <th>3</th>\n",
       "      <td>VHL17991</td>\n",
       "      <td>Abuja</td>\n",
       "      <td>Mercedes-Benz</td>\n",
       "      <td>GLE-Class</td>\n",
       "      <td>2,017</td>\n",
       "      <td>Blue</td>\n",
       "      <td>22.8</td>\n",
       "      <td>Foreign Used</td>\n",
       "      <td>30,000</td>\n",
       "    </tr>\n",
       "    <tr>\n",
       "      <th>4</th>\n",
       "      <td>VHL12170</td>\n",
       "      <td>Ibadan</td>\n",
       "      <td>Toyota</td>\n",
       "      <td>Highlander</td>\n",
       "      <td>2,002</td>\n",
       "      <td>Red</td>\n",
       "      <td>2.6</td>\n",
       "      <td>Nigerian Used</td>\n",
       "      <td>125,206</td>\n",
       "    </tr>\n",
       "  </tbody>\n",
       "</table>\n",
       "</div>"
      ],
      "text/plain": [
       "  VehicleID Location          Maker                Model   Year  Colour  \\\n",
       "0  VHL12546    Abuja          Honda  Accord Coupe EX V-6  2,011  Silver   \n",
       "1  VHL18827   Ibadan        Hyundai               Sonata  2,012  Silver   \n",
       "2  VHL19499    Lagos          Lexus               RX 350  2,010     Red   \n",
       "3  VHL17991    Abuja  Mercedes-Benz            GLE-Class  2,017    Blue   \n",
       "4  VHL12170   Ibadan         Toyota           Highlander  2,002     Red   \n",
       "\n",
       "   Amount (Million Naira)           Type Distance  \n",
       "0                     2.2  Nigerian Used      NaN  \n",
       "1                     3.5  Nigerian Used  125,000  \n",
       "2                     9.2   Foreign Used  110,852  \n",
       "3                    22.8   Foreign Used   30,000  \n",
       "4                     2.6  Nigerian Used  125,206  "
      ]
     },
     "execution_count": 2,
     "metadata": {},
     "output_type": "execute_result"
    }
   ],
   "source": [
    "# loading the train and test sets\n",
    "train = pd.read_csv('train.csv')\n",
    "test =pd.read_csv('test.csv')\n",
    "\n",
    "train.head()"
   ]
  },
  {
   "cell_type": "code",
   "execution_count": 3,
   "id": "a871f0f0",
   "metadata": {},
   "outputs": [
    {
     "data": {
      "text/plain": [
       "(7205, 9)"
      ]
     },
     "execution_count": 3,
     "metadata": {},
     "output_type": "execute_result"
    }
   ],
   "source": [
    "train.shape"
   ]
  },
  {
   "cell_type": "code",
   "execution_count": 4,
   "id": "b0858d1d",
   "metadata": {},
   "outputs": [
    {
     "name": "stdout",
     "output_type": "stream",
     "text": [
      "<class 'pandas.core.frame.DataFrame'>\n",
      "RangeIndex: 7205 entries, 0 to 7204\n",
      "Data columns (total 9 columns):\n",
      " #   Column                  Non-Null Count  Dtype  \n",
      "---  ------                  --------------  -----  \n",
      " 0   VehicleID               7205 non-null   object \n",
      " 1   Location                7205 non-null   object \n",
      " 2   Maker                   7205 non-null   object \n",
      " 3   Model                   7205 non-null   object \n",
      " 4   Year                    7184 non-null   object \n",
      " 5   Colour                  7205 non-null   object \n",
      " 6   Amount (Million Naira)  7188 non-null   float64\n",
      " 7   Type                    7008 non-null   object \n",
      " 8   Distance                4845 non-null   object \n",
      "dtypes: float64(1), object(8)\n",
      "memory usage: 506.7+ KB\n"
     ]
    }
   ],
   "source": [
    "train.info()"
   ]
  },
  {
   "cell_type": "code",
   "execution_count": 6,
   "id": "67cb7ca1",
   "metadata": {},
   "outputs": [
    {
     "data": {
      "text/plain": [
       "VehicleID                    0\n",
       "Location                     0\n",
       "Maker                        0\n",
       "Model                        0\n",
       "Year                        21\n",
       "Colour                       0\n",
       "Amount (Million Naira)      17\n",
       "Type                       197\n",
       "Distance                  2360\n",
       "dtype: int64"
      ]
     },
     "execution_count": 6,
     "metadata": {},
     "output_type": "execute_result"
    }
   ],
   "source": [
    "train.isnull().sum()"
   ]
  },
  {
   "cell_type": "code",
   "execution_count": 7,
   "id": "537d1326",
   "metadata": {},
   "outputs": [
    {
     "data": {
      "text/plain": [
       "Foreign Used     4896\n",
       "Nigerian Used    1895\n",
       "Brand New         217\n",
       "Name: Type, dtype: int64"
      ]
     },
     "execution_count": 7,
     "metadata": {},
     "output_type": "execute_result"
    }
   ],
   "source": [
    "train.Type.value_counts()"
   ]
  },
  {
   "cell_type": "code",
   "execution_count": 8,
   "id": "7e9dca50",
   "metadata": {},
   "outputs": [
    {
     "data": {
      "text/plain": [
       "array(['2,011', '2,012', '2,010', '2,017', '2,002', '2,019', '2,015',\n",
       "       '2,004', '2,003', '2,008', '2,018', '2,020', '2,006', '2,016',\n",
       "       '2,014', '2,007', '2,009', '2,005', '2,021', '2,013', '2,000', nan,\n",
       "       '1,992', '2,001', '1,997', '1,999', '1,993', '1,998', '1,986',\n",
       "       '1,996', '2,022', '1,995', '1,979', '1,989'], dtype=object)"
      ]
     },
     "execution_count": 8,
     "metadata": {},
     "output_type": "execute_result"
    }
   ],
   "source": [
    "train['Year'].unique()"
   ]
  },
  {
   "cell_type": "markdown",
   "id": "c03e21a9",
   "metadata": {},
   "source": [
    "I noticed that the year data was not entered correctly, so I am going to remove all the `,` using a `.replace()` string method and a for loop."
   ]
  },
  {
   "cell_type": "code",
   "execution_count": 16,
   "id": "47b7a311",
   "metadata": {},
   "outputs": [],
   "source": [
    "train['Year'] = [str(x).replace(',','') for x in train['Year']]\n",
    "\n",
    "# train['Year'].value_counts()"
   ]
  },
  {
   "cell_type": "code",
   "execution_count": 14,
   "id": "ade1e3a1",
   "metadata": {},
   "outputs": [],
   "source": [
    "test['Year'] = [str(x).replace(',','') for x in test['Year']]\n",
    "\n",
    "# test['Year'].value_counts()"
   ]
  },
  {
   "cell_type": "code",
   "execution_count": 15,
   "id": "3c467cf2",
   "metadata": {},
   "outputs": [
    {
     "data": {
      "text/html": [
       "<div>\n",
       "<style scoped>\n",
       "    .dataframe tbody tr th:only-of-type {\n",
       "        vertical-align: middle;\n",
       "    }\n",
       "\n",
       "    .dataframe tbody tr th {\n",
       "        vertical-align: top;\n",
       "    }\n",
       "\n",
       "    .dataframe thead th {\n",
       "        text-align: right;\n",
       "    }\n",
       "</style>\n",
       "<table border=\"1\" class=\"dataframe\">\n",
       "  <thead>\n",
       "    <tr style=\"text-align: right;\">\n",
       "      <th></th>\n",
       "      <th>VehicleID</th>\n",
       "      <th>Location</th>\n",
       "      <th>Maker</th>\n",
       "      <th>Model</th>\n",
       "      <th>Year</th>\n",
       "      <th>Colour</th>\n",
       "      <th>Type</th>\n",
       "      <th>Distance</th>\n",
       "    </tr>\n",
       "  </thead>\n",
       "  <tbody>\n",
       "    <tr>\n",
       "      <th>0</th>\n",
       "      <td>VHL18518</td>\n",
       "      <td>Abuja</td>\n",
       "      <td>BMW</td>\n",
       "      <td>323i</td>\n",
       "      <td>2008</td>\n",
       "      <td>White</td>\n",
       "      <td>Foreign Used</td>\n",
       "      <td>30524.0</td>\n",
       "    </tr>\n",
       "    <tr>\n",
       "      <th>1</th>\n",
       "      <td>VHL17149</td>\n",
       "      <td>Lagos</td>\n",
       "      <td>Toyota</td>\n",
       "      <td>Camry</td>\n",
       "      <td>2013</td>\n",
       "      <td>White</td>\n",
       "      <td>Foreign Used</td>\n",
       "      <td>NaN</td>\n",
       "    </tr>\n",
       "    <tr>\n",
       "      <th>2</th>\n",
       "      <td>VHL10927</td>\n",
       "      <td>Lagos</td>\n",
       "      <td>Toyota</td>\n",
       "      <td>Highlander Limited V6</td>\n",
       "      <td>2005</td>\n",
       "      <td>Gold</td>\n",
       "      <td>Foreign Used</td>\n",
       "      <td>NaN</td>\n",
       "    </tr>\n",
       "    <tr>\n",
       "      <th>3</th>\n",
       "      <td>VHL12909</td>\n",
       "      <td>Lagos</td>\n",
       "      <td>Toyota</td>\n",
       "      <td>Camry</td>\n",
       "      <td>2011</td>\n",
       "      <td>Gray</td>\n",
       "      <td>Foreign Used</td>\n",
       "      <td>166839.0</td>\n",
       "    </tr>\n",
       "    <tr>\n",
       "      <th>4</th>\n",
       "      <td>VHL12348</td>\n",
       "      <td>Lagos</td>\n",
       "      <td>Lexus</td>\n",
       "      <td>ES 350 FWD</td>\n",
       "      <td>2013</td>\n",
       "      <td>Red</td>\n",
       "      <td>Foreign Used</td>\n",
       "      <td>88862.0</td>\n",
       "    </tr>\n",
       "  </tbody>\n",
       "</table>\n",
       "</div>"
      ],
      "text/plain": [
       "  VehicleID Location   Maker                  Model  Year Colour  \\\n",
       "0  VHL18518    Abuja     BMW                   323i  2008  White   \n",
       "1  VHL17149    Lagos  Toyota                  Camry  2013  White   \n",
       "2  VHL10927    Lagos  Toyota  Highlander Limited V6  2005   Gold   \n",
       "3  VHL12909    Lagos  Toyota                  Camry  2011   Gray   \n",
       "4  VHL12348    Lagos   Lexus             ES 350 FWD  2013    Red   \n",
       "\n",
       "           Type  Distance  \n",
       "0  Foreign Used   30524.0  \n",
       "1  Foreign Used       NaN  \n",
       "2  Foreign Used       NaN  \n",
       "3  Foreign Used  166839.0  \n",
       "4  Foreign Used   88862.0  "
      ]
     },
     "execution_count": 15,
     "metadata": {},
     "output_type": "execute_result"
    }
   ],
   "source": [
    "test.head()"
   ]
  },
  {
   "cell_type": "code",
   "execution_count": 11,
   "id": "e7bd5992",
   "metadata": {},
   "outputs": [
    {
     "data": {
      "text/plain": [
       "(2061, 8)"
      ]
     },
     "execution_count": 11,
     "metadata": {},
     "output_type": "execute_result"
    }
   ],
   "source": [
    "test.shape"
   ]
  },
  {
   "cell_type": "code",
   "execution_count": 16,
   "id": "23c95f1e",
   "metadata": {},
   "outputs": [
    {
     "name": "stdout",
     "output_type": "stream",
     "text": [
      "<class 'pandas.core.frame.DataFrame'>\n",
      "RangeIndex: 2061 entries, 0 to 2060\n",
      "Data columns (total 8 columns):\n",
      " #   Column     Non-Null Count  Dtype  \n",
      "---  ------     --------------  -----  \n",
      " 0   VehicleID  2061 non-null   object \n",
      " 1   Location   2061 non-null   object \n",
      " 2   Maker      2061 non-null   object \n",
      " 3   Model      2061 non-null   object \n",
      " 4   Year       2061 non-null   object \n",
      " 5   Colour     2061 non-null   object \n",
      " 6   Type       2007 non-null   object \n",
      " 7   Distance   1385 non-null   float64\n",
      "dtypes: float64(1), object(7)\n",
      "memory usage: 128.9+ KB\n"
     ]
    }
   ],
   "source": [
    "test.info()"
   ]
  },
  {
   "cell_type": "markdown",
   "id": "af2da11b",
   "metadata": {},
   "source": [
    "## Data cleaning\n",
    "* check for null values and fix them\n",
    "* check for duplicate rows\n",
    "* change the data type of the `Distance` column in the train set\n",
    "* create dummy variables for the object columns in the train and test set\n",
    "* drop irrelevant features"
   ]
  },
  {
   "cell_type": "code",
   "execution_count": 17,
   "id": "f77f15a6",
   "metadata": {},
   "outputs": [
    {
     "data": {
      "text/plain": [
       "VehicleID                    0\n",
       "Location                     0\n",
       "Maker                        0\n",
       "Model                        0\n",
       "Year                         0\n",
       "Colour                       0\n",
       "Amount (Million Naira)      17\n",
       "Type                       197\n",
       "Distance                  2360\n",
       "dtype: int64"
      ]
     },
     "execution_count": 17,
     "metadata": {},
     "output_type": "execute_result"
    }
   ],
   "source": [
    "# checking for null values\n",
    "train.isnull().sum()"
   ]
  },
  {
   "cell_type": "markdown",
   "id": "76d3cbed",
   "metadata": {},
   "source": [
    "I am going to fix the `Amount (Million Naira)` column first, but be for that, I want to observe the rows with missing values. Note that whatever you do to the train set, do the same to the test set.\n",
    "\n",
    "Since `Amount (Million Naira)` is our target variable, any cell that is missing is definitly not important to use, so I am going to drop every row that has a missing value for the `Amount (Million Naira)` column."
   ]
  },
  {
   "cell_type": "code",
   "execution_count": 14,
   "id": "d1ccd712",
   "metadata": {},
   "outputs": [],
   "source": [
    "train= train.dropna(axis=0, subset=['Amount (Million Naira)'])"
   ]
  },
  {
   "cell_type": "code",
   "execution_count": 15,
   "id": "67383bcd",
   "metadata": {},
   "outputs": [
    {
     "data": {
      "text/plain": [
       "VehicleID                    0\n",
       "Location                     0\n",
       "Maker                        0\n",
       "Model                        0\n",
       "Year                         0\n",
       "Colour                       0\n",
       "Amount (Million Naira)       0\n",
       "Type                       196\n",
       "Distance                  2352\n",
       "dtype: int64"
      ]
     },
     "execution_count": 15,
     "metadata": {},
     "output_type": "execute_result"
    }
   ],
   "source": [
    "train.isnull().sum()"
   ]
  },
  {
   "cell_type": "code",
   "execution_count": 18,
   "id": "b457c638",
   "metadata": {},
   "outputs": [
    {
     "data": {
      "text/html": [
       "<div>\n",
       "<style scoped>\n",
       "    .dataframe tbody tr th:only-of-type {\n",
       "        vertical-align: middle;\n",
       "    }\n",
       "\n",
       "    .dataframe tbody tr th {\n",
       "        vertical-align: top;\n",
       "    }\n",
       "\n",
       "    .dataframe thead th {\n",
       "        text-align: right;\n",
       "    }\n",
       "</style>\n",
       "<table border=\"1\" class=\"dataframe\">\n",
       "  <thead>\n",
       "    <tr style=\"text-align: right;\">\n",
       "      <th></th>\n",
       "      <th>VehicleID</th>\n",
       "      <th>Location</th>\n",
       "      <th>Maker</th>\n",
       "      <th>Model</th>\n",
       "      <th>Year</th>\n",
       "      <th>Colour</th>\n",
       "      <th>Amount (Million Naira)</th>\n",
       "      <th>Type</th>\n",
       "      <th>Distance</th>\n",
       "    </tr>\n",
       "  </thead>\n",
       "  <tbody>\n",
       "  </tbody>\n",
       "</table>\n",
       "</div>"
      ],
      "text/plain": [
       "Empty DataFrame\n",
       "Columns: [VehicleID, Location, Maker, Model, Year, Colour, Amount (Million Naira), Type, Distance]\n",
       "Index: []"
      ]
     },
     "execution_count": 18,
     "metadata": {},
     "output_type": "execute_result"
    }
   ],
   "source": [
    "train.loc[train['Year'] == 2021]"
   ]
  },
  {
   "cell_type": "code",
   "execution_count": 16,
   "id": "d43f4fa8",
   "metadata": {},
   "outputs": [],
   "source": [
    "train['Year'] = [x.replace('nan','2011') for x in train['Year'] ]"
   ]
  },
  {
   "cell_type": "code",
   "execution_count": 15,
   "id": "b2d5328a",
   "metadata": {},
   "outputs": [
    {
     "data": {
      "text/plain": [
       "2,008    755\n",
       "2,010    618\n",
       "2,013    599\n",
       "2,007    484\n",
       "2,012    460\n",
       "2,011    455\n",
       "2,009    439\n",
       "2,014    412\n",
       "2,015    369\n",
       "2,006    349\n",
       "2,005    298\n",
       "2,017    291\n",
       "2,016    280\n",
       "2,018    269\n",
       "2,004    222\n",
       "2,020    204\n",
       "2,019    189\n",
       "2,021    145\n",
       "2,003    122\n",
       "2,002     74\n",
       "2,001     55\n",
       "2,000     39\n",
       "1,999     19\n",
       "1,998     11\n",
       "2,022     10\n",
       "1,997      5\n",
       "1,992      3\n",
       "1,986      2\n",
       "1,995      2\n",
       "1,993      1\n",
       "1,996      1\n",
       "1,979      1\n",
       "1,989      1\n",
       "Name: Year, dtype: int64"
      ]
     },
     "execution_count": 15,
     "metadata": {},
     "output_type": "execute_result"
    }
   ],
   "source": [
    "train['Year'].value_counts()"
   ]
  },
  {
   "cell_type": "code",
   "execution_count": 18,
   "id": "9a75f490",
   "metadata": {},
   "outputs": [
    {
     "data": {
      "text/plain": [
       "2061"
      ]
     },
     "execution_count": 18,
     "metadata": {},
     "output_type": "execute_result"
    }
   ],
   "source": [
    "test.shape[0]"
   ]
  },
  {
   "cell_type": "code",
   "execution_count": 19,
   "id": "e917d5e0",
   "metadata": {},
   "outputs": [
    {
     "data": {
      "text/html": [
       "<div>\n",
       "<style scoped>\n",
       "    .dataframe tbody tr th:only-of-type {\n",
       "        vertical-align: middle;\n",
       "    }\n",
       "\n",
       "    .dataframe tbody tr th {\n",
       "        vertical-align: top;\n",
       "    }\n",
       "\n",
       "    .dataframe thead th {\n",
       "        text-align: right;\n",
       "    }\n",
       "</style>\n",
       "<table border=\"1\" class=\"dataframe\">\n",
       "  <thead>\n",
       "    <tr style=\"text-align: right;\">\n",
       "      <th></th>\n",
       "      <th>VehicleID</th>\n",
       "      <th>Location</th>\n",
       "      <th>Maker</th>\n",
       "      <th>Model</th>\n",
       "      <th>Year</th>\n",
       "      <th>Colour</th>\n",
       "      <th>Type</th>\n",
       "      <th>Distance</th>\n",
       "    </tr>\n",
       "  </thead>\n",
       "  <tbody>\n",
       "    <tr>\n",
       "      <th>27</th>\n",
       "      <td>VHL16050</td>\n",
       "      <td>Abuja</td>\n",
       "      <td>Hyundai</td>\n",
       "      <td>Sonata</td>\n",
       "      <td>nan</td>\n",
       "      <td>Gray</td>\n",
       "      <td>Nigerian Used</td>\n",
       "      <td>NaN</td>\n",
       "    </tr>\n",
       "    <tr>\n",
       "      <th>1517</th>\n",
       "      <td>VHL10361</td>\n",
       "      <td>Abuja</td>\n",
       "      <td>Land Rover</td>\n",
       "      <td>Range Rover Evoque</td>\n",
       "      <td>nan</td>\n",
       "      <td>White</td>\n",
       "      <td>Foreign Used</td>\n",
       "      <td>57421.0</td>\n",
       "    </tr>\n",
       "  </tbody>\n",
       "</table>\n",
       "</div>"
      ],
      "text/plain": [
       "     VehicleID Location       Maker               Model Year Colour  \\\n",
       "27    VHL16050    Abuja     Hyundai              Sonata  nan   Gray   \n",
       "1517  VHL10361    Abuja  Land Rover  Range Rover Evoque  nan  White   \n",
       "\n",
       "               Type  Distance  \n",
       "27    Nigerian Used       NaN  \n",
       "1517   Foreign Used   57421.0  "
      ]
     },
     "execution_count": 19,
     "metadata": {},
     "output_type": "execute_result"
    }
   ],
   "source": [
    "test.loc[test['Year'] == 'nan']"
   ]
  },
  {
   "cell_type": "markdown",
   "id": "3bdb525a",
   "metadata": {},
   "source": [
    "I am just going to do the same thing I did to the train set to these two nan rows in the Year column in the test set because there is no  way to assertain the year of these cars based on the data here."
   ]
  },
  {
   "cell_type": "code",
   "execution_count": 20,
   "id": "4ea7227f",
   "metadata": {},
   "outputs": [],
   "source": [
    "test['Year'] = [x.replace('nan','2011') for x in test['Year'] ]"
   ]
  },
  {
   "cell_type": "code",
   "execution_count": 21,
   "id": "ea2b7b9b",
   "metadata": {},
   "outputs": [],
   "source": [
    "# drop the rows with nan values in the year column for the test set\n",
    "# test.drop([27,1517], axis=0, inplace=True)"
   ]
  },
  {
   "cell_type": "code",
   "execution_count": 22,
   "id": "4ffd20c5",
   "metadata": {},
   "outputs": [
    {
     "data": {
      "text/plain": [
       "array(['2008', '2013', '2005', '2011', '2017', '1999', '2019', '2006',\n",
       "       '2015', '2007', '2012', '2016', '2010', '2003', '2004', '2021',\n",
       "       '2018', '2014', '2009', '2001', '2022', '2002', '2020', '1997',\n",
       "       '2000', '1998', '1986', '1991', '1982'], dtype=object)"
      ]
     },
     "execution_count": 22,
     "metadata": {},
     "output_type": "execute_result"
    }
   ],
   "source": [
    "test.Year.unique()"
   ]
  },
  {
   "cell_type": "code",
   "execution_count": 23,
   "id": "073624bc",
   "metadata": {},
   "outputs": [
    {
     "data": {
      "text/plain": [
       "VehicleID                    0\n",
       "Location                     0\n",
       "Maker                        0\n",
       "Model                        0\n",
       "Year                         0\n",
       "Colour                       0\n",
       "Amount (Million Naira)       0\n",
       "Type                       196\n",
       "Distance                  2352\n",
       "dtype: int64"
      ]
     },
     "execution_count": 23,
     "metadata": {},
     "output_type": "execute_result"
    }
   ],
   "source": [
    "# it is remaining the Type and Distance column\n",
    "train.isnull().sum()"
   ]
  },
  {
   "cell_type": "code",
   "execution_count": 24,
   "id": "43da0801",
   "metadata": {},
   "outputs": [
    {
     "data": {
      "text/plain": [
       "VehicleID      0\n",
       "Location       0\n",
       "Maker          0\n",
       "Model          0\n",
       "Year           0\n",
       "Colour         0\n",
       "Type          54\n",
       "Distance     676\n",
       "dtype: int64"
      ]
     },
     "execution_count": 24,
     "metadata": {},
     "output_type": "execute_result"
    }
   ],
   "source": [
    "# it is remaining the Type and Distance column\n",
    "test.isnull().sum()"
   ]
  },
  {
   "cell_type": "markdown",
   "id": "6219ab3a",
   "metadata": {},
   "source": [
    "Next, I will try to fix the `Type column`. Let me inspect this column."
   ]
  },
  {
   "cell_type": "code",
   "execution_count": 25,
   "id": "bceb0106",
   "metadata": {},
   "outputs": [
    {
     "data": {
      "text/plain": [
       "Foreign Used     4886\n",
       "Nigerian Used    1889\n",
       "Brand New         217\n",
       "Name: Type, dtype: int64"
      ]
     },
     "execution_count": 25,
     "metadata": {},
     "output_type": "execute_result"
    }
   ],
   "source": [
    "train.Type.value_counts()"
   ]
  },
  {
   "cell_type": "markdown",
   "id": "0ea34296",
   "metadata": {},
   "source": [
    "## Let's do some data viz\n",
    "<b id=\"viz\">I will make a copy of the train dataset an explore it visually</b>\n",
    "\n",
    "<a href=\"#end\">Go to end</a>"
   ]
  },
  {
   "cell_type": "code",
   "execution_count": 32,
   "id": "044ed3e8",
   "metadata": {},
   "outputs": [],
   "source": [
    "dtrain = train.copy()\n"
   ]
  },
  {
   "cell_type": "code",
   "execution_count": 78,
   "id": "66fc9196",
   "metadata": {},
   "outputs": [],
   "source": [
    "df_main = dtrain.loc[dtrain['Type'].isnull()]"
   ]
  },
  {
   "cell_type": "code",
   "execution_count": 79,
   "id": "ad56702c",
   "metadata": {},
   "outputs": [
    {
     "name": "stderr",
     "output_type": "stream",
     "text": [
      "C:\\Users\\YASHIM~1\\AppData\\Local\\Temp/ipykernel_23076/3014204428.py:1: SettingWithCopyWarning: \n",
      "A value is trying to be set on a copy of a slice from a DataFrame.\n",
      "Try using .loc[row_indexer,col_indexer] = value instead\n",
      "\n",
      "See the caveats in the documentation: https://pandas.pydata.org/pandas-docs/stable/user_guide/indexing.html#returning-a-view-versus-a-copy\n",
      "  df_main['Distance'] = [str(x).replace(',','') for x in df_main['Distance']]\n",
      "C:\\Users\\YASHIM~1\\AppData\\Local\\Temp/ipykernel_23076/3014204428.py:2: SettingWithCopyWarning: \n",
      "A value is trying to be set on a copy of a slice from a DataFrame.\n",
      "Try using .loc[row_indexer,col_indexer] = value instead\n",
      "\n",
      "See the caveats in the documentation: https://pandas.pydata.org/pandas-docs/stable/user_guide/indexing.html#returning-a-view-versus-a-copy\n",
      "  df_main['Distance'] = [str(x).replace('nan','0') for x in df_main['Distance']]\n",
      "C:\\Users\\YASHIM~1\\AppData\\Local\\Temp/ipykernel_23076/3014204428.py:3: SettingWithCopyWarning: \n",
      "A value is trying to be set on a copy of a slice from a DataFrame.\n",
      "Try using .loc[row_indexer,col_indexer] = value instead\n",
      "\n",
      "See the caveats in the documentation: https://pandas.pydata.org/pandas-docs/stable/user_guide/indexing.html#returning-a-view-versus-a-copy\n",
      "  df_main['Distance'] = df_main['Distance'].astype(float)\n"
     ]
    }
   ],
   "source": [
    "df_main['Distance'] = [str(x).replace(',','') for x in df_main['Distance']]\n",
    "df_main['Distance'] = [str(x).replace('nan','0') for x in df_main['Distance']]\n",
    "df_main['Distance'] = df_main['Distance'].astype(float)"
   ]
  },
  {
   "cell_type": "code",
   "execution_count": 76,
   "id": "8568729d",
   "metadata": {},
   "outputs": [
    {
     "data": {
      "text/plain": [
       "139,938    1\n",
       "156,155    1\n",
       "213,374    1\n",
       "112,978    1\n",
       "16,986     1\n",
       "48,428     1\n",
       "80,888     1\n",
       "66         1\n",
       "201        1\n",
       "63,339     1\n",
       "192,232    1\n",
       "319,568    1\n",
       "113,231    1\n",
       "6,575      1\n",
       "163,287    1\n",
       "75,538     1\n",
       "86,280     1\n",
       "164,003    1\n",
       "303,353    1\n",
       "163,350    1\n",
       "Name: Distance, dtype: int64"
      ]
     },
     "execution_count": 76,
     "metadata": {},
     "output_type": "execute_result"
    }
   ],
   "source": [
    "df_main.Distance.value_counts()"
   ]
  },
  {
   "cell_type": "code",
   "execution_count": 77,
   "id": "9083ea60",
   "metadata": {},
   "outputs": [
    {
     "data": {
      "text/plain": [
       "(20, 9)"
      ]
     },
     "execution_count": 77,
     "metadata": {},
     "output_type": "execute_result"
    }
   ],
   "source": [
    "df_main.shape"
   ]
  },
  {
   "cell_type": "code",
   "execution_count": 80,
   "id": "98fef91f",
   "metadata": {},
   "outputs": [
    {
     "data": {
      "text/plain": [
       "<seaborn.axisgrid.PairGrid at 0x1d6d22197f0>"
      ]
     },
     "execution_count": 80,
     "metadata": {},
     "output_type": "execute_result"
    },
    {
     "data": {
      "image/png": "[encoded data removed]",
      "text/plain": [
       "<Figure size 540x540 with 12 Axes>"
      ]
     },
     "metadata": {
      "needs_background": "light"
     },
     "output_type": "display_data"
    }
   ],
   "source": [
    "sns.pairplot(df_main.iloc[:,:])"
   ]
  },
  {
   "cell_type": "code",
   "execution_count": null,
   "id": "6d5b378b",
   "metadata": {},
   "outputs": [],
   "source": []
  },
  {
   "cell_type": "code",
   "execution_count": 45,
   "id": "361f28f0",
   "metadata": {},
   "outputs": [],
   "source": [
    "df_nu = dtrain.loc[dtrain['Type'] == 'Nigerian Used']"
   ]
  },
  {
   "cell_type": "code",
   "execution_count": 48,
   "id": "0c853843",
   "metadata": {},
   "outputs": [
    {
     "name": "stderr",
     "output_type": "stream",
     "text": [
      "C:\\Users\\YASHIM~1\\AppData\\Local\\Temp/ipykernel_23076/3731568875.py:2: SettingWithCopyWarning: \n",
      "A value is trying to be set on a copy of a slice from a DataFrame.\n",
      "Try using .loc[row_indexer,col_indexer] = value instead\n",
      "\n",
      "See the caveats in the documentation: https://pandas.pydata.org/pandas-docs/stable/user_guide/indexing.html#returning-a-view-versus-a-copy\n",
      "  df_nu['Distance'] = [str(x).replace('nan','0') for x in df_nu['Distance']]\n",
      "C:\\Users\\YASHIM~1\\AppData\\Local\\Temp/ipykernel_23076/3731568875.py:3: SettingWithCopyWarning: \n",
      "A value is trying to be set on a copy of a slice from a DataFrame.\n",
      "Try using .loc[row_indexer,col_indexer] = value instead\n",
      "\n",
      "See the caveats in the documentation: https://pandas.pydata.org/pandas-docs/stable/user_guide/indexing.html#returning-a-view-versus-a-copy\n",
      "  df_nu['Distance'] = df_nu['Distance'].astype(float)\n"
     ]
    }
   ],
   "source": [
    "# df_nu['Distance'] = [str(x).replace(',','') for x in df_nu['Distance']]\n",
    "df_nu['Distance'] = [str(x).replace('nan','0') for x in df_nu['Distance']]\n",
    "df_nu['Distance'] = df_nu['Distance'].astype(float)"
   ]
  },
  {
   "cell_type": "code",
   "execution_count": 50,
   "id": "66f3795a",
   "metadata": {},
   "outputs": [
    {
     "data": {
      "image/png": "[encoded data removed]",
      "text/plain": [
       "<Figure size 432x288 with 1 Axes>"
      ]
     },
     "metadata": {
      "needs_background": "light"
     },
     "output_type": "display_data"
    }
   ],
   "source": [
    "df_nu['Distance'].value_counts().plot(kind='hist');"
   ]
  },
  {
   "cell_type": "code",
   "execution_count": 61,
   "id": "ac9edefa",
   "metadata": {},
   "outputs": [
    {
     "data": {
      "text/plain": [
       "<seaborn.axisgrid.PairGrid at 0x1d6978ea6a0>"
      ]
     },
     "execution_count": 61,
     "metadata": {},
     "output_type": "execute_result"
    },
    {
     "data": {
      "image/png": "[encoded data removed]",
      "text/plain": [
       "<Figure size 360x360 with 6 Axes>"
      ]
     },
     "metadata": {
      "needs_background": "light"
     },
     "output_type": "display_data"
    }
   ],
   "source": [
    "sns.pairplot(df_nu.iloc[:,:]);"
   ]
  },
  {
   "cell_type": "code",
   "execution_count": null,
   "id": "200c8c86",
   "metadata": {},
   "outputs": [],
   "source": []
  },
  {
   "cell_type": "code",
   "execution_count": 62,
   "id": "1a3b8387",
   "metadata": {},
   "outputs": [],
   "source": [
    "df_fu = dtrain.loc[dtrain['Type'] == 'Foreign Used']"
   ]
  },
  {
   "cell_type": "code",
   "execution_count": 63,
   "id": "d37ac4ea",
   "metadata": {},
   "outputs": [
    {
     "name": "stderr",
     "output_type": "stream",
     "text": [
      "C:\\Users\\YASHIM~1\\AppData\\Local\\Temp/ipykernel_23076/2611306689.py:1: SettingWithCopyWarning: \n",
      "A value is trying to be set on a copy of a slice from a DataFrame.\n",
      "Try using .loc[row_indexer,col_indexer] = value instead\n",
      "\n",
      "See the caveats in the documentation: https://pandas.pydata.org/pandas-docs/stable/user_guide/indexing.html#returning-a-view-versus-a-copy\n",
      "  df_fu['Distance'] = [str(x).replace(',','') for x in df_fu['Distance']]\n",
      "C:\\Users\\YASHIM~1\\AppData\\Local\\Temp/ipykernel_23076/2611306689.py:2: SettingWithCopyWarning: \n",
      "A value is trying to be set on a copy of a slice from a DataFrame.\n",
      "Try using .loc[row_indexer,col_indexer] = value instead\n",
      "\n",
      "See the caveats in the documentation: https://pandas.pydata.org/pandas-docs/stable/user_guide/indexing.html#returning-a-view-versus-a-copy\n",
      "  df_fu['Distance'] = [str(x).replace('nan','0') for x in df_fu['Distance']]\n",
      "C:\\Users\\YASHIM~1\\AppData\\Local\\Temp/ipykernel_23076/2611306689.py:3: SettingWithCopyWarning: \n",
      "A value is trying to be set on a copy of a slice from a DataFrame.\n",
      "Try using .loc[row_indexer,col_indexer] = value instead\n",
      "\n",
      "See the caveats in the documentation: https://pandas.pydata.org/pandas-docs/stable/user_guide/indexing.html#returning-a-view-versus-a-copy\n",
      "  df_fu['Distance'] = df_fu['Distance'].astype(float)\n"
     ]
    }
   ],
   "source": [
    "df_fu['Distance'] = [str(x).replace(',','') for x in df_fu['Distance']]\n",
    "df_fu['Distance'] = [str(x).replace('nan','0') for x in df_fu['Distance']]\n",
    "df_fu['Distance'] = df_fu['Distance'].astype(float)"
   ]
  },
  {
   "cell_type": "code",
   "execution_count": 64,
   "id": "2dd7421f",
   "metadata": {},
   "outputs": [
    {
     "data": {
      "image/png": "[encoded data removed]",
      "text/plain": [
       "<Figure size 360x360 with 6 Axes>"
      ]
     },
     "metadata": {
      "needs_background": "light"
     },
     "output_type": "display_data"
    }
   ],
   "source": [
    "sns.pairplot(df_fu.iloc[:,:]);"
   ]
  },
  {
   "cell_type": "code",
   "execution_count": 108,
   "id": "10656f3e",
   "metadata": {},
   "outputs": [
    {
     "data": {
      "text/plain": [
       "<matplotlib.legend.Legend at 0x1d6d0aa5880>"
      ]
     },
     "execution_count": 108,
     "metadata": {},
     "output_type": "execute_result"
    },
    {
     "data": {
      "image/png": "[encoded data removed]",
      "text/plain": [
       "<Figure size 432x288 with 1 Axes>"
      ]
     },
     "metadata": {
      "needs_background": "light"
     },
     "output_type": "display_data"
    }
   ],
   "source": [
    "df_nu.groupby('Location')['Distance'].mean().plot(kind='bar', label = 'Nigerian Used')\n",
    "df_fu.groupby('Location')['Distance'].mean().plot(kind='bar', alpha = 0.7, color='red', label= 'Foreign Used')\n",
    "plt.legend();"
   ]
  },
  {
   "cell_type": "markdown",
   "id": "20a896ec",
   "metadata": {},
   "source": [
    "### Nigerian Used"
   ]
  },
  {
   "cell_type": "code",
   "execution_count": 111,
   "id": "00fbd235",
   "metadata": {},
   "outputs": [],
   "source": [
    "df_nu_abj = df_nu.loc[df_nu['Location'] == 'Abuja']\n",
    "df_nu_ib = df_nu.loc[df_nu['Location'] == 'Ibadan']\n",
    "df_nu_lag = df_nu.loc[df_nu['Location'] == 'Lagos']"
   ]
  },
  {
   "cell_type": "code",
   "execution_count": 118,
   "id": "779495d0",
   "metadata": {},
   "outputs": [],
   "source": [
    "A = df_nu_abj.Distance.max()\n",
    "a = df_nu_abj.Distance.mean()"
   ]
  },
  {
   "cell_type": "code",
   "execution_count": 119,
   "id": "f9a1b4dd",
   "metadata": {},
   "outputs": [],
   "source": [
    "I = df_nu_ib.Distance.max()\n",
    "i = df_nu_ib.Distance.mean()"
   ]
  },
  {
   "cell_type": "code",
   "execution_count": 120,
   "id": "1100dc59",
   "metadata": {},
   "outputs": [],
   "source": [
    "L = df_nu_lag.Distance.max()\n",
    "l = df_nu_lag.Distance.mean()"
   ]
  },
  {
   "cell_type": "code",
   "execution_count": 122,
   "id": "ff893e83",
   "metadata": {},
   "outputs": [],
   "source": [
    "xx=['A','a','I','i','L','l']\n",
    "yy=[A,a,I,i,L,l]"
   ]
  },
  {
   "cell_type": "code",
   "execution_count": 126,
   "id": "b3cb478b",
   "metadata": {},
   "outputs": [
    {
     "data": {
      "image/png": "[encoded data removed]",
      "text/plain": [
       "<Figure size 1000x500 with 1 Axes>"
      ]
     },
     "metadata": {
      "needs_background": "light"
     },
     "output_type": "display_data"
    }
   ],
   "source": [
    "plt.figure(figsize=[10,5],dpi = 100)\n",
    "plt.title('Mean/Max values comparisson based on Location')\n",
    "plt.ylabel('Value')\n",
    "plt.xlabel('labels')\n",
    "sns.barplot(y = yy,x = xx,palette='dark');"
   ]
  },
  {
   "cell_type": "code",
   "execution_count": null,
   "id": "987b3fd1",
   "metadata": {},
   "outputs": [],
   "source": []
  },
  {
   "cell_type": "markdown",
   "id": "57d257fc",
   "metadata": {},
   "source": [
    "### Foreign Used"
   ]
  },
  {
   "cell_type": "code",
   "execution_count": 127,
   "id": "f9a59300",
   "metadata": {},
   "outputs": [],
   "source": [
    "df_fu_abj = df_fu.loc[df_fu['Location'] == 'Abuja']\n",
    "df_fu_ib = df_fu.loc[df_fu['Location'] == 'Ibadan']\n",
    "df_fu_lag = df_fu.loc[df_fu['Location'] == 'Lagos']"
   ]
  },
  {
   "cell_type": "code",
   "execution_count": 133,
   "id": "d679e881",
   "metadata": {},
   "outputs": [
    {
     "data": {
      "text/plain": [
       "45710.06751727805"
      ]
     },
     "execution_count": 133,
     "metadata": {},
     "output_type": "execute_result"
    }
   ],
   "source": [
    "AA = df_fu_abj.Distance.max()\n",
    "aa = df_fu_abj.Distance.mean()\n",
    "aa"
   ]
  },
  {
   "cell_type": "code",
   "execution_count": 129,
   "id": "d9042534",
   "metadata": {},
   "outputs": [],
   "source": [
    "II = df_fu_ib.Distance.max()\n",
    "ii = df_fu_ib.Distance.mean()"
   ]
  },
  {
   "cell_type": "code",
   "execution_count": 130,
   "id": "39603db9",
   "metadata": {},
   "outputs": [],
   "source": [
    "LL = df_fu_lag.Distance.max()\n",
    "ll = df_fu_lag.Distance.mean()"
   ]
  },
  {
   "cell_type": "code",
   "execution_count": 131,
   "id": "0d3d968d",
   "metadata": {},
   "outputs": [],
   "source": [
    "xxx=['AA','aa','II','ii','LL','ll']\n",
    "yyy=[AA,aa,II,ii,LL,ll]"
   ]
  },
  {
   "cell_type": "code",
   "execution_count": 135,
   "id": "bedeab28",
   "metadata": {},
   "outputs": [
    {
     "data": {
      "image/png": "[encoded data removed]",
      "text/plain": [
       "<Figure size 1000x500 with 1 Axes>"
      ]
     },
     "metadata": {
      "needs_background": "light"
     },
     "output_type": "display_data"
    }
   ],
   "source": [
    "plt.figure(figsize=[10,5],dpi = 100)\n",
    "plt.title('Mean/Max values comparisson based on Location (Foreign Used)')\n",
    "plt.ylabel('Value')\n",
    "plt.xlabel('labels')\n",
    "sns.barplot(y = yyy,x = xxx,palette='dark');"
   ]
  },
  {
   "cell_type": "code",
   "execution_count": null,
   "id": "15bbe762",
   "metadata": {},
   "outputs": [],
   "source": []
  },
  {
   "cell_type": "code",
   "execution_count": 109,
   "id": "183ba35e",
   "metadata": {},
   "outputs": [
    {
     "data": {
      "text/plain": [
       "<AxesSubplot:xlabel='Location'>"
      ]
     },
     "execution_count": 109,
     "metadata": {},
     "output_type": "execute_result"
    },
    {
     "data": {
      "image/png": "[encoded data removed]",
      "text/plain": [
       "<Figure size 432x288 with 1 Axes>"
      ]
     },
     "metadata": {
      "needs_background": "light"
     },
     "output_type": "display_data"
    }
   ],
   "source": [
    "df_main.groupby('Location')['Distance'].mean().plot(kind='bar');"
   ]
  },
  {
   "cell_type": "code",
   "execution_count": null,
   "id": "1d36ab0a",
   "metadata": {},
   "outputs": [],
   "source": []
  },
  {
   "cell_type": "markdown",
   "id": "fd273ae8",
   "metadata": {},
   "source": [
    "### Nigerian Used"
   ]
  },
  {
   "cell_type": "code",
   "execution_count": 136,
   "id": "8237d5e9",
   "metadata": {},
   "outputs": [],
   "source": [
    "df_m_abj = df_main.loc[df_main['Location'] == 'Abuja']\n",
    "df_m_ib = df_main.loc[df_main['Location'] == 'Ibadan']\n",
    "df_m_lag = df_main.loc[df_main['Location'] == 'Lagos']"
   ]
  },
  {
   "cell_type": "code",
   "execution_count": 137,
   "id": "f6b2cee0",
   "metadata": {},
   "outputs": [],
   "source": [
    "A = df_m_abj.Distance.max()\n",
    "a = df_m_abj.Distance.mean()"
   ]
  },
  {
   "cell_type": "code",
   "execution_count": 138,
   "id": "75629f70",
   "metadata": {},
   "outputs": [],
   "source": [
    "I = df_m_ib.Distance.max()\n",
    "i = df_m_ib.Distance.mean()"
   ]
  },
  {
   "cell_type": "code",
   "execution_count": 139,
   "id": "a11835dd",
   "metadata": {},
   "outputs": [],
   "source": [
    "L = df_m_lag.Distance.max()\n",
    "l = df_m_lag.Distance.mean()"
   ]
  },
  {
   "cell_type": "code",
   "execution_count": 140,
   "id": "a9192b2c",
   "metadata": {},
   "outputs": [],
   "source": [
    "xx=['A','a','I','i','L','l']\n",
    "yy=[A,a,I,i,L,l]"
   ]
  },
  {
   "cell_type": "code",
   "execution_count": 141,
   "id": "c3e01ed1",
   "metadata": {},
   "outputs": [
    {
     "data": {
      "image/png": "[encoded data removed]",
      "text/plain": [
       "<Figure size 1000x500 with 1 Axes>"
      ]
     },
     "metadata": {
      "needs_background": "light"
     },
     "output_type": "display_data"
    }
   ],
   "source": [
    "plt.figure(figsize=[10,5],dpi = 100)\n",
    "plt.title('Mean/Max values comparisson based on Location (Main)')\n",
    "plt.ylabel('Value')\n",
    "plt.xlabel('labels')\n",
    "sns.barplot(y = yy,x = xx,palette='dark');"
   ]
  },
  {
   "cell_type": "code",
   "execution_count": 143,
   "id": "b152b338",
   "metadata": {},
   "outputs": [],
   "source": [
    "df_main2 = dtrain.loc[train['Type'].notnull()]"
   ]
  },
  {
   "cell_type": "code",
   "execution_count": 153,
   "id": "69d31bbd",
   "metadata": {},
   "outputs": [
    {
     "name": "stderr",
     "output_type": "stream",
     "text": [
      "C:\\Users\\YASHIM~1\\AppData\\Local\\Temp/ipykernel_23076/1276599090.py:1: SettingWithCopyWarning: \n",
      "A value is trying to be set on a copy of a slice from a DataFrame.\n",
      "Try using .loc[row_indexer,col_indexer] = value instead\n",
      "\n",
      "See the caveats in the documentation: https://pandas.pydata.org/pandas-docs/stable/user_guide/indexing.html#returning-a-view-versus-a-copy\n",
      "  df_main2['Distance'] = [str(x).replace(',','') for x in df_main2['Distance']]\n",
      "C:\\Users\\YASHIM~1\\AppData\\Local\\Temp/ipykernel_23076/1276599090.py:2: SettingWithCopyWarning: \n",
      "A value is trying to be set on a copy of a slice from a DataFrame.\n",
      "Try using .loc[row_indexer,col_indexer] = value instead\n",
      "\n",
      "See the caveats in the documentation: https://pandas.pydata.org/pandas-docs/stable/user_guide/indexing.html#returning-a-view-versus-a-copy\n",
      "  df_main2['Distance'] = [str(x).replace('nan','0') for x in df_main2['Distance']]\n",
      "C:\\Users\\YASHIM~1\\AppData\\Local\\Temp/ipykernel_23076/1276599090.py:3: SettingWithCopyWarning: \n",
      "A value is trying to be set on a copy of a slice from a DataFrame.\n",
      "Try using .loc[row_indexer,col_indexer] = value instead\n",
      "\n",
      "See the caveats in the documentation: https://pandas.pydata.org/pandas-docs/stable/user_guide/indexing.html#returning-a-view-versus-a-copy\n",
      "  df_main2['Distance'] = df_main2['Distance'].astype(float)\n"
     ]
    }
   ],
   "source": [
    "df_main2['Distance'] = [str(x).replace(',','') for x in df_main2['Distance']]\n",
    "df_main2['Distance'] = [str(x).replace('nan','0') for x in df_main2['Distance']]\n",
    "df_main2['Distance'] = df_main2['Distance'].astype(float)"
   ]
  },
  {
   "cell_type": "code",
   "execution_count": 156,
   "id": "3b08b1ab",
   "metadata": {},
   "outputs": [
    {
     "data": {
      "image/png": "[encoded data removed]",
      "text/plain": [
       "<Figure size 432x288 with 1 Axes>"
      ]
     },
     "metadata": {
      "needs_background": "light"
     },
     "output_type": "display_data"
    }
   ],
   "source": [
    "df_main2.groupby('Location')['Distance'].mean().plot(kind='bar')\n",
    "plt.legend();"
   ]
  },
  {
   "cell_type": "markdown",
   "id": "e76cdc09",
   "metadata": {},
   "source": [
    "### Nigerian Used"
   ]
  },
  {
   "cell_type": "code",
   "execution_count": 157,
   "id": "ec01f28e",
   "metadata": {},
   "outputs": [],
   "source": [
    "df_nu_abj = df_main2.loc[df_main2['Location'] == 'Abuja']\n",
    "df_nu_ib = df_main2.loc[df_main2['Location'] == 'Ibadan']\n",
    "df_nu_lag = df_main2.loc[df_main2['Location'] == 'Lagos']"
   ]
  },
  {
   "cell_type": "code",
   "execution_count": 158,
   "id": "246b1183",
   "metadata": {},
   "outputs": [],
   "source": [
    "A = df_nu_abj.Distance.max()\n",
    "a = df_nu_abj.Distance.mean()"
   ]
  },
  {
   "cell_type": "code",
   "execution_count": 159,
   "id": "13ab540c",
   "metadata": {},
   "outputs": [],
   "source": [
    "I = df_nu_ib.Distance.max()\n",
    "i = df_nu_ib.Distance.mean()"
   ]
  },
  {
   "cell_type": "code",
   "execution_count": 160,
   "id": "65da6e16",
   "metadata": {},
   "outputs": [],
   "source": [
    "L = df_nu_lag.Distance.max()\n",
    "l = df_nu_lag.Distance.mean()"
   ]
  },
  {
   "cell_type": "code",
   "execution_count": 161,
   "id": "340f2e4e",
   "metadata": {},
   "outputs": [],
   "source": [
    "xx=['A','a','I','i','L','l']\n",
    "yy=[A,a,I,i,L,l]"
   ]
  },
  {
   "cell_type": "code",
   "execution_count": 162,
   "id": "bce1f2f3",
   "metadata": {},
   "outputs": [
    {
     "data": {
      "image/png": "[encoded data removed]",
      "text/plain": [
       "<Figure size 1000x500 with 1 Axes>"
      ]
     },
     "metadata": {
      "needs_background": "light"
     },
     "output_type": "display_data"
    }
   ],
   "source": [
    "plt.figure(figsize=[10,5],dpi = 100)\n",
    "plt.title('Mean/Max values comparisson based on Location')\n",
    "plt.ylabel('Value')\n",
    "plt.xlabel('labels')\n",
    "sns.barplot(y = yy,x = xx,palette='dark');"
   ]
  },
  {
   "cell_type": "code",
   "execution_count": 198,
   "id": "d508626c",
   "metadata": {},
   "outputs": [
    {
     "data": {
      "image/png": "[encoded data removed]",
      "text/plain": [
       "<Figure size 432x288 with 1 Axes>"
      ]
     },
     "metadata": {
      "needs_background": "light"
     },
     "output_type": "display_data"
    }
   ],
   "source": [
    "df_nu_abj.groupby('Type')['Distance'].mean().plot(kind='bar',label='abj',alpha=0.7)\n",
    "df_nu_ib.groupby('Type')['Distance'].mean().plot(kind='bar',label='ib',color='red',alpha=0.7)\n",
    "df_nu_lag.groupby('Type')['Distance'].mean().plot(kind='bar',label='lag',color='green',alpha=0.7)\n",
    "plt.legend();"
   ]
  },
  {
   "cell_type": "code",
   "execution_count": 173,
   "id": "ae4245ed",
   "metadata": {},
   "outputs": [
    {
     "data": {
      "image/png": "[encoded data removed]",
      "text/plain": [
       "<Figure size 432x288 with 1 Axes>"
      ]
     },
     "metadata": {
      "needs_background": "light"
     },
     "output_type": "display_data"
    }
   ],
   "source": [
    "df_nu_abj.groupby('Location')['Distance'].mean().plot(kind='bar',label ='Abuja')\n",
    "# df_nu_ib.groupby('Location')['Distance'].mean().hist(label= 'Ibadan')\n",
    "# df_nu_lag.groupby('Location')['Distance'].mean().hist(label='Lagos')\n",
    "plt.legend();"
   ]
  },
  {
   "cell_type": "code",
   "execution_count": 174,
   "id": "490c3d43",
   "metadata": {},
   "outputs": [
    {
     "data": {
      "image/png": "[encoded data removed]",
      "text/plain": [
       "<Figure size 432x288 with 1 Axes>"
      ]
     },
     "metadata": {
      "needs_background": "light"
     },
     "output_type": "display_data"
    }
   ],
   "source": [
    "df_nu_ib.groupby('Location')['Distance'].mean().plot(kind='bar',label= 'Ibadan')\n",
    "# df_nu_lag.groupby('Location')['Distance'].mean().hist(label='Lagos')\n",
    "plt.legend();"
   ]
  },
  {
   "cell_type": "code",
   "execution_count": 175,
   "id": "ebeca5a8",
   "metadata": {},
   "outputs": [
    {
     "data": {
      "image/png": "[encoded data removed]",
      "text/plain": [
       "<Figure size 432x288 with 1 Axes>"
      ]
     },
     "metadata": {
      "needs_background": "light"
     },
     "output_type": "display_data"
    }
   ],
   "source": [
    "df_nu_lag.groupby('Location')['Distance'].mean().plot(kind='bar',label='Lagos')\n",
    "plt.legend();"
   ]
  },
  {
   "cell_type": "code",
   "execution_count": null,
   "id": "fbc1355e",
   "metadata": {},
   "outputs": [],
   "source": [
    "sns.countplot"
   ]
  },
  {
   "cell_type": "code",
   "execution_count": null,
   "id": "4bafc18d",
   "metadata": {},
   "outputs": [],
   "source": []
  },
  {
   "cell_type": "code",
   "execution_count": null,
   "id": "20adea4d",
   "metadata": {},
   "outputs": [],
   "source": []
  },
  {
   "cell_type": "code",
   "execution_count": 178,
   "id": "2121dddb",
   "metadata": {},
   "outputs": [
    {
     "data": {
      "text/plain": [
       "(3163, 9)"
      ]
     },
     "execution_count": 178,
     "metadata": {},
     "output_type": "execute_result"
    }
   ],
   "source": [
    "df_nu_lag.shape"
   ]
  },
  {
   "cell_type": "markdown",
   "id": "bdce2de2",
   "metadata": {},
   "source": [
    "### <a href=\"#viz\">The end of data viz</a>\n",
    "***\n",
    "<b id=\"end\">***</b>"
   ]
  },
  {
   "cell_type": "markdown",
   "id": "268b77c3",
   "metadata": {},
   "source": [
    "### Filling the Type column based on the viz done above"
   ]
  },
  {
   "cell_type": "code",
   "execution_count": 26,
   "id": "a03ec4fb",
   "metadata": {},
   "outputs": [],
   "source": [
    "train['Distance'] = [str(x).replace(',','') for x in train['Distance']]\n",
    "train['Distance'] = [str(x).replace('nan','0') for x in train['Distance']]\n",
    "train['Distance'] = train['Distance'].astype(float)"
   ]
  },
  {
   "cell_type": "code",
   "execution_count": 27,
   "id": "34aacf63",
   "metadata": {},
   "outputs": [
    {
     "data": {
      "text/plain": [
       "(2061, 8)"
      ]
     },
     "execution_count": 27,
     "metadata": {},
     "output_type": "execute_result"
    }
   ],
   "source": [
    "test.shape"
   ]
  },
  {
   "cell_type": "code",
   "execution_count": 28,
   "id": "95f739bc",
   "metadata": {},
   "outputs": [
    {
     "data": {
      "text/plain": [
       "VehicleID                   0\n",
       "Location                    0\n",
       "Maker                       0\n",
       "Model                       0\n",
       "Year                        0\n",
       "Colour                      0\n",
       "Amount (Million Naira)      0\n",
       "Type                      196\n",
       "Distance                    0\n",
       "dtype: int64"
      ]
     },
     "execution_count": 28,
     "metadata": {},
     "output_type": "execute_result"
    }
   ],
   "source": [
    "train.isnull().sum()"
   ]
  },
  {
   "cell_type": "code",
   "execution_count": 29,
   "id": "2dd72676",
   "metadata": {},
   "outputs": [],
   "source": [
    "df_null = train.loc[train['Type'].isnull()]"
   ]
  },
  {
   "cell_type": "code",
   "execution_count": 30,
   "id": "bb7bbcbd",
   "metadata": {},
   "outputs": [
    {
     "data": {
      "text/html": [
       "<div>\n",
       "<style scoped>\n",
       "    .dataframe tbody tr th:only-of-type {\n",
       "        vertical-align: middle;\n",
       "    }\n",
       "\n",
       "    .dataframe tbody tr th {\n",
       "        vertical-align: top;\n",
       "    }\n",
       "\n",
       "    .dataframe thead th {\n",
       "        text-align: right;\n",
       "    }\n",
       "</style>\n",
       "<table border=\"1\" class=\"dataframe\">\n",
       "  <thead>\n",
       "    <tr style=\"text-align: right;\">\n",
       "      <th></th>\n",
       "      <th>VehicleID</th>\n",
       "      <th>Location</th>\n",
       "      <th>Maker</th>\n",
       "      <th>Model</th>\n",
       "      <th>Year</th>\n",
       "      <th>Colour</th>\n",
       "      <th>Amount (Million Naira)</th>\n",
       "      <th>Type</th>\n",
       "      <th>Distance</th>\n",
       "    </tr>\n",
       "  </thead>\n",
       "  <tbody>\n",
       "    <tr>\n",
       "      <th>count</th>\n",
       "      <td>7188</td>\n",
       "      <td>7188</td>\n",
       "      <td>7188</td>\n",
       "      <td>7188</td>\n",
       "      <td>7188</td>\n",
       "      <td>7188</td>\n",
       "      <td>7188.000000</td>\n",
       "      <td>6992</td>\n",
       "      <td>7.188000e+03</td>\n",
       "    </tr>\n",
       "    <tr>\n",
       "      <th>unique</th>\n",
       "      <td>5129</td>\n",
       "      <td>3</td>\n",
       "      <td>55</td>\n",
       "      <td>1221</td>\n",
       "      <td>33</td>\n",
       "      <td>21</td>\n",
       "      <td>NaN</td>\n",
       "      <td>3</td>\n",
       "      <td>NaN</td>\n",
       "    </tr>\n",
       "    <tr>\n",
       "      <th>top</th>\n",
       "      <td>VHL12352</td>\n",
       "      <td>Lagos</td>\n",
       "      <td>Toyota</td>\n",
       "      <td>Camry</td>\n",
       "      <td>2008</td>\n",
       "      <td>Black</td>\n",
       "      <td>NaN</td>\n",
       "      <td>Foreign Used</td>\n",
       "      <td>NaN</td>\n",
       "    </tr>\n",
       "    <tr>\n",
       "      <th>freq</th>\n",
       "      <td>5</td>\n",
       "      <td>3310</td>\n",
       "      <td>2738</td>\n",
       "      <td>649</td>\n",
       "      <td>755</td>\n",
       "      <td>2118</td>\n",
       "      <td>NaN</td>\n",
       "      <td>4886</td>\n",
       "      <td>NaN</td>\n",
       "    </tr>\n",
       "    <tr>\n",
       "      <th>mean</th>\n",
       "      <td>NaN</td>\n",
       "      <td>NaN</td>\n",
       "      <td>NaN</td>\n",
       "      <td>NaN</td>\n",
       "      <td>NaN</td>\n",
       "      <td>NaN</td>\n",
       "      <td>11.847999</td>\n",
       "      <td>NaN</td>\n",
       "      <td>6.945797e+04</td>\n",
       "    </tr>\n",
       "    <tr>\n",
       "      <th>std</th>\n",
       "      <td>NaN</td>\n",
       "      <td>NaN</td>\n",
       "      <td>NaN</td>\n",
       "      <td>NaN</td>\n",
       "      <td>NaN</td>\n",
       "      <td>NaN</td>\n",
       "      <td>25.318922</td>\n",
       "      <td>NaN</td>\n",
       "      <td>1.085050e+05</td>\n",
       "    </tr>\n",
       "    <tr>\n",
       "      <th>min</th>\n",
       "      <td>NaN</td>\n",
       "      <td>NaN</td>\n",
       "      <td>NaN</td>\n",
       "      <td>NaN</td>\n",
       "      <td>NaN</td>\n",
       "      <td>NaN</td>\n",
       "      <td>0.450000</td>\n",
       "      <td>NaN</td>\n",
       "      <td>0.000000e+00</td>\n",
       "    </tr>\n",
       "    <tr>\n",
       "      <th>25%</th>\n",
       "      <td>NaN</td>\n",
       "      <td>NaN</td>\n",
       "      <td>NaN</td>\n",
       "      <td>NaN</td>\n",
       "      <td>NaN</td>\n",
       "      <td>NaN</td>\n",
       "      <td>3.500000</td>\n",
       "      <td>NaN</td>\n",
       "      <td>0.000000e+00</td>\n",
       "    </tr>\n",
       "    <tr>\n",
       "      <th>50%</th>\n",
       "      <td>NaN</td>\n",
       "      <td>NaN</td>\n",
       "      <td>NaN</td>\n",
       "      <td>NaN</td>\n",
       "      <td>NaN</td>\n",
       "      <td>NaN</td>\n",
       "      <td>5.650000</td>\n",
       "      <td>NaN</td>\n",
       "      <td>5.300000e+04</td>\n",
       "    </tr>\n",
       "    <tr>\n",
       "      <th>75%</th>\n",
       "      <td>NaN</td>\n",
       "      <td>NaN</td>\n",
       "      <td>NaN</td>\n",
       "      <td>NaN</td>\n",
       "      <td>NaN</td>\n",
       "      <td>NaN</td>\n",
       "      <td>11.662500</td>\n",
       "      <td>NaN</td>\n",
       "      <td>9.560950e+04</td>\n",
       "    </tr>\n",
       "    <tr>\n",
       "      <th>max</th>\n",
       "      <td>NaN</td>\n",
       "      <td>NaN</td>\n",
       "      <td>NaN</td>\n",
       "      <td>NaN</td>\n",
       "      <td>NaN</td>\n",
       "      <td>NaN</td>\n",
       "      <td>456.000000</td>\n",
       "      <td>NaN</td>\n",
       "      <td>1.985400e+06</td>\n",
       "    </tr>\n",
       "  </tbody>\n",
       "</table>\n",
       "</div>"
      ],
      "text/plain": [
       "       VehicleID Location   Maker  Model  Year Colour  Amount (Million Naira)  \\\n",
       "count       7188     7188    7188   7188  7188   7188             7188.000000   \n",
       "unique      5129        3      55   1221    33     21                     NaN   \n",
       "top     VHL12352    Lagos  Toyota  Camry  2008  Black                     NaN   \n",
       "freq           5     3310    2738    649   755   2118                     NaN   \n",
       "mean         NaN      NaN     NaN    NaN   NaN    NaN               11.847999   \n",
       "std          NaN      NaN     NaN    NaN   NaN    NaN               25.318922   \n",
       "min          NaN      NaN     NaN    NaN   NaN    NaN                0.450000   \n",
       "25%          NaN      NaN     NaN    NaN   NaN    NaN                3.500000   \n",
       "50%          NaN      NaN     NaN    NaN   NaN    NaN                5.650000   \n",
       "75%          NaN      NaN     NaN    NaN   NaN    NaN               11.662500   \n",
       "max          NaN      NaN     NaN    NaN   NaN    NaN              456.000000   \n",
       "\n",
       "                Type      Distance  \n",
       "count           6992  7.188000e+03  \n",
       "unique             3           NaN  \n",
       "top     Foreign Used           NaN  \n",
       "freq            4886           NaN  \n",
       "mean             NaN  6.945797e+04  \n",
       "std              NaN  1.085050e+05  \n",
       "min              NaN  0.000000e+00  \n",
       "25%              NaN  0.000000e+00  \n",
       "50%              NaN  5.300000e+04  \n",
       "75%              NaN  9.560950e+04  \n",
       "max              NaN  1.985400e+06  "
      ]
     },
     "execution_count": 30,
     "metadata": {},
     "output_type": "execute_result"
    }
   ],
   "source": [
    "train.describe(include='all')"
   ]
  },
  {
   "cell_type": "code",
   "execution_count": 31,
   "id": "7115d6c7",
   "metadata": {},
   "outputs": [
    {
     "data": {
      "text/plain": [
       "129432.46428571429"
      ]
     },
     "execution_count": 31,
     "metadata": {},
     "output_type": "execute_result"
    }
   ],
   "source": [
    "df_null.Distance.mean()"
   ]
  },
  {
   "cell_type": "code",
   "execution_count": 32,
   "id": "5f15f11b",
   "metadata": {},
   "outputs": [],
   "source": [
    "df_bn = df_null.query(\"Distance <= 129432.46428571429 \")"
   ]
  },
  {
   "cell_type": "code",
   "execution_count": 33,
   "id": "17cb409b",
   "metadata": {},
   "outputs": [],
   "source": [
    "df_nu = df_null.query(\"Distance >= 129432.46428571429 \")"
   ]
  },
  {
   "cell_type": "code",
   "execution_count": 34,
   "id": "5ba1413d",
   "metadata": {},
   "outputs": [
    {
     "name": "stderr",
     "output_type": "stream",
     "text": [
      "C:\\Users\\YASHIM~1\\AppData\\Local\\Temp/ipykernel_23432/2784325404.py:1: SettingWithCopyWarning: \n",
      "A value is trying to be set on a copy of a slice from a DataFrame.\n",
      "Try using .loc[row_indexer,col_indexer] = value instead\n",
      "\n",
      "See the caveats in the documentation: https://pandas.pydata.org/pandas-docs/stable/user_guide/indexing.html#returning-a-view-versus-a-copy\n",
      "  df_bn['Type'] = [str(x).replace('nan','Brand New') for x in df_bn['Type'] ]\n",
      "C:\\Users\\YASHIM~1\\AppData\\Local\\Temp/ipykernel_23432/2784325404.py:2: SettingWithCopyWarning: \n",
      "A value is trying to be set on a copy of a slice from a DataFrame.\n",
      "Try using .loc[row_indexer,col_indexer] = value instead\n",
      "\n",
      "See the caveats in the documentation: https://pandas.pydata.org/pandas-docs/stable/user_guide/indexing.html#returning-a-view-versus-a-copy\n",
      "  df_nu['Type'] = [str(x).replace('nan','Nigerian Used') for x in df_nu['Type'] ]\n"
     ]
    }
   ],
   "source": [
    "df_bn['Type'] = [str(x).replace('nan','Brand New') for x in df_bn['Type'] ]\n",
    "df_nu['Type'] = [str(x).replace('nan','Nigerian Used') for x in df_nu['Type'] ]"
   ]
  },
  {
   "cell_type": "code",
   "execution_count": 35,
   "id": "c6cb7257",
   "metadata": {},
   "outputs": [],
   "source": [
    "df_null = pd.concat([df_nu,df_bn])"
   ]
  },
  {
   "cell_type": "code",
   "execution_count": 36,
   "id": "a531acac",
   "metadata": {},
   "outputs": [],
   "source": [
    "df_notnull = train.loc[train['Type'].notnull()]"
   ]
  },
  {
   "cell_type": "code",
   "execution_count": 37,
   "id": "a6084cc7",
   "metadata": {},
   "outputs": [],
   "source": [
    "train = pd.concat([df_null,df_notnull])"
   ]
  },
  {
   "cell_type": "code",
   "execution_count": 38,
   "id": "111f0974",
   "metadata": {},
   "outputs": [],
   "source": [
    "train = train.sample(frac = 1,random_state=1234)"
   ]
  },
  {
   "cell_type": "code",
   "execution_count": 39,
   "id": "0d17d669",
   "metadata": {},
   "outputs": [
    {
     "data": {
      "text/plain": [
       "(7188, 9)"
      ]
     },
     "execution_count": 39,
     "metadata": {},
     "output_type": "execute_result"
    }
   ],
   "source": [
    "train.shape"
   ]
  },
  {
   "cell_type": "code",
   "execution_count": 40,
   "id": "08964a1c",
   "metadata": {},
   "outputs": [
    {
     "data": {
      "text/html": [
       "<div>\n",
       "<style scoped>\n",
       "    .dataframe tbody tr th:only-of-type {\n",
       "        vertical-align: middle;\n",
       "    }\n",
       "\n",
       "    .dataframe tbody tr th {\n",
       "        vertical-align: top;\n",
       "    }\n",
       "\n",
       "    .dataframe thead th {\n",
       "        text-align: right;\n",
       "    }\n",
       "</style>\n",
       "<table border=\"1\" class=\"dataframe\">\n",
       "  <thead>\n",
       "    <tr style=\"text-align: right;\">\n",
       "      <th></th>\n",
       "      <th>VehicleID</th>\n",
       "      <th>Location</th>\n",
       "      <th>Maker</th>\n",
       "      <th>Model</th>\n",
       "      <th>Year</th>\n",
       "      <th>Colour</th>\n",
       "      <th>Amount (Million Naira)</th>\n",
       "      <th>Type</th>\n",
       "      <th>Distance</th>\n",
       "    </tr>\n",
       "  </thead>\n",
       "  <tbody>\n",
       "    <tr>\n",
       "      <th>4486</th>\n",
       "      <td>VHL15241</td>\n",
       "      <td>Lagos</td>\n",
       "      <td>Lexus</td>\n",
       "      <td>RX 350</td>\n",
       "      <td>2011</td>\n",
       "      <td>White</td>\n",
       "      <td>9.55</td>\n",
       "      <td>Foreign Used</td>\n",
       "      <td>0.0</td>\n",
       "    </tr>\n",
       "    <tr>\n",
       "      <th>854</th>\n",
       "      <td>VHL15892</td>\n",
       "      <td>Abuja</td>\n",
       "      <td>Hyundai</td>\n",
       "      <td>Atos</td>\n",
       "      <td>2012</td>\n",
       "      <td>Gray</td>\n",
       "      <td>6.30</td>\n",
       "      <td>Foreign Used</td>\n",
       "      <td>82000.0</td>\n",
       "    </tr>\n",
       "    <tr>\n",
       "      <th>666</th>\n",
       "      <td>VHL15699</td>\n",
       "      <td>Abuja</td>\n",
       "      <td>BMW</td>\n",
       "      <td>X5</td>\n",
       "      <td>2016</td>\n",
       "      <td>Black</td>\n",
       "      <td>22.00</td>\n",
       "      <td>Foreign Used</td>\n",
       "      <td>0.0</td>\n",
       "    </tr>\n",
       "    <tr>\n",
       "      <th>6645</th>\n",
       "      <td>VHL14050</td>\n",
       "      <td>Lagos</td>\n",
       "      <td>Lexus</td>\n",
       "      <td>ES 350</td>\n",
       "      <td>2008</td>\n",
       "      <td>White</td>\n",
       "      <td>4.40</td>\n",
       "      <td>Foreign Used</td>\n",
       "      <td>78650.0</td>\n",
       "    </tr>\n",
       "    <tr>\n",
       "      <th>5826</th>\n",
       "      <td>VHL14658</td>\n",
       "      <td>Abuja</td>\n",
       "      <td>Toyota</td>\n",
       "      <td>RAV4 XLE AWD (2.5L 4cyl 6A)</td>\n",
       "      <td>2017</td>\n",
       "      <td>Silver</td>\n",
       "      <td>12.00</td>\n",
       "      <td>Foreign Used</td>\n",
       "      <td>75000.0</td>\n",
       "    </tr>\n",
       "  </tbody>\n",
       "</table>\n",
       "</div>"
      ],
      "text/plain": [
       "     VehicleID Location    Maker                        Model  Year  Colour  \\\n",
       "4486  VHL15241    Lagos    Lexus                       RX 350  2011   White   \n",
       "854   VHL15892    Abuja  Hyundai                         Atos  2012    Gray   \n",
       "666   VHL15699    Abuja      BMW                           X5  2016   Black   \n",
       "6645  VHL14050    Lagos    Lexus                       ES 350  2008   White   \n",
       "5826  VHL14658    Abuja   Toyota  RAV4 XLE AWD (2.5L 4cyl 6A)  2017  Silver   \n",
       "\n",
       "      Amount (Million Naira)          Type  Distance  \n",
       "4486                    9.55  Foreign Used       0.0  \n",
       "854                     6.30  Foreign Used   82000.0  \n",
       "666                    22.00  Foreign Used       0.0  \n",
       "6645                    4.40  Foreign Used   78650.0  \n",
       "5826                   12.00  Foreign Used   75000.0  "
      ]
     },
     "execution_count": 40,
     "metadata": {},
     "output_type": "execute_result"
    }
   ],
   "source": [
    "train.head()"
   ]
  },
  {
   "cell_type": "code",
   "execution_count": 41,
   "id": "6a45ba2e",
   "metadata": {},
   "outputs": [
    {
     "data": {
      "text/html": [
       "<div>\n",
       "<style scoped>\n",
       "    .dataframe tbody tr th:only-of-type {\n",
       "        vertical-align: middle;\n",
       "    }\n",
       "\n",
       "    .dataframe tbody tr th {\n",
       "        vertical-align: top;\n",
       "    }\n",
       "\n",
       "    .dataframe thead th {\n",
       "        text-align: right;\n",
       "    }\n",
       "</style>\n",
       "<table border=\"1\" class=\"dataframe\">\n",
       "  <thead>\n",
       "    <tr style=\"text-align: right;\">\n",
       "      <th></th>\n",
       "      <th>VehicleID</th>\n",
       "      <th>Location</th>\n",
       "      <th>Maker</th>\n",
       "      <th>Model</th>\n",
       "      <th>Year</th>\n",
       "      <th>Colour</th>\n",
       "      <th>Amount (Million Naira)</th>\n",
       "      <th>Type</th>\n",
       "      <th>Distance</th>\n",
       "    </tr>\n",
       "  </thead>\n",
       "  <tbody>\n",
       "  </tbody>\n",
       "</table>\n",
       "</div>"
      ],
      "text/plain": [
       "Empty DataFrame\n",
       "Columns: [VehicleID, Location, Maker, Model, Year, Colour, Amount (Million Naira), Type, Distance]\n",
       "Index: []"
      ]
     },
     "execution_count": 41,
     "metadata": {},
     "output_type": "execute_result"
    }
   ],
   "source": [
    "train.loc[train['Type'].isnull()]"
   ]
  },
  {
   "cell_type": "markdown",
   "id": "f62b82c8",
   "metadata": {},
   "source": [
    "No more nan values for the type column because I filled them all with `Nigerian Used`. Now let us try to do the same for the test set."
   ]
  },
  {
   "cell_type": "code",
   "execution_count": 42,
   "id": "524417d3",
   "metadata": {},
   "outputs": [],
   "source": [
    "test['Distance'] = [str(x).replace(',','') for x in test['Distance']]\n",
    "test['Distance'] = [str(x).replace('nan','0') for x in test['Distance']]\n",
    "test['Distance'] = test['Distance'].astype(float)"
   ]
  },
  {
   "cell_type": "code",
   "execution_count": 43,
   "id": "d39021df",
   "metadata": {},
   "outputs": [],
   "source": [
    "df_null = test.loc[test['Type'].isnull()]"
   ]
  },
  {
   "cell_type": "code",
   "execution_count": 44,
   "id": "89677c3a",
   "metadata": {},
   "outputs": [
    {
     "data": {
      "text/plain": [
       "148200.83333333334"
      ]
     },
     "execution_count": 44,
     "metadata": {},
     "output_type": "execute_result"
    }
   ],
   "source": [
    "df_null.Distance.mean()"
   ]
  },
  {
   "cell_type": "code",
   "execution_count": 45,
   "id": "b3771d3a",
   "metadata": {},
   "outputs": [],
   "source": [
    "df_bn = df_null.query(\"Distance <= 148200.83333333334\")\n",
    "df_nu = df_null.query(\"Distance >= 148200.83333333334\")"
   ]
  },
  {
   "cell_type": "code",
   "execution_count": 46,
   "id": "bcc7420e",
   "metadata": {},
   "outputs": [
    {
     "name": "stderr",
     "output_type": "stream",
     "text": [
      "C:\\Users\\YASHIM~1\\AppData\\Local\\Temp/ipykernel_23432/2784325404.py:1: SettingWithCopyWarning: \n",
      "A value is trying to be set on a copy of a slice from a DataFrame.\n",
      "Try using .loc[row_indexer,col_indexer] = value instead\n",
      "\n",
      "See the caveats in the documentation: https://pandas.pydata.org/pandas-docs/stable/user_guide/indexing.html#returning-a-view-versus-a-copy\n",
      "  df_bn['Type'] = [str(x).replace('nan','Brand New') for x in df_bn['Type'] ]\n",
      "C:\\Users\\YASHIM~1\\AppData\\Local\\Temp/ipykernel_23432/2784325404.py:2: SettingWithCopyWarning: \n",
      "A value is trying to be set on a copy of a slice from a DataFrame.\n",
      "Try using .loc[row_indexer,col_indexer] = value instead\n",
      "\n",
      "See the caveats in the documentation: https://pandas.pydata.org/pandas-docs/stable/user_guide/indexing.html#returning-a-view-versus-a-copy\n",
      "  df_nu['Type'] = [str(x).replace('nan','Nigerian Used') for x in df_nu['Type'] ]\n"
     ]
    }
   ],
   "source": [
    "df_bn['Type'] = [str(x).replace('nan','Brand New') for x in df_bn['Type'] ]\n",
    "df_nu['Type'] = [str(x).replace('nan','Nigerian Used') for x in df_nu['Type'] ]"
   ]
  },
  {
   "cell_type": "code",
   "execution_count": 47,
   "id": "50c59c9d",
   "metadata": {},
   "outputs": [],
   "source": [
    "df_null = pd.concat([df_bn,df_nu])"
   ]
  },
  {
   "cell_type": "code",
   "execution_count": 48,
   "id": "6cf86770",
   "metadata": {},
   "outputs": [],
   "source": [
    "df_notnull = test.loc[test['Type'].notnull()]"
   ]
  },
  {
   "cell_type": "code",
   "execution_count": 49,
   "id": "3cc7c7ac",
   "metadata": {},
   "outputs": [],
   "source": [
    "test = pd.concat([df_null,df_notnull])"
   ]
  },
  {
   "cell_type": "code",
   "execution_count": 50,
   "id": "210b9e34",
   "metadata": {},
   "outputs": [],
   "source": [
    "test = test.sample(frac=1, random_state=123)"
   ]
  },
  {
   "cell_type": "code",
   "execution_count": 51,
   "id": "44e24068",
   "metadata": {},
   "outputs": [
    {
     "data": {
      "text/plain": [
       "(2061, 8)"
      ]
     },
     "execution_count": 51,
     "metadata": {},
     "output_type": "execute_result"
    }
   ],
   "source": [
    "test.shape"
   ]
  },
  {
   "cell_type": "code",
   "execution_count": 52,
   "id": "f8c61dad",
   "metadata": {},
   "outputs": [
    {
     "data": {
      "text/html": [
       "<div>\n",
       "<style scoped>\n",
       "    .dataframe tbody tr th:only-of-type {\n",
       "        vertical-align: middle;\n",
       "    }\n",
       "\n",
       "    .dataframe tbody tr th {\n",
       "        vertical-align: top;\n",
       "    }\n",
       "\n",
       "    .dataframe thead th {\n",
       "        text-align: right;\n",
       "    }\n",
       "</style>\n",
       "<table border=\"1\" class=\"dataframe\">\n",
       "  <thead>\n",
       "    <tr style=\"text-align: right;\">\n",
       "      <th></th>\n",
       "      <th>VehicleID</th>\n",
       "      <th>Location</th>\n",
       "      <th>Maker</th>\n",
       "      <th>Model</th>\n",
       "      <th>Year</th>\n",
       "      <th>Colour</th>\n",
       "      <th>Type</th>\n",
       "      <th>Distance</th>\n",
       "    </tr>\n",
       "  </thead>\n",
       "  <tbody>\n",
       "    <tr>\n",
       "      <th>224</th>\n",
       "      <td>VHL11093</td>\n",
       "      <td>Lagos</td>\n",
       "      <td>Toyota</td>\n",
       "      <td>Venza AWD</td>\n",
       "      <td>2011</td>\n",
       "      <td>Black</td>\n",
       "      <td>Foreign Used</td>\n",
       "      <td>0.0</td>\n",
       "    </tr>\n",
       "    <tr>\n",
       "      <th>1109</th>\n",
       "      <td>VHL19799</td>\n",
       "      <td>Abuja</td>\n",
       "      <td>Toyota</td>\n",
       "      <td>Camry</td>\n",
       "      <td>2021</td>\n",
       "      <td>Gray</td>\n",
       "      <td>Foreign Used</td>\n",
       "      <td>3008.0</td>\n",
       "    </tr>\n",
       "    <tr>\n",
       "      <th>380</th>\n",
       "      <td>VHL17489</td>\n",
       "      <td>Lagos</td>\n",
       "      <td>Toyota</td>\n",
       "      <td>RAV4 XLE AWD (2.5L 4cyl 6A)</td>\n",
       "      <td>2017</td>\n",
       "      <td>Red</td>\n",
       "      <td>Foreign Used</td>\n",
       "      <td>0.0</td>\n",
       "    </tr>\n",
       "    <tr>\n",
       "      <th>454</th>\n",
       "      <td>VHL14587</td>\n",
       "      <td>Lagos</td>\n",
       "      <td>Mercedes-Benz</td>\n",
       "      <td>CLA-Class</td>\n",
       "      <td>2014</td>\n",
       "      <td>Blue</td>\n",
       "      <td>Foreign Used</td>\n",
       "      <td>82532.0</td>\n",
       "    </tr>\n",
       "    <tr>\n",
       "      <th>1377</th>\n",
       "      <td>VHL15384</td>\n",
       "      <td>Ibadan</td>\n",
       "      <td>Audi</td>\n",
       "      <td>TT</td>\n",
       "      <td>2004</td>\n",
       "      <td>Black</td>\n",
       "      <td>Foreign Used</td>\n",
       "      <td>195251.0</td>\n",
       "    </tr>\n",
       "  </tbody>\n",
       "</table>\n",
       "</div>"
      ],
      "text/plain": [
       "     VehicleID Location          Maker                        Model  Year  \\\n",
       "224   VHL11093    Lagos         Toyota                    Venza AWD  2011   \n",
       "1109  VHL19799    Abuja         Toyota                        Camry  2021   \n",
       "380   VHL17489    Lagos         Toyota  RAV4 XLE AWD (2.5L 4cyl 6A)  2017   \n",
       "454   VHL14587    Lagos  Mercedes-Benz                    CLA-Class  2014   \n",
       "1377  VHL15384   Ibadan           Audi                           TT  2004   \n",
       "\n",
       "     Colour          Type  Distance  \n",
       "224   Black  Foreign Used       0.0  \n",
       "1109   Gray  Foreign Used    3008.0  \n",
       "380     Red  Foreign Used       0.0  \n",
       "454    Blue  Foreign Used   82532.0  \n",
       "1377  Black  Foreign Used  195251.0  "
      ]
     },
     "execution_count": 52,
     "metadata": {},
     "output_type": "execute_result"
    }
   ],
   "source": [
    "test.head()"
   ]
  },
  {
   "cell_type": "code",
   "execution_count": 53,
   "id": "7094b14e",
   "metadata": {},
   "outputs": [
    {
     "data": {
      "text/html": [
       "<div>\n",
       "<style scoped>\n",
       "    .dataframe tbody tr th:only-of-type {\n",
       "        vertical-align: middle;\n",
       "    }\n",
       "\n",
       "    .dataframe tbody tr th {\n",
       "        vertical-align: top;\n",
       "    }\n",
       "\n",
       "    .dataframe thead th {\n",
       "        text-align: right;\n",
       "    }\n",
       "</style>\n",
       "<table border=\"1\" class=\"dataframe\">\n",
       "  <thead>\n",
       "    <tr style=\"text-align: right;\">\n",
       "      <th></th>\n",
       "      <th>VehicleID</th>\n",
       "      <th>Location</th>\n",
       "      <th>Maker</th>\n",
       "      <th>Model</th>\n",
       "      <th>Year</th>\n",
       "      <th>Colour</th>\n",
       "      <th>Type</th>\n",
       "      <th>Distance</th>\n",
       "    </tr>\n",
       "  </thead>\n",
       "  <tbody>\n",
       "  </tbody>\n",
       "</table>\n",
       "</div>"
      ],
      "text/plain": [
       "Empty DataFrame\n",
       "Columns: [VehicleID, Location, Maker, Model, Year, Colour, Type, Distance]\n",
       "Index: []"
      ]
     },
     "execution_count": 53,
     "metadata": {},
     "output_type": "execute_result"
    }
   ],
   "source": [
    "test.loc[test['Type'].isnull()]"
   ]
  },
  {
   "cell_type": "markdown",
   "id": "e62ca2f5",
   "metadata": {},
   "source": [
    "Done.\n",
    "\n",
    "Finally, let us fill the `Distance` column.\n",
    "\n",
    "To do this, I plan to create a mask for the train set, split that mask into 3 based on the number of unique values in the Type column and then find the mean of each split, and then use the mean ton fill the nan.\n",
    "\n",
    "I will repeat these same steps for the test set"
   ]
  },
  {
   "cell_type": "code",
   "execution_count": 54,
   "id": "dcc1985b",
   "metadata": {},
   "outputs": [
    {
     "data": {
      "text/plain": [
       "array([     0.,   3008.,  82532., ...,  69118., 303665., 145611.])"
      ]
     },
     "execution_count": 54,
     "metadata": {},
     "output_type": "execute_result"
    }
   ],
   "source": [
    "test.Distance.unique()"
   ]
  },
  {
   "cell_type": "markdown",
   "id": "e61e598c",
   "metadata": {},
   "source": [
    "### For Foreign Used"
   ]
  },
  {
   "cell_type": "code",
   "execution_count": 83,
   "id": "c65fe9c7",
   "metadata": {},
   "outputs": [],
   "source": [
    "df_fu = train.loc[train['Type'] == 'Foreign Used']"
   ]
  },
  {
   "cell_type": "code",
   "execution_count": 84,
   "id": "20ba0c03",
   "metadata": {},
   "outputs": [
    {
     "data": {
      "image/png": "[encoded data removed]",
      "text/plain": [
       "<Figure size 432x288 with 1 Axes>"
      ]
     },
     "metadata": {
      "needs_background": "light"
     },
     "output_type": "display_data"
    }
   ],
   "source": [
    "sns.barplot(y='Distance',x='Location', data=df_fu);"
   ]
  },
  {
   "cell_type": "code",
   "execution_count": 85,
   "id": "fae26e7c",
   "metadata": {},
   "outputs": [
    {
     "data": {
      "text/plain": [
       "dtype('float64')"
      ]
     },
     "execution_count": 85,
     "metadata": {},
     "output_type": "execute_result"
    }
   ],
   "source": [
    "df_fu['Distance'].dtypes"
   ]
  },
  {
   "cell_type": "code",
   "execution_count": 86,
   "id": "2d7e4180",
   "metadata": {},
   "outputs": [],
   "source": [
    "df_fu_filled = df_fu.loc[df_fu['Distance'] != 0.0]"
   ]
  },
  {
   "cell_type": "code",
   "execution_count": 87,
   "id": "cf02a97e",
   "metadata": {},
   "outputs": [
    {
     "data": {
      "text/plain": [
       "88190.35097056982"
      ]
     },
     "execution_count": 87,
     "metadata": {},
     "output_type": "execute_result"
    }
   ],
   "source": [
    "df_fu_filled['Distance'].mean()"
   ]
  },
  {
   "cell_type": "code",
   "execution_count": 88,
   "id": "9793b90e",
   "metadata": {},
   "outputs": [],
   "source": [
    "df_fu_0 = df_fu.loc[df_fu['Distance'] == 0.0]"
   ]
  },
  {
   "cell_type": "code",
   "execution_count": 89,
   "id": "c2a29e63",
   "metadata": {},
   "outputs": [
    {
     "name": "stderr",
     "output_type": "stream",
     "text": [
      "C:\\Users\\YASHIM~1\\AppData\\Local\\Temp/ipykernel_23432/1016355919.py:1: SettingWithCopyWarning: \n",
      "A value is trying to be set on a copy of a slice from a DataFrame.\n",
      "Try using .loc[row_indexer,col_indexer] = value instead\n",
      "\n",
      "See the caveats in the documentation: https://pandas.pydata.org/pandas-docs/stable/user_guide/indexing.html#returning-a-view-versus-a-copy\n",
      "  df_fu_0['Distance'] = df_fu.loc[df_fu['Distance'] == 0.0] = 88190.35\n",
      "C:\\Users\\YASHIM GABRIEL\\anaconda3\\lib\\site-packages\\pandas\\core\\indexing.py:1817: SettingWithCopyWarning: \n",
      "A value is trying to be set on a copy of a slice from a DataFrame.\n",
      "Try using .loc[row_indexer,col_indexer] = value instead\n",
      "\n",
      "See the caveats in the documentation: https://pandas.pydata.org/pandas-docs/stable/user_guide/indexing.html#returning-a-view-versus-a-copy\n",
      "  self._setitem_single_column(loc, value, pi)\n"
     ]
    }
   ],
   "source": [
    "df_fu_0['Distance'] = df_fu.loc[df_fu['Distance'] == 0.0] = 88190.35"
   ]
  },
  {
   "cell_type": "code",
   "execution_count": 90,
   "id": "c6f13ef3",
   "metadata": {},
   "outputs": [],
   "source": [
    "df_fu = pd.concat([df_fu_filled,df_fu_0])"
   ]
  },
  {
   "cell_type": "markdown",
   "id": "0101d4dc",
   "metadata": {},
   "source": [
    "### For Nigerian Used"
   ]
  },
  {
   "cell_type": "code",
   "execution_count": 91,
   "id": "870dbdcd",
   "metadata": {},
   "outputs": [],
   "source": [
    "df_nu = train.loc[train['Type'] == 'Nigerian Used']"
   ]
  },
  {
   "cell_type": "code",
   "execution_count": 92,
   "id": "02953fdd",
   "metadata": {},
   "outputs": [
    {
     "data": {
      "image/png": "[encoded data removed]",
      "text/plain": [
       "<Figure size 432x288 with 1 Axes>"
      ]
     },
     "metadata": {
      "needs_background": "light"
     },
     "output_type": "display_data"
    }
   ],
   "source": [
    "sns.barplot(y='Distance',x='Location', data=df_nu);"
   ]
  },
  {
   "cell_type": "code",
   "execution_count": 93,
   "id": "7eb245ed",
   "metadata": {},
   "outputs": [],
   "source": [
    "df_nu_filled = df_nu.loc[df_nu['Distance'] != 0.0]"
   ]
  },
  {
   "cell_type": "code",
   "execution_count": 94,
   "id": "0a937813",
   "metadata": {},
   "outputs": [
    {
     "data": {
      "text/plain": [
       "149082.7143874644"
      ]
     },
     "execution_count": 94,
     "metadata": {},
     "output_type": "execute_result"
    }
   ],
   "source": [
    "df_nu_filled['Distance'].mean()"
   ]
  },
  {
   "cell_type": "code",
   "execution_count": 95,
   "id": "7a94714a",
   "metadata": {},
   "outputs": [],
   "source": [
    "df_nu_0 = df_nu.loc[df_nu['Distance'] == 0.0]"
   ]
  },
  {
   "cell_type": "code",
   "execution_count": 96,
   "id": "f01678fa",
   "metadata": {},
   "outputs": [
    {
     "name": "stderr",
     "output_type": "stream",
     "text": [
      "C:\\Users\\YASHIM~1\\AppData\\Local\\Temp/ipykernel_23432/219699264.py:1: SettingWithCopyWarning: \n",
      "A value is trying to be set on a copy of a slice from a DataFrame.\n",
      "Try using .loc[row_indexer,col_indexer] = value instead\n",
      "\n",
      "See the caveats in the documentation: https://pandas.pydata.org/pandas-docs/stable/user_guide/indexing.html#returning-a-view-versus-a-copy\n",
      "  df_nu_0['Distance'] = df_nu.loc[df_nu['Distance'] == 0.0] = 149082.71\n",
      "C:\\Users\\YASHIM GABRIEL\\anaconda3\\lib\\site-packages\\pandas\\core\\indexing.py:1817: SettingWithCopyWarning: \n",
      "A value is trying to be set on a copy of a slice from a DataFrame.\n",
      "Try using .loc[row_indexer,col_indexer] = value instead\n",
      "\n",
      "See the caveats in the documentation: https://pandas.pydata.org/pandas-docs/stable/user_guide/indexing.html#returning-a-view-versus-a-copy\n",
      "  self._setitem_single_column(loc, value, pi)\n"
     ]
    }
   ],
   "source": [
    "df_nu_0['Distance'] = df_nu.loc[df_nu['Distance'] == 0.0] = 149082.71"
   ]
  },
  {
   "cell_type": "code",
   "execution_count": 97,
   "id": "71a84d2f",
   "metadata": {},
   "outputs": [],
   "source": [
    "df_nu = pd.concat([df_nu_filled,df_nu_0])"
   ]
  },
  {
   "cell_type": "markdown",
   "id": "dcf5ea4c",
   "metadata": {},
   "source": [
    "### For Brand New"
   ]
  },
  {
   "cell_type": "code",
   "execution_count": 98,
   "id": "84ff4557",
   "metadata": {},
   "outputs": [],
   "source": [
    "df_bn = train.loc[train['Type'] == 'Brand New']"
   ]
  },
  {
   "cell_type": "code",
   "execution_count": 99,
   "id": "461748d1",
   "metadata": {},
   "outputs": [
    {
     "data": {
      "image/png": "[encoded data removed]",
      "text/plain": [
       "<Figure size 432x288 with 1 Axes>"
      ]
     },
     "metadata": {
      "needs_background": "light"
     },
     "output_type": "display_data"
    }
   ],
   "source": [
    "sns.boxplot(y='Distance',x='Location', data=df_bn);"
   ]
  },
  {
   "cell_type": "code",
   "execution_count": 100,
   "id": "d67e6ab4",
   "metadata": {},
   "outputs": [],
   "source": [
    "df_bn_filled = df_bn.loc[df_bn['Distance'] != 0.0]"
   ]
  },
  {
   "cell_type": "code",
   "execution_count": 101,
   "id": "f580bdf3",
   "metadata": {},
   "outputs": [
    {
     "data": {
      "text/plain": [
       "34755.252100840335"
      ]
     },
     "execution_count": 101,
     "metadata": {},
     "output_type": "execute_result"
    }
   ],
   "source": [
    "df_bn_filled['Distance'].mean()"
   ]
  },
  {
   "cell_type": "code",
   "execution_count": 102,
   "id": "d83ea2d0",
   "metadata": {},
   "outputs": [],
   "source": [
    "df_bn_0 = df_bn.loc[df_bn['Distance'] == 0.0]"
   ]
  },
  {
   "cell_type": "code",
   "execution_count": 103,
   "id": "78029ee6",
   "metadata": {},
   "outputs": [
    {
     "name": "stderr",
     "output_type": "stream",
     "text": [
      "C:\\Users\\YASHIM~1\\AppData\\Local\\Temp/ipykernel_23432/3572459363.py:1: SettingWithCopyWarning: \n",
      "A value is trying to be set on a copy of a slice from a DataFrame.\n",
      "Try using .loc[row_indexer,col_indexer] = value instead\n",
      "\n",
      "See the caveats in the documentation: https://pandas.pydata.org/pandas-docs/stable/user_guide/indexing.html#returning-a-view-versus-a-copy\n",
      "  df_bn_0['Distance'] = df_bn.loc[df_bn['Distance'] == 0.0] = 34755.25\n",
      "C:\\Users\\YASHIM GABRIEL\\anaconda3\\lib\\site-packages\\pandas\\core\\indexing.py:1817: SettingWithCopyWarning: \n",
      "A value is trying to be set on a copy of a slice from a DataFrame.\n",
      "Try using .loc[row_indexer,col_indexer] = value instead\n",
      "\n",
      "See the caveats in the documentation: https://pandas.pydata.org/pandas-docs/stable/user_guide/indexing.html#returning-a-view-versus-a-copy\n",
      "  self._setitem_single_column(loc, value, pi)\n"
     ]
    }
   ],
   "source": [
    "df_bn_0['Distance'] = df_bn.loc[df_bn['Distance'] == 0.0] = 34755.25"
   ]
  },
  {
   "cell_type": "code",
   "execution_count": 104,
   "id": "aac8e57b",
   "metadata": {},
   "outputs": [],
   "source": [
    "df_bn = pd.concat([df_bn_filled,df_bn_0])"
   ]
  },
  {
   "cell_type": "markdown",
   "id": "5e9d28a6",
   "metadata": {},
   "source": [
    "### Joining the three dataframes (`df_fu`, `df_nu`, and `df_bn`) together."
   ]
  },
  {
   "cell_type": "code",
   "execution_count": 105,
   "id": "6e1f37ad",
   "metadata": {},
   "outputs": [],
   "source": [
    "train = pd.concat([df_fu,df_nu,df_bn])\n",
    "# test = pd.concat([df_fu,df_nu,df_bn])"
   ]
  },
  {
   "cell_type": "code",
   "execution_count": 106,
   "id": "2490398e",
   "metadata": {},
   "outputs": [
    {
     "data": {
      "text/plain": [
       "(7188, 9)"
      ]
     },
     "execution_count": 106,
     "metadata": {},
     "output_type": "execute_result"
    }
   ],
   "source": [
    "# train.shape\n",
    "train.shape"
   ]
  },
  {
   "cell_type": "code",
   "execution_count": 107,
   "id": "01cbd5e1",
   "metadata": {},
   "outputs": [
    {
     "data": {
      "text/html": [
       "<div>\n",
       "<style scoped>\n",
       "    .dataframe tbody tr th:only-of-type {\n",
       "        vertical-align: middle;\n",
       "    }\n",
       "\n",
       "    .dataframe tbody tr th {\n",
       "        vertical-align: top;\n",
       "    }\n",
       "\n",
       "    .dataframe thead th {\n",
       "        text-align: right;\n",
       "    }\n",
       "</style>\n",
       "<table border=\"1\" class=\"dataframe\">\n",
       "  <thead>\n",
       "    <tr style=\"text-align: right;\">\n",
       "      <th></th>\n",
       "      <th>VehicleID</th>\n",
       "      <th>Location</th>\n",
       "      <th>Maker</th>\n",
       "      <th>Model</th>\n",
       "      <th>Year</th>\n",
       "      <th>Colour</th>\n",
       "      <th>Amount (Million Naira)</th>\n",
       "      <th>Type</th>\n",
       "      <th>Distance</th>\n",
       "    </tr>\n",
       "  </thead>\n",
       "  <tbody>\n",
       "    <tr>\n",
       "      <th>722</th>\n",
       "      <td>VHL13672</td>\n",
       "      <td>Abuja</td>\n",
       "      <td>Lexus</td>\n",
       "      <td>LX 570 (5 Seats) AWD Matt</td>\n",
       "      <td>2021</td>\n",
       "      <td>Black</td>\n",
       "      <td>85.00</td>\n",
       "      <td>Brand New</td>\n",
       "      <td>34755.25</td>\n",
       "    </tr>\n",
       "    <tr>\n",
       "      <th>1467</th>\n",
       "      <td>VHL11430</td>\n",
       "      <td>Lagos</td>\n",
       "      <td>BMW</td>\n",
       "      <td>X5</td>\n",
       "      <td>2003</td>\n",
       "      <td>Black</td>\n",
       "      <td>1.52</td>\n",
       "      <td>Brand New</td>\n",
       "      <td>34755.25</td>\n",
       "    </tr>\n",
       "    <tr>\n",
       "      <th>6581</th>\n",
       "      <td>VHL19199</td>\n",
       "      <td>Abuja</td>\n",
       "      <td>Nissan</td>\n",
       "      <td>Nissan Armada</td>\n",
       "      <td>2021</td>\n",
       "      <td>White</td>\n",
       "      <td>73.00</td>\n",
       "      <td>Brand New</td>\n",
       "      <td>34755.25</td>\n",
       "    </tr>\n",
       "    <tr>\n",
       "      <th>582</th>\n",
       "      <td>VHL12809</td>\n",
       "      <td>Abuja</td>\n",
       "      <td>Toyota</td>\n",
       "      <td>Hilux</td>\n",
       "      <td>2021</td>\n",
       "      <td>White</td>\n",
       "      <td>22.50</td>\n",
       "      <td>Brand New</td>\n",
       "      <td>34755.25</td>\n",
       "    </tr>\n",
       "    <tr>\n",
       "      <th>6786</th>\n",
       "      <td>VHL13786</td>\n",
       "      <td>Abuja</td>\n",
       "      <td>Brabus</td>\n",
       "      <td>Brabus Rocket 900</td>\n",
       "      <td>2021</td>\n",
       "      <td>Black</td>\n",
       "      <td>450.00</td>\n",
       "      <td>Brand New</td>\n",
       "      <td>34755.25</td>\n",
       "    </tr>\n",
       "  </tbody>\n",
       "</table>\n",
       "</div>"
      ],
      "text/plain": [
       "     VehicleID Location   Maker                      Model  Year Colour  \\\n",
       "722   VHL13672    Abuja   Lexus  LX 570 (5 Seats) AWD Matt  2021  Black   \n",
       "1467  VHL11430    Lagos     BMW                         X5  2003  Black   \n",
       "6581  VHL19199    Abuja  Nissan              Nissan Armada  2021  White   \n",
       "582   VHL12809    Abuja  Toyota                      Hilux  2021  White   \n",
       "6786  VHL13786    Abuja  Brabus          Brabus Rocket 900  2021  Black   \n",
       "\n",
       "      Amount (Million Naira)       Type  Distance  \n",
       "722                    85.00  Brand New  34755.25  \n",
       "1467                    1.52  Brand New  34755.25  \n",
       "6581                   73.00  Brand New  34755.25  \n",
       "582                    22.50  Brand New  34755.25  \n",
       "6786                  450.00  Brand New  34755.25  "
      ]
     },
     "execution_count": 107,
     "metadata": {},
     "output_type": "execute_result"
    }
   ],
   "source": [
    "train.tail()"
   ]
  },
  {
   "cell_type": "code",
   "execution_count": 108,
   "id": "31be1fdb",
   "metadata": {},
   "outputs": [],
   "source": [
    "train = train.sample(frac=1, random_state=205)"
   ]
  },
  {
   "cell_type": "code",
   "execution_count": 109,
   "id": "301facb3",
   "metadata": {},
   "outputs": [
    {
     "name": "stdout",
     "output_type": "stream",
     "text": [
      "<class 'pandas.core.frame.DataFrame'>\n",
      "Int64Index: 7188 entries, 2200 to 479\n",
      "Data columns (total 9 columns):\n",
      " #   Column                  Non-Null Count  Dtype  \n",
      "---  ------                  --------------  -----  \n",
      " 0   VehicleID               7188 non-null   object \n",
      " 1   Location                7188 non-null   object \n",
      " 2   Maker                   7188 non-null   object \n",
      " 3   Model                   7188 non-null   object \n",
      " 4   Year                    7188 non-null   object \n",
      " 5   Colour                  7188 non-null   object \n",
      " 6   Amount (Million Naira)  7188 non-null   float64\n",
      " 7   Type                    7188 non-null   object \n",
      " 8   Distance                7188 non-null   float64\n",
      "dtypes: float64(2), object(7)\n",
      "memory usage: 561.6+ KB\n"
     ]
    }
   ],
   "source": [
    "train.info()"
   ]
  },
  {
   "cell_type": "code",
   "execution_count": 110,
   "id": "f49d255d",
   "metadata": {},
   "outputs": [
    {
     "data": {
      "text/plain": [
       "VehicleID                 0\n",
       "Location                  0\n",
       "Maker                     0\n",
       "Model                     0\n",
       "Year                      0\n",
       "Colour                    0\n",
       "Amount (Million Naira)    0\n",
       "Type                      0\n",
       "Distance                  0\n",
       "dtype: int64"
      ]
     },
     "execution_count": 110,
     "metadata": {},
     "output_type": "execute_result"
    }
   ],
   "source": [
    "train.isnull().sum()"
   ]
  },
  {
   "cell_type": "code",
   "execution_count": 111,
   "id": "23342f03",
   "metadata": {},
   "outputs": [],
   "source": [
    "# convert the year column into an integer column\n",
    "train['Year'] = train['Year'].astype(int)\n",
    "test['Year'] = test['Year'].astype(int)"
   ]
  },
  {
   "cell_type": "code",
   "execution_count": 112,
   "id": "0f5f436a",
   "metadata": {},
   "outputs": [
    {
     "name": "stdout",
     "output_type": "stream",
     "text": [
      "<class 'pandas.core.frame.DataFrame'>\n",
      "Int64Index: 2061 entries, 44 to 377\n",
      "Data columns (total 8 columns):\n",
      " #   Column     Non-Null Count  Dtype  \n",
      "---  ------     --------------  -----  \n",
      " 0   VehicleID  2061 non-null   object \n",
      " 1   Location   2061 non-null   object \n",
      " 2   Maker      2061 non-null   object \n",
      " 3   Model      2061 non-null   object \n",
      " 4   Year       2061 non-null   int32  \n",
      " 5   Colour     2061 non-null   object \n",
      " 6   Type       2061 non-null   object \n",
      " 7   Distance   2061 non-null   float64\n",
      "dtypes: float64(1), int32(1), object(6)\n",
      "memory usage: 136.9+ KB\n"
     ]
    }
   ],
   "source": [
    "test.info()"
   ]
  },
  {
   "cell_type": "code",
   "execution_count": 114,
   "id": "7adeb143",
   "metadata": {},
   "outputs": [],
   "source": [
    "train.to_csv('train_cleaned02.csv')"
   ]
  },
  {
   "cell_type": "markdown",
   "id": "795e7153",
   "metadata": {},
   "source": [
    "#### The end of the data cleaning phase"
   ]
  },
  {
   "cell_type": "code",
   "execution_count": null,
   "id": "3f5ea81c",
   "metadata": {},
   "outputs": [],
   "source": []
  }
 ],
 "metadata": {
  "kernelspec": {
   "display_name": "Python 3 (ipykernel)",
   "language": "python",
   "name": "python3"
  },
  "language_info": {
   "codemirror_mode": {
    "name": "ipython",
    "version": 3
   },
   "file_extension": ".py",
   "mimetype": "text/x-python",
   "name": "python",
   "nbconvert_exporter": "python",
   "pygments_lexer": "ipython3",
   "version": "3.9.13"
  }
 },
 "nbformat": 4,
 "nbformat_minor": 5
}
